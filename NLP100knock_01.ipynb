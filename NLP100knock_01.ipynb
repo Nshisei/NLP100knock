{
 "cells": [
  {
   "cell_type": "markdown",
   "metadata": {},
   "source": [
    "# 第１章：準備運動"
   ]
  },
  {
   "cell_type": "markdown",
   "metadata": {},
   "source": [
    "## 00.文字列の逆順\n",
    "文字列”stressed”の文字を逆に（末尾から先頭に向かって）並べた文字列を得よ．"
   ]
  },
  {
   "cell_type": "code",
   "execution_count": 5,
   "metadata": {},
   "outputs": [
    {
     "data": {
      "text/plain": [
       "'desserts'"
      ]
     },
     "execution_count": 5,
     "metadata": {},
     "output_type": "execute_result"
    }
   ],
   "source": [
    "s = \"stressed\"\n",
    "s[::-1]"
   ]
  },
  {
   "cell_type": "markdown",
   "metadata": {},
   "source": [
    "## 01.「パタトクカシーー」\n",
    "「パタトクカシーー」という文字列の1,3,5,7文字目を取り出して連結した文字列を得よ．"
   ]
  },
  {
   "cell_type": "code",
   "execution_count": 8,
   "metadata": {},
   "outputs": [
    {
     "data": {
      "text/plain": [
       "'パトカー'"
      ]
     },
     "execution_count": 8,
     "metadata": {},
     "output_type": "execute_result"
    }
   ],
   "source": [
    "s = \"パタトクカシー\"\n",
    "s[::2]"
   ]
  },
  {
   "cell_type": "markdown",
   "metadata": {},
   "source": [
    "## 02. 「パトカー」＋「タクシー」＝「パタトクカシーー」\n",
    "「パトカー」＋「タクシー」の文字を先頭から交互に連結して文字列「パタトクカシーー」を得よ．"
   ]
  },
  {
   "cell_type": "code",
   "execution_count": 12,
   "metadata": {},
   "outputs": [
    {
     "data": {
      "text/plain": [
       "'パタトクカシーー'"
      ]
     },
     "execution_count": 12,
     "metadata": {},
     "output_type": "execute_result"
    }
   ],
   "source": [
    "p = \"パトカー\"\n",
    "t = \"タクシー\"\n",
    "ans = \"\"\n",
    "for a, b in zip(p, t):\n",
    "    ans += a+b\n",
    "ans"
   ]
  },
  {
   "cell_type": "markdown",
   "metadata": {},
   "source": [
    "## 03. 円周率\n",
    "“Now I need a drink, alcoholic of course, after the heavy lectures involving quantum mechanics.”という文を単語に分解し，各単語の（アルファベットの）文字数を先頭から出現順に並べたリストを作成せよ．"
   ]
  },
  {
   "cell_type": "code",
   "execution_count": 34,
   "metadata": {},
   "outputs": [
    {
     "data": {
      "text/plain": [
       "[3, 1, 4, 1, 5, 9, 2, 6, 5, 3, 5, 8, 9, 7, 9]"
      ]
     },
     "execution_count": 34,
     "metadata": {},
     "output_type": "execute_result"
    }
   ],
   "source": [
    "from re import sub\n",
    "string = \"Now I need a drink, alcoholic of course, after the heavy lectures involving quantum mechanics.\"\n",
    "[len(s) for s in sub(',|\\.', '', string).split(' ')]"
   ]
  },
  {
   "cell_type": "markdown",
   "metadata": {},
   "source": [
    "## 04. 元素記号\n",
    "“Hi He Lied Because Boron Could Not Oxidize Fluorine. New Nations Might Also Sign Peace Security Clause. Arthur King Can.”という文を単語に分解し，1, 5, 6, 7, 8, 9, 15, 16, 19番目の単語は先頭の1文字，それ以外の単語は先頭の2文字を取り出し，取り出した文字列から単語の位置（先頭から何番目の単語か）への連想配列（辞書型もしくはマップ型）を作成せよ．"
   ]
  },
  {
   "cell_type": "code",
   "execution_count": 40,
   "metadata": {},
   "outputs": [
    {
     "data": {
      "text/plain": [
       "{'H': 0,\n",
       " 'He': 1,\n",
       " 'Li': 2,\n",
       " 'Be': 3,\n",
       " 'B': 4,\n",
       " 'C': 5,\n",
       " 'N': 6,\n",
       " 'O': 7,\n",
       " 'F': 8,\n",
       " 'Ne': 9,\n",
       " 'Na': 10,\n",
       " 'Mi': 11,\n",
       " 'Al': 12,\n",
       " 'Si': 13,\n",
       " 'P': 14,\n",
       " 'S': 15,\n",
       " 'Cl': 16,\n",
       " 'Ar': 17,\n",
       " 'K': 18,\n",
       " 'Ca': 19}"
      ]
     },
     "execution_count": 40,
     "metadata": {},
     "output_type": "execute_result"
    }
   ],
   "source": [
    "string = \"Hi He Lied Because Boron Could Not Oxidize Fluorine. New Nations Might Also Sign Peace Security Clause. Arthur King Can.\"\n",
    "dict([[s[:1],idx] if idx+1 in (1, 5, 6, 7, 8, 9, 15, 16, 19) else [s[:2],idx] for idx, s in enumerate(string.split(' '))])"
   ]
  },
  {
   "cell_type": "markdown",
   "metadata": {},
   "source": [
    "## 05. n-gram\n",
    "与えられたシーケンス（文字列やリストなど）からn-gramを作る関数を作成せよ．この関数を用い，”I am an NLPer”という文から単語bi-gram，文字bi-gramを得よ．"
   ]
  },
  {
   "cell_type": "code",
   "execution_count": 52,
   "metadata": {},
   "outputs": [
    {
     "data": {
      "text/plain": [
       "[['I', 'am', 'an'], ['am', 'an', 'NLPer']]"
      ]
     },
     "execution_count": 52,
     "metadata": {},
     "output_type": "execute_result"
    }
   ],
   "source": [
    "def n_gram(lst, n):\n",
    "    ans = []\n",
    "    s, e = 0, n # s:n-gramの最初の単語, e:n-gramの最後の単語\n",
    "    for _ in range(len(lst)-n+1): # 含まれるn-gramの個数分ループ\n",
    "        ans.append(lst[s:e])\n",
    "        s += 1 # n-gramセットの最初の単語の\n",
    "        e += 1 if n+1<= len(lst) else len(lst)\n",
    "    return ans\n",
    "string = \"I am an NLPer\"\n",
    "n_gram(string.split(' '), 3)"
   ]
  },
  {
   "cell_type": "markdown",
   "metadata": {},
   "source": [
    "## 06. 集合\n",
    "“paraparaparadise”と”paragraph”に含まれる文字bi-gramの集合を，それぞれ, XとYとして求め，XとYの和集合，積集合，差集合を求めよ．さらに，’se’というbi-gramがXおよびYに含まれるかどうかを調べよ．"
   ]
  },
  {
   "cell_type": "code",
   "execution_count": 62,
   "metadata": {},
   "outputs": [
    {
     "name": "stdout",
     "output_type": "stream",
     "text": [
      "和集合 {'ph', 'di', 'ad', 'ar', 'gr', 'is', 'se', 'ag', 'pa', 'ra', 'ap'}\n",
      "積集合 {'ar', 'pa', 'ra', 'ap'}\n",
      "差集合 {'di', 'ad', 'is', 'se'}\n",
      "\"se\" in X: True\n",
      "\"se\" in Y: False\n"
     ]
    }
   ],
   "source": [
    "X = set(n_gram(\"paraparaparadise\",2))\n",
    "Y = set(n_gram(\"paragraph\",2))\n",
    "print('和集合', X | Y)\n",
    "print('積集合', X & Y)\n",
    "print('差集合', X - Y)\n",
    "print('\"se\" in X:', \"se\" in X)\n",
    "print('\"se\" in Y:', \"se\" in Y)"
   ]
  },
  {
   "cell_type": "markdown",
   "metadata": {},
   "source": [
    "## 07. テンプレートによる文生成\n",
    "引数x, y, zを受け取り「x時のyはz」という文字列を返す関数を実装せよ．さらに，x=12, y=”気温”, z=22.4として，実行結果を確認せよ．\n",
    "\n"
   ]
  },
  {
   "cell_type": "code",
   "execution_count": 60,
   "metadata": {},
   "outputs": [
    {
     "name": "stdout",
     "output_type": "stream",
     "text": [
      "12時の気温は22.4\n"
     ]
    }
   ],
   "source": [
    "def print_time_and_temperature(x, y, z):\n",
    "    print(f'{x}時の{y}は{z}')\n",
    "x = 12\n",
    "y = \"気温\"\n",
    "z = 22.4\n",
    "print_time_and_temperature(x,y,z)"
   ]
  },
  {
   "cell_type": "markdown",
   "metadata": {},
   "source": [
    "## 08. 暗号文\n",
    "与えられた文字列の各文字を，以下の仕様で変換する関数cipherを実装せよ．\n",
    "\n",
    "英小文字ならば(219 - 文字コード)の文字に置換\n",
    "その他の文字はそのまま出力\n",
    "この関数を用い，英語のメッセージを暗号化・復号化せよ．"
   ]
  },
  {
   "cell_type": "code",
   "execution_count": 65,
   "metadata": {},
   "outputs": [
    {
     "name": "stdout",
     "output_type": "stream",
     "text": [
      "平文 This is CiPheR\n",
      "暗号文 Tsrh rh CrPsvR\n",
      "復号文 This is CiPheR\n"
     ]
    }
   ],
   "source": [
    "def cipher(string):\n",
    "    return \"\".join([chr(219 - ord(s)) if s.islower() else s for s in string])\n",
    "m = \"This is CiPheR\"\n",
    "c = cipher(m)\n",
    "d = cipher(c)\n",
    "print('平文', m)\n",
    "print('暗号文', c)\n",
    "print('復号文', d)"
   ]
  },
  {
   "cell_type": "markdown",
   "metadata": {},
   "source": [
    "## 09. Typoglycemia\n",
    "スペースで区切られた単語列に対して，各単語の先頭と末尾の文字は残し，それ以外の文字の順序をランダムに並び替えるプログラムを作成せよ．ただし，長さが４以下の単語は並び替えないこととする．適当な英語の文（例えば”I couldn’t believe that I could actually understand what I was reading : the phenomenal power of the human mind .”）を与え，その実行結果を確認せよ．"
   ]
  },
  {
   "cell_type": "code",
   "execution_count": 108,
   "metadata": {},
   "outputs": [
    {
     "data": {
      "text/plain": [
       "'I cl’dunot beeilve that I colud actlualy untdasnerd what I was rdianeg : the pnhmoeneal power of the human mind'"
      ]
     },
     "execution_count": 108,
     "metadata": {},
     "output_type": "execute_result"
    }
   ],
   "source": [
    "from random import sample\n",
    "def random_swap(string):\n",
    "    string = string.split(' ')\n",
    "    for idx, s in enumerate(string):\n",
    "        if len(s) <= 4:\n",
    "            string[idx] = s\n",
    "        else:\n",
    "            string[idx] = s[0] + ''.join(sample(s[1:-1], len(s[1:-1]))) + s[-1]\n",
    "    return ' '.join(string)\n",
    "random_swap(\"I couldn’t believe that I could actually understand what I was reading : the phenomenal power of the human mind\")"
   ]
  }
 ],
 "metadata": {
  "kernelspec": {
   "display_name": "Python 3",
   "language": "python",
   "name": "python3"
  },
  "language_info": {
   "codemirror_mode": {
    "name": "ipython",
    "version": 3
   },
   "file_extension": ".py",
   "mimetype": "text/x-python",
   "name": "python",
   "nbconvert_exporter": "python",
   "pygments_lexer": "ipython3",
   "version": "3.7.3"
  }
 },
 "nbformat": 4,
 "nbformat_minor": 2
}

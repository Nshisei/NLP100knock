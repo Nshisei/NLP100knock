{
 "cells": [
  {
   "cell_type": "markdown",
   "metadata": {},
   "source": [
    "# 第４章"
   ]
  },
  {
   "cell_type": "code",
   "execution_count": 1,
   "metadata": {},
   "outputs": [
    {
     "name": "stdout",
     "output_type": "stream",
     "text": [
      "--2022-04-17 00:36:52--  https://nlp100.github.io/data/neko.txt\n",
      "Resolving nlp100.github.io (nlp100.github.io)... 185.199.110.153, 185.199.109.153, 185.199.108.153, ...\n",
      "Connecting to nlp100.github.io (nlp100.github.io)|185.199.110.153|:443... connected.\n",
      "HTTP request sent, awaiting response... 200 OK\n",
      "Length: 975789 (953K) [text/plain]\n",
      "Saving to: ‘neko.txt.1’\n",
      "\n",
      "neko.txt.1          100%[===================>] 952.92K  2.65MB/s    in 0.4s    \n",
      "\n",
      "2022-04-17 00:36:53 (2.65 MB/s) - ‘neko.txt.1’ saved [975789/975789]\n",
      "\n"
     ]
    }
   ],
   "source": [
    "!wget https://nlp100.github.io/data/neko.txt"
   ]
  },
  {
   "cell_type": "code",
   "execution_count": 2,
   "metadata": {},
   "outputs": [],
   "source": [
    "!mecab -o neko.txt.mecab neko.txt"
   ]
  },
  {
   "cell_type": "code",
   "execution_count": 3,
   "metadata": {},
   "outputs": [],
   "source": [
    "import matplotlib.pyplot as plt\n",
    "import pandas as pd\n",
    "plt.rcParams['font.family'] = 'Noto Sans JP'"
   ]
  },
  {
   "cell_type": "markdown",
   "metadata": {},
   "source": [
    "## 30. 形態素解析結果の読み込み\n",
    "形態素解析結果（neko.txt.mecab）を読み込むプログラムを実装せよ．ただし，各形態素は表層形（surface），基本形（base），品詞（pos），品詞細分類1（pos1）をキーとするマッピング型に格納し，1文を形態素（マッピング型）のリストとして表現せよ．第4章の残りの問題では，ここで作ったプログラムを活用せよ"
   ]
  },
  {
   "cell_type": "code",
   "execution_count": 4,
   "metadata": {},
   "outputs": [
    {
     "data": {
      "text/plain": [
       "[{'surface': '\\u3000', 'base': '\\u3000', 'pos': '記号', 'pos1': '空白'},\n",
       " {'surface': '吾輩', 'base': '吾輩', 'pos': '名詞', 'pos1': '代名詞'},\n",
       " {'surface': 'は', 'base': 'は', 'pos': '助詞', 'pos1': '係助詞'},\n",
       " {'surface': '猫', 'base': '猫', 'pos': '名詞', 'pos1': '一般'},\n",
       " {'surface': 'で', 'base': 'だ', 'pos': '助動詞', 'pos1': '*'},\n",
       " {'surface': 'ある', 'base': 'ある', 'pos': '助動詞', 'pos1': '*'},\n",
       " {'surface': '。', 'base': '。', 'pos': '記号', 'pos1': '句点'}]"
      ]
     },
     "execution_count": 4,
     "metadata": {},
     "output_type": "execute_result"
    }
   ],
   "source": [
    "sentences = []\n",
    "morphs = []\n",
    "with open('neko.txt.mecab', mode='r') as f:\n",
    "  for l in f:\n",
    "    if l != 'EOS\\n':  # 文末以外：形態素解析情報を辞書型に格納して形態素リストに追加\n",
    "      fields = l.split('\\t')\n",
    "      if len(fields) != 2 or fields[0] == '':  # 文頭以外の空白と改行文字はスキップ\n",
    "        continue\n",
    "      else:\n",
    "        attr =  fields[1].split(',')\n",
    "        morph = {'surface': fields[0], 'base': attr[6], 'pos': attr[0], 'pos1': attr[1]}\n",
    "        morphs.append(morph)\n",
    "    elif morphs != []:  # 文末ごとに文章の形態素リストが存在すればそれを登録\n",
    "      sentences.append(morphs)\n",
    "      morphs = []\n",
    "sentences[1]"
   ]
  },
  {
   "cell_type": "markdown",
   "metadata": {},
   "source": [
    "## 31. 動詞\n",
    "動詞の表層形をすべて抽出せよ．"
   ]
  },
  {
   "cell_type": "code",
   "execution_count": null,
   "metadata": {},
   "outputs": [
    {
     "data": {
      "text/plain": [
       "['兼ねる', '召し上がれ', '寄り', 'はっ', '見かね', '限ら', 'はらっ', '乱れ', 'ふざけ', 'まて']"
      ]
     },
     "execution_count": 5,
     "metadata": {},
     "output_type": "execute_result"
    }
   ],
   "source": [
    "ans = set()\n",
    "for sentence in sentences:\n",
    "    for morph in sentence:\n",
    "        if morph['pos'] == '動詞':\n",
    "            ans.add(morph['surface'])\n",
    "list(ans)[:10]"
   ]
  },
  {
   "cell_type": "markdown",
   "metadata": {},
   "source": [
    "## 32. 動詞の基本形\n",
    "動詞の基本形をすべて抽出せよ．"
   ]
  },
  {
   "cell_type": "code",
   "execution_count": null,
   "metadata": {},
   "outputs": [
    {
     "data": {
      "text/plain": [
       "['兼ねる', '逆らう', '飽く', '突き付ける', '詰める', '傾ける', '凹ます', 'のろける', '究める', '達する']"
      ]
     },
     "execution_count": 6,
     "metadata": {},
     "output_type": "execute_result"
    }
   ],
   "source": [
    "ans = set()\n",
    "for sentence in sentences:\n",
    "    for morph in sentence:\n",
    "        if morph['pos'] == '動詞':\n",
    "            ans.add(morph['base'])\n",
    "list(ans)[:10]"
   ]
  },
  {
   "cell_type": "markdown",
   "metadata": {},
   "source": [
    "## 33. 「AのB」\n",
    "2つの名詞が「の」で連結されている名詞句を抽出せよ．"
   ]
  },
  {
   "cell_type": "code",
   "execution_count": null,
   "metadata": {},
   "outputs": [
    {
     "data": {
      "text/plain": [
       "['母堂のそれ',\n",
       " 'はずの者',\n",
       " '魚の往生',\n",
       " '策の得',\n",
       " '息の穴',\n",
       " '袋の中',\n",
       " '英語のリードル',\n",
       " '列の中',\n",
       " '釜の底',\n",
       " '大名のよう']"
      ]
     },
     "execution_count": 7,
     "metadata": {},
     "output_type": "execute_result"
    }
   ],
   "source": [
    "ans = set()\n",
    "for sentence in sentences:\n",
    "    for i in range(1, len(sentence)-1):\n",
    "        if sentence[i-1]['pos'] == '名詞' and sentence[i]['surface'] == 'の' and sentence[i+1]['pos'] == '名詞':\n",
    "            ans.add(sentence[i-1]['surface']+sentence[i]['surface']+sentence[i+1]['surface'])\n",
    "list(ans)[:10]"
   ]
  },
  {
   "cell_type": "markdown",
   "metadata": {},
   "source": [
    "## 34. 名詞の連接\n",
    "名詞の連接（連続して出現する名詞）を最長一致で抽出せよ．"
   ]
  },
  {
   "cell_type": "code",
   "execution_count": null,
   "metadata": {},
   "outputs": [
    {
     "data": {
      "text/plain": [
       "['何だい俳体詩', '庸人', '壊わし', 'それぎりかい', '嬢さま', '用事相談', '誰か路', '迷亭先生', '二三品', '大分人']"
      ]
     },
     "execution_count": 8,
     "metadata": {},
     "output_type": "execute_result"
    }
   ],
   "source": [
    "ans = set()\n",
    "for sentence in sentences:\n",
    "    tmp = \"\" # 連続する名詞\n",
    "    n = 0 # 名詞が連続する回数\n",
    "    for morph in sentence:\n",
    "        if morph['pos'] == '名詞':\n",
    "            tmp += morph['surface']\n",
    "            n += 1\n",
    "        elif n > 1: # 名詞が2回以上登場したら登録\n",
    "            ans.add(tmp)\n",
    "            tmp = \"\"\n",
    "            n = 0\n",
    "        else: # 名詞が1回以下ならスキップ\n",
    "            tmp = \"\"\n",
    "            n = 0\n",
    "    if n > 1:\n",
    "        ans.add(tmp)\n",
    "list(ans)[:10]"
   ]
  },
  {
   "cell_type": "markdown",
   "metadata": {},
   "source": [
    "## 35. 単語の出現頻度\n",
    "文章中に出現する単語とその出現頻度を求め，出現頻度の高い順に並べよ．"
   ]
  },
  {
   "cell_type": "code",
   "execution_count": null,
   "metadata": {},
   "outputs": [
    {
     "data": {
      "text/html": [
       "<div>\n",
       "<style scoped>\n",
       "    .dataframe tbody tr th:only-of-type {\n",
       "        vertical-align: middle;\n",
       "    }\n",
       "\n",
       "    .dataframe tbody tr th {\n",
       "        vertical-align: top;\n",
       "    }\n",
       "\n",
       "    .dataframe thead th {\n",
       "        text-align: right;\n",
       "    }\n",
       "</style>\n",
       "<table border=\"1\" class=\"dataframe\">\n",
       "  <thead>\n",
       "    <tr style=\"text-align: right;\">\n",
       "      <th></th>\n",
       "      <th>0</th>\n",
       "    </tr>\n",
       "  </thead>\n",
       "  <tbody>\n",
       "    <tr>\n",
       "      <th>一</th>\n",
       "      <td>554</td>\n",
       "    </tr>\n",
       "    <tr>\n",
       "      <th></th>\n",
       "      <td>411</td>\n",
       "    </tr>\n",
       "    <tr>\n",
       "      <th>吾輩</th>\n",
       "      <td>481</td>\n",
       "    </tr>\n",
       "    <tr>\n",
       "      <th>は</th>\n",
       "      <td>6420</td>\n",
       "    </tr>\n",
       "    <tr>\n",
       "      <th>猫</th>\n",
       "      <td>248</td>\n",
       "    </tr>\n",
       "  </tbody>\n",
       "</table>\n",
       "</div>"
      ],
      "text/plain": [
       "       0\n",
       "一    554\n",
       "　    411\n",
       "吾輩   481\n",
       "は   6420\n",
       "猫    248"
      ]
     },
     "execution_count": 9,
     "metadata": {},
     "output_type": "execute_result"
    }
   ],
   "source": [
    "dic = {}\n",
    "for sentence in sentences:\n",
    "    for morph in sentence:\n",
    "        if morph['surface'] in dic.keys():\n",
    "            dic[morph['surface']] += 1\n",
    "        else:\n",
    "            dic[morph['surface']] = 1\n",
    "df = pd.DataFrame(dic.values(), index=dic.keys())\n",
    "df.head()"
   ]
  },
  {
   "cell_type": "markdown",
   "metadata": {},
   "source": [
    "## 36. 頻度上位10語\n",
    "出現頻度が高い10語とその出現頻度をグラフ（例えば棒グラフなど）で表示せよ．"
   ]
  },
  {
   "cell_type": "code",
   "execution_count": null,
   "metadata": {},
   "outputs": [
    {
     "data": {
      "image/png": "[encoded data removed]",
      "text/plain": [
       "<Figure size 432x288 with 1 Axes>"
      ]
     },
     "metadata": {
      "needs_background": "light"
     },
     "output_type": "display_data"
    }
   ],
   "source": [
    "import numpy as np\n",
    "import matplotlib.pyplot as plt\n",
    "top10 = df.sort_values(by=0, ascending=False).head(10) \n",
    "plt.bar(top10.index, top10[0], tick_label=top10.index, align=\"center\")\n",
    "plt.show()"
   ]
  },
  {
   "cell_type": "markdown",
   "metadata": {},
   "source": [
    "## 37. 「猫」と共起頻度の高い上位10語\n",
    "「猫」とよく共起する（共起頻度が高い）10語とその出現頻度をグラフ（例えば棒グラフなど）で表示せよ．"
   ]
  },
  {
   "cell_type": "code",
   "execution_count": null,
   "metadata": {},
   "outputs": [],
   "source": [
    "# 文章中に「猫」が含まれる文を対象に、単語の出現頻度を集計する\n",
    "dic = {}\n",
    "for sentence in sentences:\n",
    "    if '猫' in [morph['surface'] for morph in sentence]:\n",
    "        for morph in sentence:\n",
    "            if morph['surface'] in dic.keys():\n",
    "                dic[morph['surface']] += 1\n",
    "            elif morph['surface'] != '猫':\n",
    "                dic[morph['surface']] = 1\n",
    "cat_df = pd.DataFrame(dic.values(), index=dic.keys())\n",
    "top10 = cat_df.sort_values(by=0, ascending=False).head(10) \n",
    "plt.bar(top10.index, top10[0], tick_label=top10.index, align=\"center\")\n",
    "plt.show()"
   ]
  },
  {
   "cell_type": "markdown",
   "metadata": {},
   "source": [
    "## 38. ヒストグラム\n",
    "単語の出現頻度のヒストグラムを描け．ただし，横軸は出現頻度を表し，1から単語の出現頻度の最大値までの線形目盛とする．縦軸はx軸で示される出現頻度となった単語の異なり数（種類数）である"
   ]
  },
  {
   "cell_type": "code",
   "execution_count": null,
   "metadata": {},
   "outputs": [],
   "source": [
    "plt.hist(df[0], bins=100)\n",
    "plt.show()"
   ]
  },
  {
   "cell_type": "markdown",
   "metadata": {},
   "source": [
    "## 39. Zipfの法則\n",
    "単語の出現頻度順位を横軸，その出現頻度を縦軸として，両対数グラフをプロットせよ．"
   ]
  },
  {
   "cell_type": "code",
   "execution_count": null,
   "metadata": {},
   "outputs": [],
   "source": [
    "df['rank'] = df[0].rank(ascending=False)\n",
    "plt.figure(figsize=(8, 4))\n",
    "plt.scatter(df['rank'], df[0])\n",
    "plt.xscale('log') # x軸をlogスケールで描く\n",
    "plt.yscale('log') # y軸をlogスケールで描く\n",
    "plt.xlabel('出現頻度順位')\n",
    "plt.ylabel('出現頻度')\n",
    "plt.show()"
   ]
  }
 ],
 "metadata": {
  "kernelspec": {
   "display_name": "Python 3",
   "language": "python",
   "name": "python3"
  },
  "language_info": {
   "codemirror_mode": {
    "name": "ipython",
    "version": 3
   },
   "file_extension": ".py",
   "mimetype": "text/x-python",
   "name": "python",
   "nbconvert_exporter": "python",
   "pygments_lexer": "ipython3",
   "version": "3.7.3"
  }
 },
 "nbformat": 4,
 "nbformat_minor": 2
}

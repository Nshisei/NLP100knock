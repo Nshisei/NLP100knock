{
 "cells": [
  {
   "cell_type": "markdown",
   "id": "f63db908-c8d3-489e-b054-8ec37a31a0e9",
   "metadata": {},
   "source": [
    "# 第７章"
   ]
  },
  {
   "cell_type": "code",
   "execution_count": 1,
   "id": "5fc0b064-49e6-4483-8439-15d71f54391a",
   "metadata": {},
   "outputs": [],
   "source": [
    "from gensim.models import KeyedVectors\n",
    "model = KeyedVectors.load_word2vec_format('./GoogleNews-vectors-negative300.bin.gz', binary=True)"
   ]
  },
  {
   "cell_type": "markdown",
   "id": "25917ae7-c9ea-47f9-b4c5-89e1aa296f4c",
   "metadata": {},
   "source": [
    "## 60. 単語ベクトルの読み込みと表示\n",
    "Google Newsデータセット（約1,000億単語）での学習済み単語ベクトル（300万単語・フレーズ，300次元）をダウンロードし，”United States”の単語ベクトルを表示せよ．ただし，”United States”は内部的には”United_States”と表現されていることに注意せよ．"
   ]
  },
  {
   "cell_type": "code",
   "execution_count": 8,
   "id": "ae1eacc9-188c-41b2-a300-23162debac1b",
   "metadata": {},
   "outputs": [
    {
     "data": {
      "text/plain": [
       "array([-3.61328125e-02, -4.83398438e-02,  2.35351562e-01,  1.74804688e-01,\n",
       "       -1.46484375e-01, -7.42187500e-02, -1.01562500e-01, -7.71484375e-02,\n",
       "        1.09375000e-01, -5.71289062e-02, -1.48437500e-01, -6.00585938e-02,\n",
       "        1.74804688e-01, -7.71484375e-02,  2.58789062e-02, -7.66601562e-02,\n",
       "       -3.80859375e-02,  1.35742188e-01,  3.75976562e-02, -4.19921875e-02,\n",
       "       -3.56445312e-02,  5.34667969e-02,  3.68118286e-04, -1.66992188e-01,\n",
       "       -1.17187500e-01,  1.41601562e-01, -1.69921875e-01, -6.49414062e-02,\n",
       "       -1.66992188e-01,  1.00585938e-01,  1.15722656e-01, -2.18750000e-01,\n",
       "       -9.86328125e-02, -2.56347656e-02,  1.23046875e-01, -3.54003906e-02,\n",
       "       -1.58203125e-01, -1.60156250e-01,  2.94189453e-02,  8.15429688e-02,\n",
       "        6.88476562e-02,  1.87500000e-01,  6.49414062e-02,  1.15234375e-01,\n",
       "       -2.27050781e-02,  3.32031250e-01, -3.27148438e-02,  1.77734375e-01,\n",
       "       -2.08007812e-01,  4.54101562e-02, -1.23901367e-02,  1.19628906e-01,\n",
       "        7.44628906e-03, -9.03320312e-03,  1.14257812e-01,  1.69921875e-01,\n",
       "       -2.38281250e-01, -2.79541016e-02, -1.21093750e-01,  2.47802734e-02,\n",
       "        7.71484375e-02, -2.81982422e-02, -4.71191406e-02,  1.78222656e-02,\n",
       "       -1.23046875e-01, -5.32226562e-02,  2.68554688e-02, -3.11279297e-02,\n",
       "       -5.59082031e-02, -5.00488281e-02, -3.73535156e-02,  1.25976562e-01,\n",
       "        5.61523438e-02,  1.51367188e-01,  4.29687500e-02, -2.08007812e-01,\n",
       "       -4.78515625e-02,  2.78320312e-02,  1.81640625e-01,  2.20703125e-01,\n",
       "       -3.61328125e-02, -8.39843750e-02, -3.69548798e-05, -9.52148438e-02,\n",
       "       -1.25000000e-01, -1.95312500e-01, -1.50390625e-01, -4.15039062e-02,\n",
       "        1.31835938e-01,  1.17675781e-01,  1.91650391e-02,  5.51757812e-02,\n",
       "       -9.42382812e-02, -1.08886719e-01,  7.32421875e-02, -1.15234375e-01,\n",
       "        8.93554688e-02, -1.40625000e-01,  1.45507812e-01,  4.49218750e-02,\n",
       "       -1.10473633e-02, -1.62353516e-02,  4.05883789e-03,  3.75976562e-02,\n",
       "       -6.98242188e-02, -5.46875000e-02,  2.17285156e-02, -9.47265625e-02,\n",
       "        4.24804688e-02,  1.81884766e-02, -1.73339844e-02,  4.63867188e-02,\n",
       "       -1.42578125e-01,  1.99218750e-01,  1.10839844e-01,  2.58789062e-02,\n",
       "       -7.08007812e-02, -5.54199219e-02,  3.45703125e-01,  1.61132812e-01,\n",
       "       -2.44140625e-01, -2.59765625e-01, -9.71679688e-02,  8.00781250e-02,\n",
       "       -8.78906250e-02, -7.22656250e-02,  1.42578125e-01, -8.54492188e-02,\n",
       "       -3.18359375e-01,  8.30078125e-02,  6.34765625e-02,  1.64062500e-01,\n",
       "       -1.92382812e-01, -1.17675781e-01, -5.41992188e-02, -1.56250000e-01,\n",
       "       -1.21582031e-01, -4.95605469e-02,  1.20117188e-01, -3.83300781e-02,\n",
       "        5.51757812e-02, -8.97216797e-03,  4.32128906e-02,  6.93359375e-02,\n",
       "        8.93554688e-02,  2.53906250e-01,  1.65039062e-01,  1.64062500e-01,\n",
       "       -1.41601562e-01,  4.58984375e-02,  1.97265625e-01, -8.98437500e-02,\n",
       "        3.90625000e-02, -1.51367188e-01, -8.60595703e-03, -1.17675781e-01,\n",
       "       -1.97265625e-01, -1.12792969e-01,  1.29882812e-01,  1.96289062e-01,\n",
       "        1.56402588e-03,  3.93066406e-02,  2.17773438e-01, -1.43554688e-01,\n",
       "        6.03027344e-02, -1.35742188e-01,  1.16210938e-01, -1.59912109e-02,\n",
       "        2.79296875e-01,  1.46484375e-01, -1.19628906e-01,  1.76757812e-01,\n",
       "        1.28906250e-01, -1.49414062e-01,  6.93359375e-02, -1.72851562e-01,\n",
       "        9.22851562e-02,  1.33056641e-02, -2.00195312e-01, -9.76562500e-02,\n",
       "       -1.65039062e-01, -2.46093750e-01, -2.35595703e-02, -2.11914062e-01,\n",
       "        1.84570312e-01, -1.85546875e-02,  2.16796875e-01,  5.05371094e-02,\n",
       "        2.02636719e-02,  4.25781250e-01,  1.28906250e-01, -2.77099609e-02,\n",
       "        1.29882812e-01, -1.15722656e-01, -2.05078125e-02,  1.49414062e-01,\n",
       "        7.81250000e-03, -2.05078125e-01, -8.05664062e-02, -2.67578125e-01,\n",
       "       -2.29492188e-02, -8.20312500e-02,  8.64257812e-02,  7.61718750e-02,\n",
       "       -3.66210938e-02,  5.22460938e-02, -1.22070312e-01, -1.44042969e-02,\n",
       "       -2.69531250e-01,  8.44726562e-02, -2.52685547e-02, -2.96630859e-02,\n",
       "       -1.68945312e-01,  1.93359375e-01, -1.08398438e-01,  1.94091797e-02,\n",
       "       -1.80664062e-01,  1.93359375e-01, -7.08007812e-02,  5.85937500e-02,\n",
       "       -1.01562500e-01, -1.31835938e-01,  7.51953125e-02, -7.66601562e-02,\n",
       "        3.37219238e-03, -8.59375000e-02,  1.25000000e-01,  2.92968750e-02,\n",
       "        1.70898438e-01, -9.37500000e-02, -1.09375000e-01, -2.50244141e-02,\n",
       "        2.11914062e-01, -4.44335938e-02,  6.12792969e-02,  2.62451172e-02,\n",
       "       -1.77734375e-01,  1.23046875e-01, -7.42187500e-02, -1.67968750e-01,\n",
       "       -1.08886719e-01, -9.04083252e-04, -7.37304688e-02,  5.49316406e-02,\n",
       "        6.03027344e-02,  8.39843750e-02,  9.17968750e-02, -1.32812500e-01,\n",
       "        1.22070312e-01, -8.78906250e-03,  1.19140625e-01, -1.94335938e-01,\n",
       "       -6.64062500e-02, -2.07031250e-01,  7.37304688e-02,  8.93554688e-02,\n",
       "        1.81884766e-02, -1.20605469e-01, -2.61230469e-02,  2.67333984e-02,\n",
       "        7.76367188e-02, -8.30078125e-02,  6.78710938e-02, -3.54003906e-02,\n",
       "        3.10546875e-01, -2.42919922e-02, -1.41601562e-01, -2.08007812e-01,\n",
       "       -4.57763672e-03, -6.54296875e-02, -4.95605469e-02,  2.22656250e-01,\n",
       "        1.53320312e-01, -1.38671875e-01, -5.24902344e-02,  4.24804688e-02,\n",
       "       -2.38281250e-01,  1.56250000e-01,  5.83648682e-04, -1.20605469e-01,\n",
       "       -9.22851562e-02, -4.44335938e-02,  3.61328125e-02, -1.86767578e-02,\n",
       "       -8.25195312e-02, -8.25195312e-02, -4.05273438e-02,  1.19018555e-02,\n",
       "        1.69921875e-01, -2.80761719e-02,  3.03649902e-03,  9.32617188e-02,\n",
       "       -8.49609375e-02,  1.57470703e-02,  7.03125000e-02,  1.62353516e-02,\n",
       "       -2.27050781e-02,  3.51562500e-02,  2.47070312e-01, -2.67333984e-02],\n",
       "      dtype=float32)"
      ]
     },
     "execution_count": 8,
     "metadata": {},
     "output_type": "execute_result"
    }
   ],
   "source": [
    "model['United_States']"
   ]
  },
  {
   "cell_type": "markdown",
   "id": "558736b8-01f5-41c3-bc80-aa1c51a567ec",
   "metadata": {},
   "source": [
    "## 61. 単語の類似度\n",
    "“United States”と”U.S.”のコサイン類似度を計算せよ．"
   ]
  },
  {
   "cell_type": "code",
   "execution_count": 9,
   "id": "24c0d71a-a1ae-4ef4-aec5-9471fdada1a1",
   "metadata": {},
   "outputs": [
    {
     "data": {
      "text/plain": [
       "0.73107743"
      ]
     },
     "execution_count": 9,
     "metadata": {},
     "output_type": "execute_result"
    }
   ],
   "source": [
    "model.similarity('United_States', 'U.S.')"
   ]
  },
  {
   "cell_type": "markdown",
   "id": "5e07a554-5cf5-4a27-a88d-34f5dd1845b8",
   "metadata": {},
   "source": [
    "## 62. 類似度の高い単語10件\n",
    "“United States”とコサイン類似度が高い10語と，その類似度を出力せよ"
   ]
  },
  {
   "cell_type": "code",
   "execution_count": 11,
   "id": "e16c4905-d7e7-4ddb-8ef4-b813efe2109a",
   "metadata": {},
   "outputs": [
    {
     "data": {
      "text/plain": [
       "[('Unites_States', 0.7877248525619507),\n",
       " ('Untied_States', 0.7541370391845703),\n",
       " ('United_Sates', 0.7400725483894348),\n",
       " ('U.S.', 0.7310774326324463),\n",
       " ('theUnited_States', 0.6404393911361694),\n",
       " ('America', 0.6178410053253174),\n",
       " ('UnitedStates', 0.6167312264442444),\n",
       " ('Europe', 0.6132988929748535),\n",
       " ('countries', 0.6044804453849792),\n",
       " ('Canada', 0.6019070148468018)]"
      ]
     },
     "execution_count": 11,
     "metadata": {},
     "output_type": "execute_result"
    }
   ],
   "source": [
    "model.most_similar('United_States', topn=10)"
   ]
  },
  {
   "cell_type": "markdown",
   "id": "31ecb7e8-4bb1-48d4-ac40-9594b21c7b6c",
   "metadata": {},
   "source": [
    "## 63. 加法構成性によるアナロジー\n",
    "“Spain”の単語ベクトルから”Madrid”のベクトルを引き，”Athens”のベクトルを足したベクトルを計算し，そのベクトルと類似度の高い10語とその類似度を出力せよ．"
   ]
  },
  {
   "cell_type": "markdown",
   "id": "8d509fbf-c2d4-4c16-8ac9-12cbe43d1b73",
   "metadata": {},
   "source": [
    "most_similar関数は、(\"Spain\",\"Madrid\",\"Athens\")をL2正規化したのち計算をしている。\n",
    "\n",
    "similar_by_vector関数は、純粋に単語ベクトルを求めて計算しているだけ。\n",
    "\n",
    "また、most_similar関数は、入力された文字列は結果から省いている。"
   ]
  },
  {
   "cell_type": "code",
   "execution_count": 12,
   "id": "b18e58ba-aa91-401a-ac90-fccc29464ce0",
   "metadata": {},
   "outputs": [
    {
     "data": {
      "text/plain": [
       "[('Athens', 0.7528455257415771),\n",
       " ('Greece', 0.6685472130775452),\n",
       " ('Aristeidis_Grigoriadis', 0.5495778322219849),\n",
       " ('Ioannis_Drymonakos', 0.5361457467079163),\n",
       " ('Greeks', 0.5351787209510803),\n",
       " ('Ioannis_Christou', 0.5330225825309753),\n",
       " ('Hrysopiyi_Devetzi', 0.5088489651679993),\n",
       " ('Iraklion', 0.5059264898300171),\n",
       " ('Greek', 0.5040615200996399),\n",
       " ('Athens_Greece', 0.5034109950065613)]"
      ]
     },
     "execution_count": 12,
     "metadata": {},
     "output_type": "execute_result"
    }
   ],
   "source": [
    "vec = (model['Spain'] - model['Madrid'] + model['Athens'])\n",
    "model.similar_by_vector(vec)"
   ]
  },
  {
   "cell_type": "code",
   "execution_count": 13,
   "id": "c6f9df16-d43e-413f-9fd8-dd57e8c12fcd",
   "metadata": {},
   "outputs": [
    {
     "data": {
      "text/plain": [
       "[('Greece', 0.6898480653762817),\n",
       " ('Aristeidis_Grigoriadis', 0.560684859752655),\n",
       " ('Ioannis_Drymonakos', 0.555290937423706),\n",
       " ('Greeks', 0.5450686812400818),\n",
       " ('Ioannis_Christou', 0.5400862693786621),\n",
       " ('Hrysopiyi_Devetzi', 0.5248445272445679),\n",
       " ('Heraklio', 0.5207759141921997),\n",
       " ('Athens_Greece', 0.5168809294700623),\n",
       " ('Lithuania', 0.5166866183280945),\n",
       " ('Iraklion', 0.5146791934967041)]"
      ]
     },
     "execution_count": 13,
     "metadata": {},
     "output_type": "execute_result"
    }
   ],
   "source": [
    "# こちらの方がより正確\n",
    "model.most_similar(positive=['Spain', 'Athens'], negative=['Madrid'])"
   ]
  },
  {
   "cell_type": "markdown",
   "id": "edd366e1-993e-4f0f-9073-1db744395985",
   "metadata": {},
   "source": [
    "## 64. アナロジーデータでの実験\n",
    "単語アナロジーの評価データをダウンロードし，vec(2列目の単語) - vec(1列目の単語) + vec(3列目の単語)を計算し，そのベクトルと類似度が最も高い単語と，その類似度を求めよ．求めた単語と類似度は，各事例の末尾に追記せよ．"
   ]
  },
  {
   "cell_type": "code",
   "execution_count": null,
   "id": "2cdad173-3e2c-4941-a5ea-dc4aa19b01cb",
   "metadata": {},
   "outputs": [],
   "source": [
    "!wget http://download.tensorflow.org/data/questions-words.txt"
   ]
  },
  {
   "cell_type": "code",
   "execution_count": 14,
   "id": "7e5c68aa-882b-4aea-9d3b-274c4eeeb3ee",
   "metadata": {},
   "outputs": [
    {
     "name": "stdout",
     "output_type": "stream",
     "text": [
      ": capital-common-countries\n",
      ": capital-world\n",
      ": currency\n",
      ": city-in-state\n",
      ": family\n",
      ": gram1-adjective-to-adverb\n",
      ": gram2-opposite\n",
      ": gram3-comparative\n",
      ": gram4-superlative\n",
      ": gram5-present-participle\n",
      ": gram6-nationality-adjective\n",
      ": gram7-past-tense\n",
      ": gram8-plural\n",
      ": gram9-plural-verbs\n"
     ]
    }
   ],
   "source": [
    "# アナロジーのカテゴリ一覧\n",
    "!cat questions-words.txt | grep :"
   ]
  },
  {
   "cell_type": "code",
   "execution_count": 15,
   "id": "b8b4685d-3d8c-4896-85ec-66f83a0f37ff",
   "metadata": {},
   "outputs": [],
   "source": [
    "with open('questions-words.txt', 'r') as fr, open('ans64.txt', 'w') as fw:\n",
    "    for l in fr:\n",
    "        line = l.replace('\\n','')\n",
    "        words = line.split(' ')\n",
    "        if len(words) == 4:\n",
    "            sim_word, similarity = model.most_similar(positive=[words[1], words[2]], negative=[words[0]])[0]\n",
    "            print(f\"{line} {sim_word} {similarity}\", file=fw)\n",
    "        else:\n",
    "            print(line, file=fw)"
   ]
  },
  {
   "cell_type": "code",
   "execution_count": 16,
   "id": "e97afe65-5d14-4db3-8c6f-a0cd68ca7661",
   "metadata": {},
   "outputs": [
    {
     "name": "stdout",
     "output_type": "stream",
     "text": [
      ": capital-common-countries\n",
      "Athens Greece Baghdad Iraq Iraqi 0.6351870894432068\n",
      "Athens Greece Bangkok Thailand Thailand 0.7137669324874878\n",
      "Athens Greece Beijing China China 0.7235777378082275\n",
      "Athens Greece Berlin Germany Germany 0.6734622716903687\n",
      "Athens Greece Bern Switzerland Switzerland 0.4919748306274414\n",
      "Athens Greece Cairo Egypt Egypt 0.7527809739112854\n",
      "Athens Greece Canberra Australia Australia 0.5837326645851135\n",
      "Athens Greece Hanoi Vietnam Viet_Nam 0.6276342272758484\n",
      "Athens Greece Havana Cuba Cuba 0.6460990905761719\n"
     ]
    }
   ],
   "source": [
    "!head -n 10 ans64.txt"
   ]
  },
  {
   "cell_type": "markdown",
   "id": "23c142c8-27af-44fd-aed3-0c0411e3cbac",
   "metadata": {
    "tags": []
   },
   "source": [
    "## 65. アナロジータスクでの正解率\n",
    "64の実行結果を用い，意味的アナロジー（semantic analogy）と文法的アナロジー（syntactic analogy）の正解率を測定せよ．"
   ]
  },
  {
   "cell_type": "code",
   "execution_count": 2,
   "id": "71f44760-da52-4331-b972-c4a98a1dfa13",
   "metadata": {},
   "outputs": [
    {
     "name": "stdout",
     "output_type": "stream",
     "text": [
      "意味的アナロジー正解率: 0.731\n",
      "文法的アナロジー正解率: 0.740\n"
     ]
    }
   ],
   "source": [
    "import re\n",
    "with open('ans64.txt', 'r') as f:\n",
    "    sem_cnt = 0\n",
    "    sem_cor = 0\n",
    "    syn_cnt = 0\n",
    "    syn_cor = 0\n",
    "    sem_syn_flag = 'sem' # 意味的アナロジー or 文法的アナロジーのフラグ\n",
    "\n",
    "    for line in f:\n",
    "        words = line.split(' ')\n",
    "        if len(words) == 6:\n",
    "            # 意味的アナロジー\n",
    "            if sem_syn_flag == 'sem':\n",
    "                sem_cnt += 1\n",
    "                if words[3] == words[4]: \n",
    "                    sem_cor += 1\n",
    "                \n",
    "            # 文法的アナロジー\n",
    "            elif sem_syn_flag == 'gram':\n",
    "                syn_cnt += 1\n",
    "                if words[3] == words[4]: \n",
    "                    syn_cor += 1\n",
    "                \n",
    "        elif re.match(r'^gram', words[1]):\n",
    "            sem_syn_flag = 'gram'\n",
    "\n",
    "print(f'意味的アナロジー正解率: {sem_cor/sem_cnt:.3f}')\n",
    "print(f'文法的アナロジー正解率: {syn_cor/syn_cnt:.3f}') "
   ]
  },
  {
   "cell_type": "markdown",
   "id": "11581f66-288e-4f46-a4e1-0cba9d553a84",
   "metadata": {},
   "source": [
    "## 66. WordSimilarity-353での評価\n",
    "The WordSimilarity-353 Test Collectionの評価データをダウンロードし，単語ベクトルにより計算される類似度のランキングと，人間の類似度判定のランキングの間のスピアマン相関係数を計算せよ．"
   ]
  },
  {
   "cell_type": "markdown",
   "id": "aa388a78-55c8-4d5f-bb29-07534c5d2e14",
   "metadata": {},
   "source": [
    "**スピアマンの順位相関係数**\n",
    "２変数間にどの程度、順位付けの直線関係があるかを調べる際に使う分析手段\n",
    "データの値の大きさは関係なく、データの順位（順序）のみで決まる"
   ]
  },
  {
   "cell_type": "code",
   "execution_count": 53,
   "id": "fa8ddb36-467c-42b3-b34a-d2c14fe33d43",
   "metadata": {},
   "outputs": [
    {
     "name": "stdout",
     "output_type": "stream",
     "text": [
      "Archive:  wordsim353.zip\n",
      "  inflating: combined.csv            \n",
      "  inflating: set1.csv                \n",
      "  inflating: set2.csv                \n",
      "  inflating: combined.tab            \n",
      "  inflating: set1.tab                \n",
      "  inflating: set2.tab                \n",
      "  inflating: instructions.txt        \n"
     ]
    }
   ],
   "source": [
    "!wget -q http://www.gabrilovich.com/resources/data/wordsim353/wordsim353.zip\n",
    "!unzip wordsim353.zip"
   ]
  },
  {
   "cell_type": "code",
   "execution_count": 3,
   "id": "794e0940-a3eb-4997-85f5-d2587738bdeb",
   "metadata": {},
   "outputs": [
    {
     "data": {
      "text/html": [
       "<div>\n",
       "<style scoped>\n",
       "    .dataframe tbody tr th:only-of-type {\n",
       "        vertical-align: middle;\n",
       "    }\n",
       "\n",
       "    .dataframe tbody tr th {\n",
       "        vertical-align: top;\n",
       "    }\n",
       "\n",
       "    .dataframe thead th {\n",
       "        text-align: right;\n",
       "    }\n",
       "</style>\n",
       "<table border=\"1\" class=\"dataframe\">\n",
       "  <thead>\n",
       "    <tr style=\"text-align: right;\">\n",
       "      <th></th>\n",
       "      <th>Word 1</th>\n",
       "      <th>Word 2</th>\n",
       "      <th>Human (mean)</th>\n",
       "      <th>Similarity</th>\n",
       "    </tr>\n",
       "  </thead>\n",
       "  <tbody>\n",
       "    <tr>\n",
       "      <th>0</th>\n",
       "      <td>love</td>\n",
       "      <td>sex</td>\n",
       "      <td>6.77</td>\n",
       "      <td>0.263938</td>\n",
       "    </tr>\n",
       "    <tr>\n",
       "      <th>1</th>\n",
       "      <td>tiger</td>\n",
       "      <td>cat</td>\n",
       "      <td>7.35</td>\n",
       "      <td>0.517296</td>\n",
       "    </tr>\n",
       "    <tr>\n",
       "      <th>2</th>\n",
       "      <td>tiger</td>\n",
       "      <td>tiger</td>\n",
       "      <td>10.00</td>\n",
       "      <td>1.000000</td>\n",
       "    </tr>\n",
       "    <tr>\n",
       "      <th>3</th>\n",
       "      <td>book</td>\n",
       "      <td>paper</td>\n",
       "      <td>7.46</td>\n",
       "      <td>0.363463</td>\n",
       "    </tr>\n",
       "    <tr>\n",
       "      <th>4</th>\n",
       "      <td>computer</td>\n",
       "      <td>keyboard</td>\n",
       "      <td>7.62</td>\n",
       "      <td>0.396392</td>\n",
       "    </tr>\n",
       "  </tbody>\n",
       "</table>\n",
       "</div>"
      ],
      "text/plain": [
       "     Word 1    Word 2  Human (mean)  Similarity\n",
       "0      love       sex          6.77    0.263938\n",
       "1     tiger       cat          7.35    0.517296\n",
       "2     tiger     tiger         10.00    1.000000\n",
       "3      book     paper          7.46    0.363463\n",
       "4  computer  keyboard          7.62    0.396392"
      ]
     },
     "execution_count": 3,
     "metadata": {},
     "output_type": "execute_result"
    }
   ],
   "source": [
    "import pandas as pd\n",
    "df = pd.read_csv('combined.csv')\n",
    "sim = []\n",
    "for idx, data in df.iterrows():\n",
    "    sim.append(model.similarity(data[0],data[1]))\n",
    "df['Similarity'] = sim\n",
    "df.head()"
   ]
  },
  {
   "cell_type": "code",
   "execution_count": 4,
   "id": "1063c73e-ab85-40dd-be9a-6ab948e79a9b",
   "metadata": {},
   "outputs": [
    {
     "data": {
      "text/plain": [
       "0      210.5\n",
       "1      244.5\n",
       "2      353.0\n",
       "3      255.5\n",
       "4      272.0\n",
       "       ...  \n",
       "348    160.0\n",
       "349    318.5\n",
       "350    172.5\n",
       "351    180.5\n",
       "352     73.0\n",
       "Name: Human (mean), Length: 353, dtype: float64"
      ]
     },
     "execution_count": 4,
     "metadata": {},
     "output_type": "execute_result"
    }
   ],
   "source": [
    "df['Human (mean)'].rank()"
   ]
  },
  {
   "cell_type": "code",
   "execution_count": 5,
   "id": "3ddfd9e4-f22c-40e7-9170-d0ef872e9282",
   "metadata": {},
   "outputs": [
    {
     "name": "stdout",
     "output_type": "stream",
     "text": [
      "スピアマン相関係数: 0.700\n"
     ]
    }
   ],
   "source": [
    "import numpy as np\n",
    "from scipy.stats import spearmanr\n",
    "correlation, pvalue = spearmanr(df['Human (mean)'], df['Similarity'])\n",
    "\n",
    "print(f'スピアマン相関係数: {correlation:.3f}')"
   ]
  },
  {
   "cell_type": "markdown",
   "id": "1244d2ae-7436-43d2-9bea-e50ab6fb5cc4",
   "metadata": {},
   "source": [
    "## 67. k-meansクラスタリング\n",
    "国名に関する単語ベクトルを抽出し，k-meansクラスタリングをクラスタ数k=5として実行せよ．"
   ]
  },
  {
   "cell_type": "code",
   "execution_count": 6,
   "id": "f22c5329-c1eb-4e5a-b31b-e248863ff5fa",
   "metadata": {
    "scrolled": true,
    "tags": []
   },
   "outputs": [],
   "source": [
    "import numpy as np\n",
    "countries = set() # 国名の取得\n",
    "with open('ans64.txt', 'r') as f:\n",
    "    c_get_flag = 0 # 0:国名を取得できない, 1,3列名に国名が存在, 2:2,4列目に国名が存在\n",
    "    for line in f:\n",
    "        words = line.strip().split(' ')\n",
    "        if len(words) == 6:\n",
    "            # 1,3列目に国名が存在\n",
    "            if c_get_flag == 1:\n",
    "                countries.add(words[0])\n",
    "                countries.add(words[2])\n",
    "            # 3列目に国名が存在\n",
    "            elif c_get_flag == 2:\n",
    "                countries.add(words[1])\n",
    "                countries.add(words[3])\n",
    "        elif words[1] in ['currency', 'gram6-nationality-adjective']:\n",
    "            c_get_flag = 1\n",
    "        elif line[1] in ['capital-common-countries', 'capital-world']:\n",
    "            c_get_flag = 2\n",
    "        else:\n",
    "            c_get_flag = 0\n",
    "\n",
    "countries = list(countries)\n",
    "countries_vec = [model[country] for country in countries]"
   ]
  },
  {
   "cell_type": "code",
   "execution_count": 7,
   "id": "e4d4c06a-cb38-4a63-aa24-104543fab65e",
   "metadata": {},
   "outputs": [
    {
     "name": "stdout",
     "output_type": "stream",
     "text": [
      "cluster 0\n",
      "Iran, Egypt, Israel\n",
      "cluster 1\n",
      "Nigeria, Algeria, Spain, Colombia, Chile, Angola, Peru, Portugal, Brazil, Mexico, Argentina\n",
      "cluster 2\n",
      "Bulgaria, Greece, Romania, Moldova, Macedonia, Malta, Lithuania, Hungary, Belarus, Slovakia, Poland, Armenia, Croatia, Ukraine, Latvia, Russia, Albania\n",
      "cluster 3\n",
      "India, Japan, England, China, Cambodia, Australia, Canada, Thailand, Vietnam, Korea, Malaysia, Ireland\n",
      "cluster 4\n",
      "Switzerland, Austria, Norway, Germany, USA, Netherlands, Sweden, Iceland, Denmark, Italy, Europe, France\n"
     ]
    }
   ],
   "source": [
    "from sklearn.cluster import KMeans\n",
    "\n",
    "# k-meansクラスタリング\n",
    "kmeans = KMeans(n_clusters=5)\n",
    "kmeans.fit(countries_vec)\n",
    "for i in range(5):\n",
    "    cluster = np.where(kmeans.labels_ == i)[0]\n",
    "    print('cluster', i)\n",
    "    print(', '.join([countries[k] for k in cluster]))"
   ]
  },
  {
   "cell_type": "markdown",
   "id": "112db055-6482-4980-bc6c-e6c93352d25f",
   "metadata": {},
   "source": [
    "## 68. Ward法によるクラスタリング\n",
    "国名に関する単語ベクトルに対し，Ward法による階層型クラスタリングを実行せよ．さらに，クラスタリング結果をデンドログラムとして可視化せよ．"
   ]
  },
  {
   "cell_type": "markdown",
   "id": "45200bc4-e676-4d63-9f35-76f258175994",
   "metadata": {},
   "source": [
    "最も似ている組み合わせから順番にクラスターにしていく方法で、途中過程が階層のように表せ、最終的に樹形図（デンドログラム）が生成される。"
   ]
  },
  {
   "cell_type": "code",
   "execution_count": 4,
   "id": "65d7bfa6-4c9c-4685-b6db-6735470e1e71",
   "metadata": {},
   "outputs": [
    {
     "data": {
      "image/png": "[encoded data removed]",
      "text/plain": [
       "<Figure size 1080x360 with 1 Axes>"
      ]
     },
     "metadata": {
      "needs_background": "light"
     },
     "output_type": "display_data"
    }
   ],
   "source": [
    "from matplotlib import pyplot as plt\n",
    "from scipy.cluster.hierarchy import dendrogram, linkage\n",
    "\n",
    "plt.figure(figsize=(15, 5))\n",
    "Z = linkage(countries_vec, method='ward')\n",
    "dendrogram(Z, labels=countries)\n",
    "plt.show()"
   ]
  },
  {
   "cell_type": "markdown",
   "id": "86021386-2985-48dd-985c-1822a9973ec8",
   "metadata": {},
   "source": [
    "## 69. t-SNEによる可視化\n",
    "ベクトル空間上の国名に関する単語ベクトルをt-SNEで可視化せよ．"
   ]
  },
  {
   "cell_type": "markdown",
   "id": "9c691104-8279-4083-8a88-bb5019b9846b",
   "metadata": {},
   "source": [
    "SNE（Stochastic Neighbor Embedding）\n",
    "\n",
    "* 高次元でのデータポイント間の距離を条件付き確率に変換する\n",
    "* 上記で計算した高次元でのデータポイント間の距離（条件付き確率）と、できるだけ近い低次元でのデータポイント間の距離（条件付き確率）をとる点を見つける"
   ]
  },
  {
   "cell_type": "code",
   "execution_count": 10,
   "id": "d4b1c7f4-a6cb-4c96-af16-ba7b842c433a",
   "metadata": {},
   "outputs": [
    {
     "name": "stderr",
     "output_type": "stream",
     "text": [
      "/usr/local/lib/python3.10/site-packages/sklearn/manifold/_t_sne.py:780: FutureWarning: The default initialization in TSNE will change from 'random' to 'pca' in 1.2.\n",
      "  warnings.warn(\n",
      "/usr/local/lib/python3.10/site-packages/sklearn/manifold/_t_sne.py:790: FutureWarning: The default learning rate in TSNE will change from 200.0 to 'auto' in 1.2.\n",
      "  warnings.warn(\n"
     ]
    },
    {
     "data": {
      "image/png": "[encoded data removed]",
      "text/plain": [
       "<Figure size 576x576 with 1 Axes>"
      ]
     },
     "metadata": {
      "needs_background": "light"
     },
     "output_type": "display_data"
    }
   ],
   "source": [
    "import matplotlib.pyplot as plt\n",
    "from sklearn.manifold import TSNE\n",
    "tsne = TSNE(n_components=2,random_state=42)\n",
    "tsne.fit(countries_vec)\n",
    "\n",
    "plt.figure(figsize=(8, 8))\n",
    "plt.scatter(tsne.embedding_[:, 0], tsne.embedding_[:, 1])\n",
    "for (x, y), name in zip(tsne.embedding_, countries):\n",
    "    plt.annotate(name, (x, y))\n",
    "plt.show()"
   ]
  },
  {
   "cell_type": "code",
   "execution_count": null,
   "id": "f5b58093-a8df-412f-a298-a504e441e66a",
   "metadata": {},
   "outputs": [],
   "source": []
  }
 ],
 "metadata": {
  "kernelspec": {
   "display_name": "Python 3 (ipykernel)",
   "language": "python",
   "name": "python3"
  },
  "language_info": {
   "codemirror_mode": {
    "name": "ipython",
    "version": 3
   },
   "file_extension": ".py",
   "mimetype": "text/x-python",
   "name": "python",
   "nbconvert_exporter": "python",
   "pygments_lexer": "ipython3",
   "version": "3.10.4"
  }
 },
 "nbformat": 4,
 "nbformat_minor": 5
}

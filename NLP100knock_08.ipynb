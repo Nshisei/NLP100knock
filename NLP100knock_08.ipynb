{
 "cells": [
  {
   "cell_type": "markdown",
   "metadata": {},
   "source": [
    "# 第8章: ニューラルネット"
   ]
  },
  {
   "cell_type": "markdown",
   "metadata": {},
   "source": [
    "## 70. 単語ベクトルの和による特徴量\n",
    "\n",
    "問題50で構築した学習データ，検証データ，評価データを行列・ベクトルに変換したい．\n",
    "各titleを形態素解析し、単語列に変換する。その単語列を一つずつベクトル化し、その平均値をそのtitleのベクトルとする。\n"
   ]
  },
  {
   "cell_type": "code",
   "execution_count": 161,
   "metadata": {},
   "outputs": [
    {
     "name": "stdout",
     "output_type": "stream",
     "text": [
      "【学習データ】\n",
      "b    4502\n",
      "e    4223\n",
      "t    1219\n",
      "m     728\n",
      "Name: category, dtype: int64\n",
      "【検証データ】\n",
      "b    562\n",
      "e    528\n",
      "t    153\n",
      "m     91\n",
      "Name: category, dtype: int64\n",
      "【評価データ】\n",
      "b    563\n",
      "e    528\n",
      "t    152\n",
      "m     91\n",
      "Name: category, dtype: int64\n"
     ]
    }
   ],
   "source": [
    "import pandas as pd\n",
    "from sklearn.model_selection import train_test_split\n",
    "\n",
    "# 読み込み\n",
    "df = pd.read_csv('./newsCorpora.csv', header=None, sep='\\t', names=['id', 'title', 'url', 'publisher', 'category', 'story', 'hostname', 'timestamp'])\n",
    "\n",
    "# 抽出\n",
    "df = df.loc[df['publisher'].isin(['Reuters', 'Huffington Post', 'Businessweek', 'Contactmusic.com', 'Daily Mail']), ['title', 'category']]\n",
    "\n",
    "# 分割\n",
    "train, valid_test = train_test_split(df, test_size=0.2, shuffle=True, random_state=0, stratify=df['category'])\n",
    "valid, test = train_test_split(valid_test, test_size=0.5, shuffle=True, random_state=0, stratify=valid_test['category'])\n",
    "\n",
    "# 確認\n",
    "print('【学習データ】')\n",
    "print(train['category'].value_counts())\n",
    "print('【検証データ】')\n",
    "print(valid['category'].value_counts())\n",
    "print('【評価データ】')\n",
    "print(test['category'].value_counts())"
   ]
  },
  {
   "cell_type": "code",
   "execution_count": null,
   "metadata": {},
   "outputs": [],
   "source": [
    "import gdown\n",
    "from gensim.models import KeyedVectors\n",
    "\n",
    "# # 学習済み単語ベクトルのダウンロード\n",
    "# url = \"https://drive.google.com/uc?id=0B7XkCwpI5KDYNlNUTTlSS21pQmM\"\n",
    "# output = 'GoogleNews-vectors-negative300.bin.gz'\n",
    "# gdown.download(url, output, quiet=True)\n",
    "\n",
    "# ダウンロードファイルのロード\n",
    "model = KeyedVectors.load_word2vec_format('GoogleNews-vectors-negative300.bin.gz', binary=True)"
   ]
  },
  {
   "cell_type": "code",
   "execution_count": null,
   "metadata": {},
   "outputs": [
    {
     "name": "stderr",
     "output_type": "stream",
     "text": [
      "[nltk_data] Downloading package punkt to /root/nltk_data...\n",
      "[nltk_data]   Package punkt is already up-to-date!\n",
      "[nltk_data] Downloading package wordnet to /root/nltk_data...\n",
      "[nltk_data]   Package wordnet is already up-to-date!\n",
      "[nltk_data] Downloading package averaged_perceptron_tagger to\n",
      "[nltk_data]     /root/nltk_data...\n",
      "[nltk_data]   Package averaged_perceptron_tagger is already up-to-\n",
      "[nltk_data]       date!\n",
      "[nltk_data] Downloading package omw-1.4 to /root/nltk_data...\n",
      "[nltk_data]   Package omw-1.4 is already up-to-date!\n"
     ]
    }
   ],
   "source": [
    "from nltk import *\n",
    "\n",
    "download('punkt')\n",
    "download('wordnet')\n",
    "download('averaged_perceptron_tagger')\n",
    "download('omw-1.4')\n",
    "stemmer = stem.PorterStemmer()\n",
    "lemmatizer = stem.WordNetLemmatizer()"
   ]
  },
  {
   "cell_type": "code",
   "execution_count": 163,
   "metadata": {},
   "outputs": [],
   "source": [
    "import numpy as np\n",
    "import re\n",
    "\n",
    "# 文字列の前処理\n",
    "def char_processing(text):\n",
    "    text = re.sub(r'[^\\w\\s]', ' ', text) # スペース以外の記号文字全てをスペースに置換\n",
    "    text = re.sub(r'\\s{2,}', ' ', text) # ２個以上のスペースは一つに置換\n",
    "    text = text.lower() # 小文字化\n",
    "    text = re.sub('[0-9]+', '0', text)  # 数字列を0に置換\n",
    "    return text\n",
    "\n",
    "# 各単語の見出し語を返す\n",
    "def lemma(word,pos):\n",
    "    if pos.startswith('J'): # 形容詞\n",
    "        return lemmatizer.lemmatize(word, pos=\"a\")\n",
    "    elif pos.startswith('V'): # 動詞\n",
    "        return lemmatizer.lemmatize(word, pos=\"v\")\n",
    "    elif pos.startswith('N'): # 名詞\n",
    "        return lemmatizer.lemmatize(word, pos=\"n\")\n",
    "    elif pos.startswith('R'): # 副詞\n",
    "        return lemmatizer.lemmatize(word, pos=\"r\")\n",
    "    else:\n",
    "        return word\n",
    "\n",
    "# 文章を形態素解析を行い、以下の品詞だけを残した文字列に変換する\n",
    "def lemma_text(text):\n",
    "    tokens = word_tokenize(text) # 分かち書き\n",
    "    tokens = [lemma(word,pos) for word, pos in pos_tag(tokens)]\n",
    "    text = ' '.join(tokens) # token配列を文章に戻す\n",
    "    return text\n",
    "\n",
    "# 入力された文章のベクトルを生成\n",
    "# 単語ごとに分割し、各単語をベクトルに変換\n",
    "# 最後に列ごとに平均値を取って文章ベクトルとする\n",
    "def word2vec(text):\n",
    "    words = text.split(' ')\n",
    "    vecs = []\n",
    "    for w in words:\n",
    "        # 単語がモデルのvocabに含まれていたらそのベクトルを採用\n",
    "        if w in model:\n",
    "            vecs.append(model[w])\n",
    "        # 含まれていなければ見出し語に変換したもののベクトルを採用\n",
    "        elif lemma_text(w) in model:\n",
    "            vecs.append(model[lemma_text(w)])\n",
    "        # それでも含まれていない場合はスキップ\n",
    "        else:\n",
    "            pass\n",
    "    # ベクトルが求められない場合は、停止.(本データでは存在しなかった)\n",
    "    assert len(vecs)>0, 'All words are not included!' \n",
    "    return torch.tensor(np.mean(vecs, axis=0)) # 列ごとに平均を取る\n",
    "\n",
    "# 前処理\n",
    "def processing(text):\n",
    "    text = char_processing(text)\n",
    "    return word2vec(text)"
   ]
  },
  {
   "cell_type": "code",
   "execution_count": null,
   "metadata": {},
   "outputs": [],
   "source": [
    "import torch\n",
    "from torch import nn"
   ]
  },
  {
   "cell_type": "code",
   "execution_count": 164,
   "metadata": {},
   "outputs": [],
   "source": [
    "#　前処理\n",
    "x_train = torch.stack([processing(text) for text in train['title']])\n",
    "x_valid = torch.stack([processing(text) for text in valid['title']])\n",
    "x_test = torch.stack([processing(text) for text in test['title']])\n",
    "\n",
    "category_dict = {'b': 0, 'e': 1, 't':2, 'm':3}\n",
    "y_train = torch.tensor(train['category'].map(lambda y: category_dict[y]).values)\n",
    "y_valid = torch.tensor(valid['category'].map(lambda y: category_dict[y]).values)\n",
    "y_test = torch.tensor(test['category'].map(lambda y: category_dict[y]).values)"
   ]
  },
  {
   "cell_type": "markdown",
   "metadata": {},
   "source": [
    "## 71. 単層ニューラルネットワークによる予測\n",
    "問題70で保存した行列を読み込み、学習データについて以下の計算を実行せよ\n",
    "$$\n",
    "\\hat{y}_1 = softmax(\\bold{x_1}W), \\hat{Y}_1 = softmax(\\bold{X_{[1:4]}}W), \n",
    "$$\n",
    "$\\bold{X_{[1:4]}}$は特徴ベクトル$\\bold{x_1}$~$\\bold{x_4}$を縦に並べたもの\n",
    "\n",
    "行列$W$は$d\\times L$のランダムな値で初期化された単層ニューラルネットワーク重み行列\n",
    "\n",
    "$d$:単語ベクトルの次元数300\n",
    "\n",
    "$L$:ラベルの種類数"
   ]
  },
  {
   "cell_type": "markdown",
   "metadata": {},
   "source": [
    "**torch.Tensor**: Tensor型.実際にはnumpyのndarray型ととても似ており,ベクトル表現から行列表現,それらの演算といった機能が提供されている."
   ]
  },
  {
   "cell_type": "code",
   "execution_count": 12,
   "metadata": {},
   "outputs": [],
   "source": []
  },
  {
   "cell_type": "code",
   "execution_count": 51,
   "metadata": {},
   "outputs": [
    {
     "name": "stdout",
     "output_type": "stream",
     "text": [
      "tensor([[0.3512, 0.4243, 0.1015, 0.1230]])\n",
      "tensor([[0.3512, 0.4243, 0.1015, 0.1230],\n",
      "        [0.4143, 0.3295, 0.2343, 0.0218],\n",
      "        [0.2372, 0.3303, 0.2697, 0.1627],\n",
      "        [0.1626, 0.2149, 0.2214, 0.4011]])\n"
     ]
    }
   ],
   "source": [
    "# 乱数によって初期化された300×4行列\n",
    "W = torch.randn(300, 4)\n",
    "# 特徴ベクトルx1\n",
    "x1 = x_train[:1]\n",
    "# XとWの内積\n",
    "xW = torch.matmul(x1, W)\n",
    "\n",
    "# 行方向のsoftmaxの演算\n",
    "softmax = nn.Softmax(dim=1)\n",
    "y_hat = softmax(xW)\n",
    "print(y_hat)\n",
    "\n",
    "# x1~x4の特徴ベクトル\n",
    "X = x_train[:4]\n",
    "XW = torch.matmul(X, W)\n",
    "Y_hat = softmax(XW)\n",
    "print(Y_hat)"
   ]
  },
  {
   "cell_type": "markdown",
   "metadata": {},
   "source": [
    "## 72. 損失と勾配の計算\n",
    "学習データ事例$x_1$と事例集合$x_1,x_2,x_3,x_4$に対して、クロスエントロピー損失と、行列$W$に対する勾配を計算せよ.\n",
    "$$\n",
    "l_i = -log[事例x_iがy_iに分類される確率]\n",
    "$$\n",
    "\n",
    "ただし、事例集合に対するクロスエントロピー損失はその集合に含まれる各事例の損失の平均とする"
   ]
  },
  {
   "cell_type": "markdown",
   "metadata": {},
   "source": [
    "**requires_grad**:勾配を自動で計算することを定義する引数\n",
    "**backward()**:バックワードモードの自動微分.出力側から順番に計算する。\n",
    "\n",
    "計算グラフを作成したあと、微分対象のテンソルの Tensor.backward() を呼び出します。すると、逆伝搬が行われ、Tensor.grad 属性に計算した微分係数が記録されます。\n",
    "\n"
   ]
  },
  {
   "cell_type": "code",
   "execution_count": 75,
   "metadata": {},
   "outputs": [
    {
     "name": "stdout",
     "output_type": "stream",
     "text": [
      "損失 0.1330\n",
      "勾配 tensor([[ 0.0262, -0.0085, -0.0067, -0.0110],\n",
      "        [-0.0061,  0.0020,  0.0015,  0.0025],\n",
      "        [ 0.0014, -0.0005, -0.0004, -0.0006],\n",
      "        ...,\n",
      "        [ 0.0016, -0.0005, -0.0004, -0.0007],\n",
      "        [-0.0128,  0.0042,  0.0033,  0.0054],\n",
      "        [ 0.0090, -0.0029, -0.0023, -0.0038]])\n",
      "損失 1.9323\n",
      "勾配 tensor([[ 0.0636, -0.0159, -0.0369, -0.0108],\n",
      "        [-0.0128,  0.0040,  0.0070,  0.0018],\n",
      "        [ 0.0095, -0.0220,  0.0106,  0.0019],\n",
      "        ...,\n",
      "        [-0.0165,  0.0022,  0.0102,  0.0040],\n",
      "        [-0.0147, -0.0189,  0.0271,  0.0064],\n",
      "        [ 0.0265, -0.0224, -0.0027, -0.0014]])\n"
     ]
    }
   ],
   "source": [
    "# 事例x1\n",
    "W = torch.randn(300, 4, requires_grad = True)\n",
    "# 損失関数\n",
    "loss_fn = torch.nn.CrossEntropyLoss()\n",
    "loss = loss_fn(torch.matmul(x_train[:1], W), y_train[:1])\n",
    "print(f'損失{loss: .4f}')\n",
    "# 勾配\n",
    "loss.backward()\n",
    "print('勾配', W.grad)\n",
    "\n",
    "# 事例集合\n",
    "W = torch.randn(300, 4, requires_grad = True)\n",
    "loss = loss_fn(torch.matmul(x_train[:4], W), y_train[:4])\n",
    "print(f'損失{loss: .4f}')\n",
    "# 勾配\n",
    "loss.backward()\n",
    "print('勾配', W.grad)"
   ]
  },
  {
   "cell_type": "markdown",
   "metadata": {},
   "source": [
    "## 73. 確率的勾配降下法による学習\n",
    "確率的勾配降下法（SGD: Stochastic Gradient Descent）を用いて，行列Wを学習せよ．なお，学習は適当な基準で終了させればよい（例えば「100エポックで終了」など）．"
   ]
  },
  {
   "cell_type": "markdown",
   "metadata": {},
   "source": [
    "**Dataset**: 特徴量と正解ラベルのセットを作成\n",
    "\n",
    "**DataLoader**:Datasetからバッチサイズずつデータを取り出す"
   ]
  },
  {
   "cell_type": "code",
   "execution_count": 66,
   "metadata": {},
   "outputs": [
    {
     "name": "stdout",
     "output_type": "stream",
     "text": [
      "Epoch 10: loss= 0.0142\n",
      "Epoch 20: loss= 0.0404\n",
      "Epoch 30: loss= 0.4307\n",
      "Epoch 40: loss= 0.0651\n",
      "Epoch 50: loss= 0.0899\n",
      "Epoch 60: loss= 0.0098\n",
      "Epoch 70: loss= 1.9573\n",
      "Epoch 80: loss= 0.0024\n",
      "Epoch 90: loss= 0.1568\n",
      "Epoch 100: loss= 0.0042\n"
     ]
    }
   ],
   "source": [
    "from torch.utils.data import TensorDataset, DataLoader\n",
    "\n",
    "# データセット\n",
    "ds = TensorDataset(x_train, y_train)\n",
    "# DataLoaderを作成\n",
    "loader = DataLoader(ds, batch_size=1, shuffle=True)\n",
    "\n",
    "# 行列W\n",
    "W = torch.randn(300, 4, requires_grad=True)\n",
    "# 損失関数\n",
    "loss_fn = torch.nn.CrossEntropyLoss()\n",
    "\n",
    "for epoch in range(100):\n",
    "    for inputs, targets in loader:\n",
    "        # 損失\n",
    "        loss = loss_fn(torch.matmul(inputs, W), targets)\n",
    "        # 勾配\n",
    "        loss.backward()\n",
    "        # 更新\n",
    "        W = (W - W.grad * 0.01).detach().requires_grad_()\n",
    "\n",
    "    if (epoch+1) % 10 == 0:\n",
    "        print(f\"Epoch {epoch+1}: loss={loss: .4f}\")"
   ]
  },
  {
   "cell_type": "markdown",
   "metadata": {},
   "source": [
    "## 74. 正解率の計測\n",
    "問題73で求めた行列を用いて学習データおよび評価データの事例を分類したとき，その正解率をそれぞれ求めよ．"
   ]
  },
  {
   "cell_type": "markdown",
   "metadata": {},
   "source": [
    "**with torch.no_grad()**: そのブロック中は勾配の計算を不可にすることでメモリの消費量を減らす"
   ]
  },
  {
   "cell_type": "code",
   "execution_count": 70,
   "metadata": {},
   "outputs": [
    {
     "name": "stdout",
     "output_type": "stream",
     "text": [
      "train accuracy: 0.908\n",
      "test accuracy: 0.895\n"
     ]
    }
   ],
   "source": [
    "# 入力されたデータから予測分類ラベルを返す\n",
    "def pred(inputs, W):\n",
    "    softmax = torch.nn.Softmax(dim=1)\n",
    "    # 分類の確率\n",
    "    class_probs = softmax(torch.matmul(inputs, W))\n",
    "    # 確率最大のインデックスを取得\n",
    "    class_idx = torch.argmax(class_probs, dim=1)\n",
    "\n",
    "    return class_idx\n",
    "\n",
    "# 予測ラベルと正解ラベルから正解率を返す\n",
    "def accuracy(pred, targets):\n",
    "    correct = 0\n",
    "    for p, t in zip(pred, targets):\n",
    "        if p == t:\n",
    "            correct += 1\n",
    "\n",
    "    return correct / len(pred)\n",
    "\n",
    "# 訓練データの正解率\n",
    "with torch.no_grad():\n",
    "    train_pred = pred(x_train, W)\n",
    "    train_accuracy = accuracy(train_pred, y_train)\n",
    "print(f'train accuracy:{train_accuracy: .3f}')\n",
    "\n",
    "\n",
    "# 評価データの正解率\n",
    "with torch.no_grad():\n",
    "    test_pred = pred(x_test, W)\n",
    "    test_accuracy = accuracy(test_pred, y_test)\n",
    "print(f'test accuracy:{test_accuracy: .3f}')"
   ]
  },
  {
   "cell_type": "markdown",
   "metadata": {},
   "source": [
    "## 75. 損失と正解率のプロット\n",
    "問題73のコードを改変し，各エポックのパラメータ更新が完了するたびに，訓練データでの損失，正解率，検証データでの損失，正解率をグラフにプロットし，学習の進捗状況を確認できるようにせよ．"
   ]
  },
  {
   "cell_type": "code",
   "execution_count": 152,
   "metadata": {},
   "outputs": [
    {
     "data": {
      "image/png": "[encoded data removed]",
      "text/plain": [
       "<Figure size 1008x360 with 2 Axes>"
      ]
     },
     "metadata": {
      "needs_background": "light"
     },
     "output_type": "display_data"
    }
   ],
   "source": [
    "from IPython.display import clear_output\n",
    "from matplotlib import pyplot as plt\n",
    "%matplotlib inline\n",
    "\n",
    "# データ更新があるたびにグラフを更新する関数\n",
    "def live_plot(train_losses, train_accuracies, valid_losses, valid_accuracies):\n",
    "    # グラフ準備\n",
    "    clear_output(wait=True)\n",
    "    fig, ax = plt.subplots(1,2,figsize=(14,5))\n",
    "    # 損失をplot\n",
    "    ax[0].plot(train_losses,c='blue', label='train')\n",
    "    ax[0].plot(valid_losses,c='green', label='vaid')\n",
    "    ax[0].set_title('loss')\n",
    "    ax[0].legend()\n",
    "    # 正解率をplot\n",
    "    ax[1].plot(train_accuracies,c='blue', label='train')\n",
    "    ax[1].plot(valid_accuracies,c='green', label='vaid')\n",
    "    ax[1].set_title('accuracy')\n",
    "    ax[1].legend()\n",
    "    plt.show()\n",
    "\n",
    "# データセット\n",
    "ds = TensorDataset(x_train, y_train)\n",
    "# DataLoaderを作成\n",
    "loader = DataLoader(ds, batch_size=1, shuffle=True)\n",
    "\n",
    "# 行列W\n",
    "W = torch.randn(300, 4, requires_grad=True)\n",
    "# 損失関数\n",
    "loss_fn = torch.nn.CrossEntropyLoss()\n",
    "\n",
    "train_losses = [] # 学習データの損失\n",
    "train_accuracies = [] # 学習データの正解率\n",
    "valid_losses = [] # 検証データの損失\n",
    "valid_accuracies = [] # 検証データの正解率\n",
    "\n",
    "\n",
    "for epoch in range(100):\n",
    "    x = [i for i in range(epoch+1)] # グラフx軸\n",
    "    for inputs, targets in loader:\n",
    "        # 損失\n",
    "        loss = loss_fn(torch.matmul(inputs, W), targets)\n",
    "        # 勾配\n",
    "        loss.backward()\n",
    "        # 更新\n",
    "        W = (W - W.grad * 0.01).detach().requires_grad_()\n",
    "\n",
    "    # 学習の進捗\n",
    "    with torch.no_grad():\n",
    "        # 訓練\n",
    "        train_pred = pred(x_train, W)\n",
    "        train_accuracy = accuracy(train_pred, y_train)\n",
    "        train_loss = loss_fn(torch.matmul(x_train, W), y_train).item()\n",
    "        # 検証\n",
    "        valid_pred = pred(x_valid, W)\n",
    "        valid_accuracy = accuracy(valid_pred, y_valid)\n",
    "        valid_loss = loss_fn(torch.matmul(x_valid, W), y_valid).item()\n",
    "    # 保存\n",
    "    train_losses.append(train_loss)\n",
    "    train_accuracies.append(train_accuracy)\n",
    "    valid_losses.append(valid_loss)\n",
    "    valid_accuracies.append(valid_accuracy)\n",
    "    \n",
    "    # グラフの描画\n",
    "    live_plot(train_losses, train_accuracies, valid_losses, valid_accuracies)"
   ]
  },
  {
   "cell_type": "markdown",
   "metadata": {},
   "source": [
    "## 76. チェックポイント\n",
    "問題75のコードを改変し，各エポックのパラメータ更新が完了するたびに，チェックポイント（学習途中のパラメータ（重み行列など）の値や最適化アルゴリズムの内部状態）をファイルに書き出せ"
   ]
  },
  {
   "cell_type": "markdown",
   "metadata": {},
   "source": [
    "### 最適化手法\n",
    "主に損失関数の最小値(とその時のパラメータ)を求めるアルゴリズム\n",
    "* SGD(確率的勾配法)\n",
    "* Adagrad\n",
    "* RMSprop\n",
    "* Adadelta\n",
    "* Adam\n",
    "\n",
    "などがある.今回はSGDを採用する\n",
    "\n",
    "最適化アルゴリズムの内部状態とは以下のようなハイパーメータの情報\n",
    "\n",
    "Optimizer's state_dict:\n",
    "\n",
    "state: 現在のオプティマイザーの状態\n",
    "\n",
    "param_groups:  [{'lr': 0.001, 'momentum': 0.9, 'dampening': 0, 'weight_decay': 0, 'nesterov': False, 'params': [139665281919328, 139665281919488, 139665281919568, 139665281919648, 139665281919728, 139665281919808, 139665281922384, 139665281919408, 139665281919888, 139665281919968]}]"
   ]
  },
  {
   "cell_type": "markdown",
   "metadata": {},
   "source": [
    "逆伝搬で勾配を計算した際に、以前に計算した勾配がある場合はそれに加算する形になっている。\n",
    "\n",
    "今回の勾配 = 前回計算した勾配 + 今回計算した勾配\n",
    "\n",
    "\n",
    "この仕様は RNN などのモデルでは有用だが、そうでない場合は前回計算した勾配を0で初期化する必要があるので、その場合は backward() を呼び出す前に zero_grad() を行う必要がある。\n",
    "\n"
   ]
  },
  {
   "cell_type": "code",
   "execution_count": 143,
   "metadata": {},
   "outputs": [
    {
     "data": {
      "image/png": "[encoded data removed]",
      "text/plain": [
       "<Figure size 1008x360 with 2 Axes>"
      ]
     },
     "metadata": {
      "needs_background": "light"
     },
     "output_type": "display_data"
    }
   ],
   "source": [
    "import torch.optim as optim\n",
    "import os\n",
    "import shutil\n",
    "\n",
    "# データセット\n",
    "ds = TensorDataset(x_train, y_train)\n",
    "# DataLoaderを作成\n",
    "loader = DataLoader(ds, batch_size=1, shuffle=True)\n",
    "\n",
    "# 行列W\n",
    "W = torch.randn(300, 4, requires_grad=True)\n",
    "# 損失関数\n",
    "loss_fn = torch.nn.CrossEntropyLoss()\n",
    "\n",
    "train_losses = [] # 学習データの損失\n",
    "train_accuracies = [] # 学習データの正解率\n",
    "valid_losses = [] # 検証データの損失\n",
    "valid_accuracies = [] # 検証データの正解率\n",
    "\n",
    "# 最適化\n",
    "optimizer = optim.SGD([W], lr=0.01)\n",
    "# checkpoint用フォルダ\n",
    "path = './SGDparams'\n",
    "shutil.rmtree(path)\n",
    "os.makedirs(path, exist_ok=True)\n",
    "\n",
    "for epoch in range(100):\n",
    "    x = [i for i in range(epoch+1)] # グラフx軸\n",
    "    for inputs, targets in loader:\n",
    "        # 損失\n",
    "        loss = loss_fn(torch.matmul(inputs, W), targets)\n",
    "        # 勾配\n",
    "        optimizer.zero_grad() # 勾配を初期化\n",
    "        loss.backward() \n",
    "        # 更新\n",
    "        optimizer.step()\n",
    "\n",
    "    # 学習の進捗\n",
    "    with torch.no_grad():\n",
    "        # 訓練\n",
    "        train_pred = pred(x_train, W)\n",
    "        train_accuracy = accuracy(train_pred, y_train)\n",
    "        train_loss = loss_fn(torch.matmul(x_train, W), y_train).item()\n",
    "        # 検証\n",
    "        valid_pred = pred(x_valid, W)\n",
    "        valid_accuracy = accuracy(valid_pred, y_valid)\n",
    "        valid_loss = loss_fn(torch.matmul(x_valid, W), y_valid).item()\n",
    "\n",
    "    # 保存\n",
    "    train_losses.append(train_loss)\n",
    "    train_accuracies.append(train_accuracy)\n",
    "    valid_losses.append(valid_loss)\n",
    "    valid_accuracies.append(valid_accuracy)\n",
    "    \n",
    "    # グラフの描画\n",
    "    live_plot(train_losses, train_accuracies, valid_losses, valid_accuracies)\n",
    "\n",
    "    # チェックポイントの保存\n",
    "    torch.save({'epoch': epoch, 'W': W, 'optimizer_state_dict': optimizer.state_dict(),'loss': loss, 'accuracy': train_accuracy}, f'{path}/epoch_{epoch}')"
   ]
  },
  {
   "cell_type": "code",
   "execution_count": 144,
   "metadata": {},
   "outputs": [
    {
     "name": "stdout",
     "output_type": "stream",
     "text": [
      "epoch: 0\n",
      "loss: 0.3175, accuracy: 0.747\n",
      "tensor([[-0.1080,  1.2783,  0.0266,  0.9463],\n",
      "        [-1.3929, -0.9870, -0.5143, -0.5880],\n",
      "        [-0.1870,  0.2962, -1.6134, -1.1152],\n",
      "        ...,\n",
      "        [-1.7901, -0.9168,  0.4666,  0.6725],\n",
      "        [-1.1010, -1.0090,  0.0170,  1.5039],\n",
      "        [-0.9482,  1.0074,  0.3575,  0.4051]], requires_grad=True)\n",
      "{'state': {0: {'momentum_buffer': None}}, 'param_groups': [{'lr': 0.01, 'momentum': 0, 'dampening': 0, 'weight_decay': 0, 'nesterov': False, 'maximize': False, 'params': [0]}]} \n",
      "\n",
      "epoch: 99\n",
      "loss: 0.0012, accuracy: 0.907\n",
      "tensor([[-0.3199, -0.1632,  1.6803,  0.9457],\n",
      "        [-1.3211, -0.1069, -1.2346, -0.8190],\n",
      "        [ 0.3764, -2.1728, -0.9307,  0.1076],\n",
      "        ...,\n",
      "        [-1.3150, -0.3111, -0.5531,  0.6112],\n",
      "        [-0.7124, -0.5038, -0.3920,  1.0195],\n",
      "        [-1.8852,  1.4999, -1.4969,  2.7042]], requires_grad=True)\n",
      "{'state': {0: {'momentum_buffer': None}}, 'param_groups': [{'lr': 0.01, 'momentum': 0, 'dampening': 0, 'weight_decay': 0, 'nesterov': False, 'maximize': False, 'params': [0]}]} \n",
      "\n"
     ]
    }
   ],
   "source": [
    "for epoch in ['0', '99']:\n",
    "    checkpoint = torch.load(f'{path}/epoch_{epoch}')\n",
    "    print(f'epoch: {epoch}')\n",
    "    print(f\"loss: {checkpoint['loss']:.4f}, accuracy: {checkpoint['accuracy']:.3f}\")\n",
    "    print(checkpoint['W'])\n",
    "    print(checkpoint['optimizer_state_dict'], '\\n')"
   ]
  },
  {
   "cell_type": "markdown",
   "metadata": {},
   "source": [
    "## 77. ミニバッチ化\n",
    "問題76のコードを改変し，B事例ごとに損失・勾配を計算し，行列Wの値を更新せよ（ミニバッチ化）．Bの値を1,2,4,8,…と変化させながら，1エポックの学習に要する時間を比較せよ"
   ]
  },
  {
   "cell_type": "code",
   "execution_count": 150,
   "metadata": {},
   "outputs": [
    {
     "name": "stdout",
     "output_type": "stream",
     "text": [
      "batch size:  1\n",
      "time / ephocs: 2.1772382259368896\n",
      "\n",
      "batch size:  2\n"
     ]
    },
    {
     "ename": "KeyboardInterrupt",
     "evalue": "",
     "output_type": "error",
     "traceback": [
      "\u001b[0;31m---------------------------------------------------------------------------\u001b[0m",
      "\u001b[0;31mKeyboardInterrupt\u001b[0m                         Traceback (most recent call last)",
      "\u001b[0;32m/tmp/ipykernel_7568/2145059633.py\u001b[0m in \u001b[0;36m<module>\u001b[0;34m\u001b[0m\n\u001b[1;32m     36\u001b[0m             \u001b[0;31m# 勾配\u001b[0m\u001b[0;34m\u001b[0m\u001b[0;34m\u001b[0m\u001b[0;34m\u001b[0m\u001b[0m\n\u001b[1;32m     37\u001b[0m             \u001b[0moptimizer\u001b[0m\u001b[0;34m.\u001b[0m\u001b[0mzero_grad\u001b[0m\u001b[0;34m(\u001b[0m\u001b[0;34m)\u001b[0m\u001b[0;34m\u001b[0m\u001b[0;34m\u001b[0m\u001b[0m\n\u001b[0;32m---> 38\u001b[0;31m             \u001b[0mloss\u001b[0m\u001b[0;34m.\u001b[0m\u001b[0mbackward\u001b[0m\u001b[0;34m(\u001b[0m\u001b[0;34m)\u001b[0m\u001b[0;34m\u001b[0m\u001b[0;34m\u001b[0m\u001b[0m\n\u001b[0m\u001b[1;32m     39\u001b[0m             \u001b[0;31m# 更新\u001b[0m\u001b[0;34m\u001b[0m\u001b[0;34m\u001b[0m\u001b[0;34m\u001b[0m\u001b[0m\n\u001b[1;32m     40\u001b[0m             \u001b[0moptimizer\u001b[0m\u001b[0;34m.\u001b[0m\u001b[0mstep\u001b[0m\u001b[0;34m(\u001b[0m\u001b[0;34m)\u001b[0m\u001b[0;34m\u001b[0m\u001b[0;34m\u001b[0m\u001b[0m\n",
      "\u001b[0;32m/usr/local/lib/python3.7/site-packages/torch/_tensor.py\u001b[0m in \u001b[0;36mbackward\u001b[0;34m(self, gradient, retain_graph, create_graph, inputs)\u001b[0m\n\u001b[1;32m    361\u001b[0m                 \u001b[0mcreate_graph\u001b[0m\u001b[0;34m=\u001b[0m\u001b[0mcreate_graph\u001b[0m\u001b[0;34m,\u001b[0m\u001b[0;34m\u001b[0m\u001b[0;34m\u001b[0m\u001b[0m\n\u001b[1;32m    362\u001b[0m                 inputs=inputs)\n\u001b[0;32m--> 363\u001b[0;31m         \u001b[0mtorch\u001b[0m\u001b[0;34m.\u001b[0m\u001b[0mautograd\u001b[0m\u001b[0;34m.\u001b[0m\u001b[0mbackward\u001b[0m\u001b[0;34m(\u001b[0m\u001b[0mself\u001b[0m\u001b[0;34m,\u001b[0m \u001b[0mgradient\u001b[0m\u001b[0;34m,\u001b[0m \u001b[0mretain_graph\u001b[0m\u001b[0;34m,\u001b[0m \u001b[0mcreate_graph\u001b[0m\u001b[0;34m,\u001b[0m \u001b[0minputs\u001b[0m\u001b[0;34m=\u001b[0m\u001b[0minputs\u001b[0m\u001b[0;34m)\u001b[0m\u001b[0;34m\u001b[0m\u001b[0;34m\u001b[0m\u001b[0m\n\u001b[0m\u001b[1;32m    364\u001b[0m \u001b[0;34m\u001b[0m\u001b[0m\n\u001b[1;32m    365\u001b[0m     \u001b[0;32mdef\u001b[0m \u001b[0mregister_hook\u001b[0m\u001b[0;34m(\u001b[0m\u001b[0mself\u001b[0m\u001b[0;34m,\u001b[0m \u001b[0mhook\u001b[0m\u001b[0;34m)\u001b[0m\u001b[0;34m:\u001b[0m\u001b[0;34m\u001b[0m\u001b[0;34m\u001b[0m\u001b[0m\n",
      "\u001b[0;32m/usr/local/lib/python3.7/site-packages/torch/autograd/__init__.py\u001b[0m in \u001b[0;36mbackward\u001b[0;34m(tensors, grad_tensors, retain_graph, create_graph, grad_variables, inputs)\u001b[0m\n\u001b[1;32m    173\u001b[0m     Variable._execution_engine.run_backward(  # Calls into the C++ engine to run the backward pass\n\u001b[1;32m    174\u001b[0m         \u001b[0mtensors\u001b[0m\u001b[0;34m,\u001b[0m \u001b[0mgrad_tensors_\u001b[0m\u001b[0;34m,\u001b[0m \u001b[0mretain_graph\u001b[0m\u001b[0;34m,\u001b[0m \u001b[0mcreate_graph\u001b[0m\u001b[0;34m,\u001b[0m \u001b[0minputs\u001b[0m\u001b[0;34m,\u001b[0m\u001b[0;34m\u001b[0m\u001b[0;34m\u001b[0m\u001b[0m\n\u001b[0;32m--> 175\u001b[0;31m         allow_unreachable=True, accumulate_grad=True)  # Calls into the C++ engine to run the backward pass\n\u001b[0m\u001b[1;32m    176\u001b[0m \u001b[0;34m\u001b[0m\u001b[0m\n\u001b[1;32m    177\u001b[0m def grad(\n",
      "\u001b[0;31mKeyboardInterrupt\u001b[0m: "
     ]
    }
   ],
   "source": [
    "import time\n",
    "\n",
    "# データセット\n",
    "ds = TensorDataset(x_train, y_train)\n",
    "\n",
    "\n",
    "# バッチサイズ 1~256\n",
    "batch_sizes = [2**i for i in range(8)]\n",
    "\n",
    "# 結果を保存\n",
    "result = []\n",
    "\n",
    "for batch_size in batch_sizes:\n",
    "    # DataLoaderを作成\n",
    "    loader = DataLoader(ds, batch_size=batch_size, shuffle=True)\n",
    "    # 行列W\n",
    "    W = torch.randn(300, 4, requires_grad=True)\n",
    "    # 損失関数\n",
    "    loss_fn = torch.nn.CrossEntropyLoss()\n",
    "    # 最適化\n",
    "    optimizer = optim.SGD([W], lr=0.01)\n",
    "\n",
    "    # データ\n",
    "    train_losses = [] # 学習データの損失\n",
    "    train_accuracies = [] # 学習データの正解率\n",
    "    valid_losses = [] # 検証データの損失\n",
    "    valid_accuracies = [] # 検証データの正解率\n",
    "    \n",
    "    print('batch size: ', batch_size)\n",
    "    start = time.time()\n",
    "\n",
    "    for epoch in range(1, 11):\n",
    "        for inputs, targets in loader:\n",
    "            # 損失\n",
    "            loss = loss_fn(torch.matmul(inputs, W), targets)\n",
    "            # 勾配\n",
    "            optimizer.zero_grad()\n",
    "            loss.backward()\n",
    "            # 更新\n",
    "            optimizer.step()\n",
    "\n",
    "        # 学習の進捗\n",
    "        with torch.no_grad():\n",
    "            # 訓練\n",
    "            train_pred = pred(x_train, W)\n",
    "            train_accuracy = accuracy(train_pred, y_train)\n",
    "            train_loss = loss_fn(torch.matmul(x_train, W), y_train).item()\n",
    "            # 検証\n",
    "            valid_pred = pred(x_valid, W)\n",
    "            valid_accuracy = accuracy(valid_pred, y_valid)\n",
    "            valid_loss = loss_fn(torch.matmul(x_valid, W), y_valid).item()\n",
    "\n",
    "        # 保存\n",
    "        train_losses.append(train_loss)\n",
    "        train_accuracies.append(train_accuracy)\n",
    "        valid_losses.append(valid_loss)\n",
    "        valid_accuracies.append(valid_accuracy)\n",
    "    \n",
    "    # 1epochあたりの時間を計算\n",
    "    t = (time.time()-start) / 10\n",
    "    print(f'time / ephocs: {t}\\n')\n",
    "    \n",
    "    # batch_sizeごとの結果を保存\n",
    "    result.append([batch_size, t, train_losses, train_accuracies, valid_losses, valid_accuracies])"
   ]
  },
  {
   "cell_type": "code",
   "execution_count": null,
   "metadata": {},
   "outputs": [],
   "source": [
    "num = len(batch_sizes)\n",
    "fig, axes = plt.subplots(num, 2,figsize=(14,3*num))\n",
    "for b_size, data, ax in zip(batch_sizes, result, axes):\n",
    "    \n",
    "    # 損失をplot\n",
    "    a[0].plot(d[2], c='blue', label='train')\n",
    "    a[0].plot(d[4], c='green', label='vaid')\n",
    "    a[0].set_title('loss')\n",
    "    a[0].legend()\n",
    "    # 正解率をplot\n",
    "    a[1].plot(d[3], c='blue', label='train')\n",
    "    a[1].plot(d[5], c='green', label='vaid')\n",
    "    a[1].set_title('accuracy')\n",
    "    a[1].legend()\n",
    "\n",
    "    a.set_title(f'batch_size:{b_size}, time/epoch:{d[1]}')\n",
    "\n",
    "\n",
    "plt.show()"
   ]
  },
  {
   "cell_type": "markdown",
   "metadata": {},
   "source": [
    "## 78. GPU上での学習\n",
    "問題77のコードを改変し，GPU上で学習を実行せよ．"
   ]
  },
  {
   "cell_type": "code",
   "execution_count": null,
   "metadata": {},
   "outputs": [],
   "source": [
    "# GPU\n",
    "device = torch.device('cuda:1') if torch.cuda.is_available() else torch.device('cpu')\n",
    "# データセット\n",
    "ds = TensorDataset(x_train.to(device), y_train.to(device))\n",
    "\n",
    "\n",
    "# バッチサイズ 1~256\n",
    "batch_sizes = [2**i for i in range(8)]\n",
    "\n",
    "# 結果を保存\n",
    "result = []\n",
    "\n",
    "for batch_size in batch_sizes:\n",
    "    # DataLoaderを作成\n",
    "    loader = DataLoader(ds, batch_size=batch_size, shuffle=True)\n",
    "    # 行列W\n",
    "    W = torch.randn(300, 4, requires_grad=True).to(device)\n",
    "    # 損失関数\n",
    "    loss_fn = torch.nn.CrossEntropyLoss()\n",
    "    # 最適化\n",
    "    optimizer = optim.SGD([W], lr=0.01)\n",
    "\n",
    "    # データ\n",
    "    train_losses = [] # 学習データの損失\n",
    "    train_accuracies = [] # 学習データの正解率\n",
    "    valid_losses = [] # 検証データの損失\n",
    "    valid_accuracies = [] # 検証データの正解率\n",
    "    \n",
    "    print('batch size: ', batch_size)\n",
    "    start = time.time()\n",
    "\n",
    "    for epoch in range(1, 11):\n",
    "        for inputs, targets in loader:\n",
    "            # 損失\n",
    "            loss = loss_fn(torch.matmul(inputs, W), targets).to(device)\n",
    "            # 勾配\n",
    "            optimizer.zero_grad()\n",
    "            loss.backward()\n",
    "            # 更新\n",
    "            optimizer.step()\n",
    "\n",
    "        # 学習の進捗\n",
    "        with torch.no_grad():\n",
    "            # 訓練\n",
    "            train_pred = pred(x_train.to(device), W)\n",
    "            train_accuracy = accuracy(train_pred, y_train)\n",
    "            train_loss = loss_fn(torch.matmul(x_train, W), y_train).item()\n",
    "            # 検証\n",
    "            valid_pred = pred(x_valid, W)\n",
    "            valid_accuracy = accuracy(valid_pred, y_valid)\n",
    "            valid_loss = loss_fn(torch.matmul(x_valid, W), y_valid).item()\n",
    "\n",
    "        # 保存\n",
    "        train_losses.append(train_loss)\n",
    "        train_accuracies.append(train_accuracy)\n",
    "        valid_losses.append(valid_loss)\n",
    "        valid_accuracies.append(valid_accuracy)\n",
    "    \n",
    "    # 1epochあたりの時間を計算\n",
    "    t = (time.time()-start) / 10\n",
    "    print(f'time / ephocs: {t}\\n')\n",
    "    \n",
    "    # batch_sizeごとの結果を保存\n",
    "    result.append([batch_size, t, train_losses, train_accuracies, valid_losses, valid_accuracies])"
   ]
  },
  {
   "cell_type": "markdown",
   "metadata": {},
   "source": [
    "## 79. 多層ニューラルネットワーク\n",
    "問題78のコードを改変し，バイアス項の導入や多層化など，ニューラルネットワークの形状を変更しながら，高性能なカテゴリ分類器を構築せよ"
   ]
  },
  {
   "cell_type": "code",
   "execution_count": 168,
   "metadata": {},
   "outputs": [
    {
     "name": "stderr",
     "output_type": "stream",
     "text": [
      "/usr/local/lib/python3.7/site-packages/torch/cuda/__init__.py:145: UserWarning: \n",
      "NVIDIA RTX A6000 with CUDA capability sm_86 is not compatible with the current PyTorch installation.\n",
      "The current PyTorch install supports CUDA capabilities sm_37 sm_50 sm_60 sm_70.\n",
      "If you want to use the NVIDIA RTX A6000 GPU with PyTorch, please check the instructions at https://pytorch.org/get-started/locally/\n",
      "\n",
      "  warnings.warn(incompatible_device_warn.format(device_name, capability, \" \".join(arch_list), device_name))\n"
     ]
    },
    {
     "ename": "KeyboardInterrupt",
     "evalue": "",
     "output_type": "error",
     "traceback": [
      "\u001b[0;31m---------------------------------------------------------------------------\u001b[0m",
      "\u001b[0;31mKeyboardInterrupt\u001b[0m                         Traceback (most recent call last)",
      "\u001b[0;32m<timed exec>\u001b[0m in \u001b[0;36m<module>\u001b[0;34m\u001b[0m\n",
      "\u001b[0;32m/usr/local/lib/python3.7/site-packages/torch/_tensor.py\u001b[0m in \u001b[0;36mbackward\u001b[0;34m(self, gradient, retain_graph, create_graph, inputs)\u001b[0m\n\u001b[1;32m    361\u001b[0m                 \u001b[0mcreate_graph\u001b[0m\u001b[0;34m=\u001b[0m\u001b[0mcreate_graph\u001b[0m\u001b[0;34m,\u001b[0m\u001b[0;34m\u001b[0m\u001b[0;34m\u001b[0m\u001b[0m\n\u001b[1;32m    362\u001b[0m                 inputs=inputs)\n\u001b[0;32m--> 363\u001b[0;31m         \u001b[0mtorch\u001b[0m\u001b[0;34m.\u001b[0m\u001b[0mautograd\u001b[0m\u001b[0;34m.\u001b[0m\u001b[0mbackward\u001b[0m\u001b[0;34m(\u001b[0m\u001b[0mself\u001b[0m\u001b[0;34m,\u001b[0m \u001b[0mgradient\u001b[0m\u001b[0;34m,\u001b[0m \u001b[0mretain_graph\u001b[0m\u001b[0;34m,\u001b[0m \u001b[0mcreate_graph\u001b[0m\u001b[0;34m,\u001b[0m \u001b[0minputs\u001b[0m\u001b[0;34m=\u001b[0m\u001b[0minputs\u001b[0m\u001b[0;34m)\u001b[0m\u001b[0;34m\u001b[0m\u001b[0;34m\u001b[0m\u001b[0m\n\u001b[0m\u001b[1;32m    364\u001b[0m \u001b[0;34m\u001b[0m\u001b[0m\n\u001b[1;32m    365\u001b[0m     \u001b[0;32mdef\u001b[0m \u001b[0mregister_hook\u001b[0m\u001b[0;34m(\u001b[0m\u001b[0mself\u001b[0m\u001b[0;34m,\u001b[0m \u001b[0mhook\u001b[0m\u001b[0;34m)\u001b[0m\u001b[0;34m:\u001b[0m\u001b[0;34m\u001b[0m\u001b[0;34m\u001b[0m\u001b[0m\n",
      "\u001b[0;32m/usr/local/lib/python3.7/site-packages/torch/autograd/__init__.py\u001b[0m in \u001b[0;36mbackward\u001b[0;34m(tensors, grad_tensors, retain_graph, create_graph, grad_variables, inputs)\u001b[0m\n\u001b[1;32m    173\u001b[0m     Variable._execution_engine.run_backward(  # Calls into the C++ engine to run the backward pass\n\u001b[1;32m    174\u001b[0m         \u001b[0mtensors\u001b[0m\u001b[0;34m,\u001b[0m \u001b[0mgrad_tensors_\u001b[0m\u001b[0;34m,\u001b[0m \u001b[0mretain_graph\u001b[0m\u001b[0;34m,\u001b[0m \u001b[0mcreate_graph\u001b[0m\u001b[0;34m,\u001b[0m \u001b[0minputs\u001b[0m\u001b[0;34m,\u001b[0m\u001b[0;34m\u001b[0m\u001b[0;34m\u001b[0m\u001b[0m\n\u001b[0;32m--> 175\u001b[0;31m         allow_unreachable=True, accumulate_grad=True)  # Calls into the C++ engine to run the backward pass\n\u001b[0m\u001b[1;32m    176\u001b[0m \u001b[0;34m\u001b[0m\u001b[0m\n\u001b[1;32m    177\u001b[0m def grad(\n",
      "\u001b[0;31mKeyboardInterrupt\u001b[0m: "
     ]
    }
   ],
   "source": [
    "%%time\n",
    "from IPython.display import clear_output\n",
    "from matplotlib import pyplot as plt\n",
    "%matplotlib inline\n",
    "\n",
    "\n",
    "# データ更新があるたびにグラフを更新する関数\n",
    "def live_plot(train_losses, train_accuracies, valid_losses, valid_accuracies):\n",
    "    # グラフ準備\n",
    "    clear_output(wait=True)\n",
    "    fig, ax = plt.subplots(1,2,figsize=(14,5))\n",
    "    # 損失をplot\n",
    "    ax[0].plot(train_losses,c='blue', label='train')\n",
    "    ax[0].plot(valid_losses,c='green', label='vaid')\n",
    "    ax[0].set_title('loss')\n",
    "    ax[0].legend()\n",
    "    # 正解率をplot\n",
    "    ax[1].plot(train_accuracies,c='blue', label='train')\n",
    "    ax[1].plot(valid_accuracies,c='green', label='vaid')\n",
    "    ax[1].set_title('accuracy')\n",
    "    ax[1].legend()\n",
    "    plt.show()\n",
    "\n",
    "# データセット\n",
    "ds = TensorDataset(x_train, y_train)\n",
    "# DataLoaderを作成\n",
    "loader = DataLoader(ds, batch_size=2, shuffle=True, num_workers=2, pin_memory=True)\n",
    "\n",
    "# 行列W\n",
    "W = torch.randn(300, 4, requires_grad=True)\n",
    "# 損失関数\n",
    "loss_fn = torch.nn.CrossEntropyLoss()\n",
    "\n",
    "train_losses = [] # 学習データの損失\n",
    "train_accuracies = [] # 学習データの正解率\n",
    "valid_losses = [] # 検証データの損失\n",
    "valid_accuracies = [] # 検証データの正解率\n",
    "\n",
    "\n",
    "for epoch in range(10):\n",
    "    x = [i for i in range(epoch+1)] # グラフx軸\n",
    "    for inputs, targets in loader:\n",
    "        # 損失\n",
    "        loss = loss_fn(torch.matmul(inputs, W), targets)\n",
    "        # 勾配\n",
    "        loss.backward()\n",
    "        # 更新\n",
    "        W = (W - W.grad * 0.01).detach().requires_grad_()\n",
    "\n",
    "    # 学習の進捗\n",
    "    with torch.no_grad():\n",
    "        # 訓練\n",
    "        train_pred = pred(x_train, W)\n",
    "        train_accuracy = accuracy(train_pred, y_train)\n",
    "        train_loss = loss_fn(torch.matmul(x_train, W), y_train).item()\n",
    "        # 検証\n",
    "        valid_pred = pred(x_valid, W)\n",
    "        valid_accuracy = accuracy(valid_pred, y_valid)\n",
    "        valid_loss = loss_fn(torch.matmul(x_valid, W), y_valid).item()\n",
    "        # 保存\n",
    "        train_losses.append(train_loss)\n",
    "        train_accuracies.append(train_accuracy)\n",
    "        valid_losses.append(valid_loss)\n",
    "        valid_accuracies.append(valid_accuracy)\n",
    "        \n",
    "        # グラフの描画\n",
    "        live_plot(train_losses, train_accuracies, valid_losses, valid_accuracies)"
   ]
  },
  {
   "cell_type": "code",
   "execution_count": null,
   "metadata": {},
   "outputs": [],
   "source": []
  }
 ],
 "metadata": {
  "kernelspec": {
   "display_name": "Python 3 (ipykernel)",
   "language": "python",
   "name": "python3"
  },
  "language_info": {
   "codemirror_mode": {
    "name": "ipython",
    "version": 3
   },
   "file_extension": ".py",
   "mimetype": "text/x-python",
   "name": "python",
   "nbconvert_exporter": "python",
   "pygments_lexer": "ipython3",
   "version": "3.7.12"
  },
  "orig_nbformat": 4
 },
 "nbformat": 4,
 "nbformat_minor": 2
}

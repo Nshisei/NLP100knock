{
  "cells": [
    {
      "cell_type": "markdown",
      "metadata": {
        "id": "2EfFjoyu1Ohb"
      },
      "source": [
        "# 第8章: ニューラルネット"
      ]
    },
    {
      "cell_type": "code",
      "execution_count": 1,
      "metadata": {},
      "outputs": [
        {
          "name": "stdout",
          "output_type": "stream",
          "text": [
            "Thu Aug 18 04:07:28 2022       \n",
            "+-----------------------------------------------------------------------------+\n",
            "| NVIDIA-SMI 470.57.02    Driver Version: 470.57.02    CUDA Version: 11.4     |\n",
            "|-------------------------------+----------------------+----------------------+\n",
            "| GPU  Name        Persistence-M| Bus-Id        Disp.A | Volatile Uncorr. ECC |\n",
            "| Fan  Temp  Perf  Pwr:Usage/Cap|         Memory-Usage | GPU-Util  Compute M. |\n",
            "|                               |                      |               MIG M. |\n",
            "|===============================+======================+======================|\n",
            "|   0  NVIDIA RTX A6000    On   | 00000000:01:00.0 Off |                  Off |\n",
            "| 30%   29C    P8    24W / 300W |      8MiB / 48685MiB |      0%      Default |\n",
            "|                               |                      |                  N/A |\n",
            "+-------------------------------+----------------------+----------------------+\n",
            "|   1  NVIDIA RTX A6000    On   | 00000000:25:00.0 Off |                  Off |\n",
            "| 30%   29C    P8    24W / 300W |   1725MiB / 48685MiB |      0%      Default |\n",
            "|                               |                      |                  N/A |\n",
            "+-------------------------------+----------------------+----------------------+\n",
            "|   2  NVIDIA RTX A6000    On   | 00000000:41:00.0 Off |                  Off |\n",
            "| 30%   29C    P8    33W / 300W |      8MiB / 48685MiB |      0%      Default |\n",
            "|                               |                      |                  N/A |\n",
            "+-------------------------------+----------------------+----------------------+\n",
            "|   3  NVIDIA RTX A6000    On   | 00000000:61:00.0 Off |                  Off |\n",
            "| 36%   66C    P2   288W / 300W |  46065MiB / 48685MiB |     87%      Default |\n",
            "|                               |                      |                  N/A |\n",
            "+-------------------------------+----------------------+----------------------+\n",
            "|   4  NVIDIA RTX A6000    On   | 00000000:81:00.0 Off |                  Off |\n",
            "| 44%   70C    P2   203W / 300W |  43095MiB / 48685MiB |     39%      Default |\n",
            "|                               |                      |                  N/A |\n",
            "+-------------------------------+----------------------+----------------------+\n",
            "|   5  NVIDIA RTX A6000    On   | 00000000:A1:00.0 Off |                  Off |\n",
            "| 30%   27C    P8    17W / 300W |      8MiB / 48685MiB |      0%      Default |\n",
            "|                               |                      |                  N/A |\n",
            "+-------------------------------+----------------------+----------------------+\n",
            "|   6  NVIDIA RTX A6000    On   | 00000000:C1:00.0 Off |                  Off |\n",
            "| 30%   27C    P8    15W / 300W |      8MiB / 48685MiB |      0%      Default |\n",
            "|                               |                      |                  N/A |\n",
            "+-------------------------------+----------------------+----------------------+\n",
            "|   7  NVIDIA RTX A6000    On   | 00000000:E1:00.0 Off |                  Off |\n",
            "| 30%   26C    P8    22W / 300W |      8MiB / 48685MiB |      0%      Default |\n",
            "|                               |                      |                  N/A |\n",
            "+-------------------------------+----------------------+----------------------+\n",
            "                                                                               \n",
            "+-----------------------------------------------------------------------------+\n",
            "| Processes:                                                                  |\n",
            "|  GPU   GI   CI        PID   Type   Process name                  GPU Memory |\n",
            "|        ID   ID                                                   Usage      |\n",
            "|=============================================================================|\n",
            "+-----------------------------------------------------------------------------+\n"
          ]
        }
      ],
      "source": [
        "# GPUメモリの使用状況の確認\n",
        "!nvidia-smi"
      ]
    },
    {
      "cell_type": "code",
      "execution_count": 2,
      "metadata": {},
      "outputs": [],
      "source": [
        "import os\n",
        "# 使用するGPUを指定\n",
        "os.environ['CUDA_VISIBLE_DEVICES'] = '1'"
      ]
    },
    {
      "cell_type": "code",
      "execution_count": 70,
      "metadata": {},
      "outputs": [
        {
          "name": "stdout",
          "output_type": "stream",
          "text": [
            "device_count: 1\n",
            "current device num: 0\n"
          ]
        }
      ],
      "source": [
        "import torch\n",
        "from torch import nn\n",
        "# 確認\n",
        "print('device_count:', torch.cuda.device_count())\n",
        "print('current device num:', torch.cuda.current_device())"
      ]
    },
    {
      "cell_type": "code",
      "execution_count": 4,
      "metadata": {
        "colab": {
          "base_uri": "https://localhost:8080/"
        },
        "id": "N0QL008c1Yli",
        "outputId": "011142d6-4e8b-4de1-e63f-ee7ef780c6b2"
      },
      "outputs": [
        {
          "name": "stdout",
          "output_type": "stream",
          "text": [
            "--2022-08-13 01:53:11--  https://archive.ics.uci.edu/ml/machine-learning-databases/00359/NewsAggregatorDataset.zip\n",
            "Resolving archive.ics.uci.edu (archive.ics.uci.edu)... 128.195.10.252\n",
            "Connecting to archive.ics.uci.edu (archive.ics.uci.edu)|128.195.10.252|:443... connected.\n",
            "HTTP request sent, awaiting response... 200 OK\n",
            "Length: 29224203 (28M) [application/x-httpd-php]\n",
            "Saving to: ‘NewsAggregatorDataset.zip.1’\n",
            "\n",
            "NewsAggregatorDatas 100%[===================>]  27.87M  15.0MB/s    in 1.9s    \n",
            "\n",
            "2022-08-13 01:53:14 (15.0 MB/s) - ‘NewsAggregatorDataset.zip.1’ saved [29224203/29224203]\n",
            "\n",
            "Archive:  NewsAggregatorDataset.zip\n",
            "replace 2pageSessions.csv? [y]es, [n]o, [A]ll, [N]one, [r]ename: ^C\n"
          ]
        }
      ],
      "source": [
        "# データのダウンロード\n",
        "!wget https://archive.ics.uci.edu/ml/machine-learning-databases/00359/NewsAggregatorDataset.zip\n",
        "!unzip NewsAggregatorDataset.zip"
      ]
    },
    {
      "cell_type": "code",
      "execution_count": 4,
      "metadata": {
        "id": "kc5gEjRO1c2w"
      },
      "outputs": [],
      "source": [
        "import gdown\n",
        "from gensim.models import KeyedVectors\n",
        "\n",
        "# # 学習済み単語ベクトルのダウンロード\n",
        "# url = \"https://drive.google.com/uc?id=0B7XkCwpI5KDYNlNUTTlSS21pQmM\"\n",
        "# output = 'GoogleNews-vectors-negative300.bin.gz'\n",
        "# gdown.download(url, output, quiet=True)\n",
        "\n",
        "# ダウンロードファイルのロード\n",
        "model = KeyedVectors.load_word2vec_format('GoogleNews-vectors-negative300.bin.gz', binary=True)"
      ]
    },
    {
      "cell_type": "markdown",
      "metadata": {
        "id": "fD_LlQRL1Ohd"
      },
      "source": [
        "## 70. 単語ベクトルの和による特徴量\n",
        "\n",
        "問題50で構築した学習データ，検証データ，評価データを行列・ベクトルに変換したい．\n",
        "各titleを形態素解析し、単語列に変換する。その単語列を一つずつベクトル化し、その平均値をそのtitleのベクトルとする。\n"
      ]
    },
    {
      "cell_type": "code",
      "execution_count": 5,
      "metadata": {
        "colab": {
          "base_uri": "https://localhost:8080/"
        },
        "id": "fzQm7dct1Ohf",
        "outputId": "161a8a8a-d445-44e3-ff5d-9061c23409e3"
      },
      "outputs": [
        {
          "name": "stdout",
          "output_type": "stream",
          "text": [
            "【学習データ】\n",
            "b    4502\n",
            "e    4223\n",
            "t    1219\n",
            "m     728\n",
            "Name: category, dtype: int64\n",
            "【検証データ】\n",
            "b    562\n",
            "e    528\n",
            "t    153\n",
            "m     91\n",
            "Name: category, dtype: int64\n",
            "【評価データ】\n",
            "b    563\n",
            "e    528\n",
            "t    152\n",
            "m     91\n",
            "Name: category, dtype: int64\n"
          ]
        }
      ],
      "source": [
        "import pandas as pd\n",
        "from sklearn.model_selection import train_test_split\n",
        "\n",
        "# 読み込み\n",
        "df = pd.read_csv('./newsCorpora.csv', header=None, sep='\\t', names=['id', 'title', 'url', 'publisher', 'category', 'story', 'hostname', 'timestamp'])\n",
        "\n",
        "# 抽出\n",
        "df = df.loc[df['publisher'].isin(['Reuters', 'Huffington Post', 'Businessweek', 'Contactmusic.com', 'Daily Mail']), ['title', 'category']]\n",
        "\n",
        "# 分割\n",
        "train, valid_test = train_test_split(df, test_size=0.2, shuffle=True, random_state=0, stratify=df['category'])\n",
        "valid, test = train_test_split(valid_test, test_size=0.5, shuffle=True, random_state=0, stratify=valid_test['category'])\n",
        "\n",
        "# 確認\n",
        "print('【学習データ】')\n",
        "print(train['category'].value_counts())\n",
        "print('【検証データ】')\n",
        "print(valid['category'].value_counts())\n",
        "print('【評価データ】')\n",
        "print(test['category'].value_counts())"
      ]
    },
    {
      "cell_type": "code",
      "execution_count": 6,
      "metadata": {
        "id": "Sv624Vm72dfp"
      },
      "outputs": [],
      "source": [
        "from nltk import *"
      ]
    },
    {
      "cell_type": "code",
      "execution_count": 7,
      "metadata": {
        "colab": {
          "base_uri": "https://localhost:8080/"
        },
        "id": "U8ZVSZkC1Ohh",
        "outputId": "0ed868c8-b487-434d-e4dc-3f8b3f252db9"
      },
      "outputs": [
        {
          "name": "stderr",
          "output_type": "stream",
          "text": [
            "[nltk_data] Downloading package punkt to /root/nltk_data...\n",
            "[nltk_data]   Package punkt is already up-to-date!\n",
            "[nltk_data] Downloading package wordnet to /root/nltk_data...\n",
            "[nltk_data]   Package wordnet is already up-to-date!\n",
            "[nltk_data] Downloading package averaged_perceptron_tagger to\n",
            "[nltk_data]     /root/nltk_data...\n",
            "[nltk_data]   Package averaged_perceptron_tagger is already up-to-\n",
            "[nltk_data]       date!\n"
          ]
        }
      ],
      "source": [
        "download('punkt')\n",
        "download('wordnet')\n",
        "download('averaged_perceptron_tagger')\n",
        "\n",
        "stemmer = stem.PorterStemmer()\n",
        "lemmatizer = stem.WordNetLemmatizer()"
      ]
    },
    {
      "cell_type": "code",
      "execution_count": 8,
      "metadata": {
        "id": "wWWhRhm11Ohi"
      },
      "outputs": [],
      "source": [
        "import numpy as np\n",
        "import re\n",
        "\n",
        "# 文字列の前処理\n",
        "def char_processing(text):\n",
        "    text = re.sub(r'[^\\w\\s]', ' ', text) # スペース以外の記号文字全てをスペースに置換\n",
        "    text = re.sub(r'\\s{2,}', ' ', text) # ２個以上のスペースは一つに置換\n",
        "    text = text.lower() # 小文字化\n",
        "    text = re.sub('[0-9]+', '0', text)  # 数字列を0に置換\n",
        "    return text\n",
        "\n",
        "# 各単語の見出し語を返す\n",
        "def lemma(word,pos):\n",
        "    if pos.startswith('J'): # 形容詞\n",
        "        return lemmatizer.lemmatize(word, pos=\"a\")\n",
        "    elif pos.startswith('V'): # 動詞\n",
        "        return lemmatizer.lemmatize(word, pos=\"v\")\n",
        "    elif pos.startswith('N'): # 名詞\n",
        "        return lemmatizer.lemmatize(word, pos=\"n\")\n",
        "    elif pos.startswith('R'): # 副詞\n",
        "        return lemmatizer.lemmatize(word, pos=\"r\")\n",
        "    else:\n",
        "        return word\n",
        "\n",
        "# 文章を見出し語列に変換する\n",
        "def lemma_text(text):\n",
        "    tokens = word_tokenize(text) # 分かち書き\n",
        "    tokens = [lemma(word,pos) for word, pos in pos_tag(tokens)]\n",
        "    text = ' '.join(tokens) # token配列を文章に戻す\n",
        "    return text\n",
        "\n",
        "# 入力された文章のベクトルを生成\n",
        "# 単語ごとに分割し、各単語をベクトルに変換\n",
        "# 最後に列ごとに平均値を取って文章ベクトルとする\n",
        "def word2vec(text):\n",
        "    words = text.split(' ')\n",
        "    vecs = []\n",
        "    for w in words:\n",
        "        # 単語がモデルのvocabに含まれていたらそのベクトルを採用\n",
        "        if w in model:\n",
        "            vecs.append(model[w])\n",
        "        # 含まれていなければ見出し語に変換したもののベクトルを採用\n",
        "        elif lemma_text(w) in model:\n",
        "            vecs.append(model[lemma_text(w)])\n",
        "        # それでも含まれていない場合はスキップ\n",
        "        else:\n",
        "            pass\n",
        "    # ベクトルが求められない場合は、停止.(本データでは存在しなかった)\n",
        "    assert len(vecs)>0, 'All words are not included!' \n",
        "    return torch.tensor(np.mean(vecs, axis=0)) # 列ごとに平均を取る\n",
        "\n",
        "# 前処理\n",
        "def processing(text):\n",
        "    text = char_processing(text)\n",
        "    return word2vec(text)"
      ]
    },
    {
      "cell_type": "code",
      "execution_count": 9,
      "metadata": {
        "id": "Co7SJgIt1Ohk"
      },
      "outputs": [],
      "source": [
        "#　前処理\n",
        "x_train = torch.stack([processing(text) for text in train['title']])\n",
        "x_valid = torch.stack([processing(text) for text in valid['title']])\n",
        "x_test = torch.stack([processing(text) for text in test['title']])\n",
        "\n",
        "category_dict = {'b': 0, 'e': 1, 't':2, 'm':3}\n",
        "y_train = torch.tensor(train['category'].map(lambda y: category_dict[y]).values)\n",
        "y_valid = torch.tensor(valid['category'].map(lambda y: category_dict[y]).values)\n",
        "y_test = torch.tensor(test['category'].map(lambda y: category_dict[y]).values)"
      ]
    },
    {
      "cell_type": "markdown",
      "metadata": {
        "id": "UNw_QmHW1Oht"
      },
      "source": [
        "## 71. 単層ニューラルネットワークによる予測\n",
        "問題70で保存した行列を読み込み、学習データについて以下の計算を実行せよ\n",
        "$$\n",
        "\\hat{y}_1 = softmax(\\bold{x_1}W), \\hat{Y}_1 = softmax(\\bold{X_{[1:4]}}W), \n",
        "$$\n",
        "$\\bold{X_{[1:4]}}$は特徴ベクトル$\\bold{x_1}$~$\\bold{x_4}$を縦に並べたもの\n",
        "\n",
        "行列$W$は$d\\times L$のランダムな値で初期化された単層ニューラルネットワーク重み行列\n",
        "\n",
        "$d$:単語ベクトルの次元数300\n",
        "\n",
        "$L$:ラベルの種類数"
      ]
    },
    {
      "cell_type": "markdown",
      "metadata": {
        "id": "YyKBrgeY1Ohu"
      },
      "source": [
        "**torch.Tensor**: Tensor型.実際にはnumpyのndarray型ととても似ており,ベクトル表現から行列表現,それらの演算といった機能が提供されている."
      ]
    },
    {
      "cell_type": "code",
      "execution_count": 10,
      "metadata": {
        "colab": {
          "base_uri": "https://localhost:8080/"
        },
        "id": "bKSfQ7ZB1Ohv",
        "outputId": "20490cb5-ef87-49e3-a599-51fec3f40fcd"
      },
      "outputs": [
        {
          "name": "stdout",
          "output_type": "stream",
          "text": [
            "tensor([[0.1240, 0.0120, 0.7999, 0.0640]])\n",
            "tensor([[0.1240, 0.0120, 0.7999, 0.0640],\n",
            "        [0.3645, 0.0179, 0.6094, 0.0082],\n",
            "        [0.1627, 0.1041, 0.4240, 0.3092],\n",
            "        [0.0355, 0.4326, 0.2780, 0.2539]])\n"
          ]
        }
      ],
      "source": [
        "# 乱数によって初期化された300×4行列\n",
        "W = torch.randn(300, 4)\n",
        "# 特徴ベクトルx1\n",
        "x1 = x_train[:1]\n",
        "# XとWの内積\n",
        "xW = torch.matmul(x1, W)\n",
        "\n",
        "# 行方向のsoftmaxの演算\n",
        "softmax = nn.Softmax(dim=1)\n",
        "y_hat = softmax(xW)\n",
        "print(y_hat)\n",
        "\n",
        "# x1~x4の特徴ベクトル\n",
        "X = x_train[:4]\n",
        "XW = torch.matmul(X, W)\n",
        "Y_hat = softmax(XW)\n",
        "print(Y_hat)"
      ]
    },
    {
      "cell_type": "markdown",
      "metadata": {
        "id": "Ln7XK72U1Ohv"
      },
      "source": [
        "## 72. 損失と勾配の計算\n",
        "学習データ事例$x_1$と事例集合$x_1,x_2,x_3,x_4$に対して、クロスエントロピー損失と、行列$W$に対する勾配を計算せよ.\n",
        "$$\n",
        "l_i = -log[事例x_iがy_iに分類される確率]\n",
        "$$\n",
        "\n",
        "ただし、事例集合に対するクロスエントロピー損失はその集合に含まれる各事例の損失の平均とする"
      ]
    },
    {
      "cell_type": "markdown",
      "metadata": {
        "id": "oZMJ0yD91Ohv"
      },
      "source": [
        "\n",
        "**requires_grad**:勾配を自動で計算することを定義する引数\n",
        "**backward()**:バックワードモードの自動微分.出力側から順番に計算する。\n",
        "\n",
        "計算グラフを作成したあと、微分対象のテンソルの Tensor.backward() を呼び出します。すると、逆伝搬が行われ、Tensor.grad 属性に計算した微分係数が記録されます。\n",
        "\n"
      ]
    },
    {
      "cell_type": "markdown",
      "metadata": {},
      "source": [
        "[行列に対する勾配](https://zenn.dev/schnell/articles/579df242f79964)"
      ]
    },
    {
      "cell_type": "markdown",
      "metadata": {},
      "source": [
        "$$\n",
        "\\frac{\\partial L}{\\partial \\bold{W}}=\\bold{X}^T\\cdot \\frac{\\partial L}{\\partial \\bold{Y}}\n",
        "$$"
      ]
    },
    {
      "cell_type": "code",
      "execution_count": 61,
      "metadata": {},
      "outputs": [],
      "source": [
        "import math\n",
        "from torch.utils.data import TensorDataset, DataLoader\n",
        "# クロスエントロピー\n",
        "def cross_entropy(p,y):\n",
        "    p = p.tolist() # 予測値\n",
        "    y = y.tolist() # 正解値\n",
        "    loss_list = [-math.log(p[i][y[i]]) for i in range(len(p))] # 各事例の損失リスト\n",
        "    loss = sum(loss_list)/len(loss_list)\n",
        "    return loss\n",
        "\n",
        "def gradient(X,y,W):\n",
        "    # grad = torch.tensor([[0 for j in range(300)] for i in range(4)],dtype=float) #勾配の初期化\n",
        "    grad = torch.zeros(300,4)\n",
        "    y_list = y.tolist()\n",
        "    n = len(y_list)\n",
        "    P = softmax(torch.matmul(X,W)) #予測行列\n",
        "    T = torch.tensor([[1 if j == y_list[i] else 0 for j in range(4)] for i in range(n)]) #正解行列\n",
        "    # for i in range(n):\n",
        "    #     grad += torch.matmul(torch.t((P - T)[i:i+1]),X[i:i+1]) #各事例に対する勾配の和を求める\n",
        "    # grad = grad/n #平均\n",
        "    grad = torch.matmul(torch.t(X), (P-T))\n",
        "    return grad.float()"
      ]
    },
    {
      "cell_type": "code",
      "execution_count": 49,
      "metadata": {},
      "outputs": [
        {
          "name": "stdout",
          "output_type": "stream",
          "text": [
            "損失 0.1859\n",
            "torch.Size([1, 4])\n",
            "勾配 tensor([[0., 0., 0., 0.],\n",
            "        [0., 0., 0., 0.],\n",
            "        [0., 0., 0., 0.],\n",
            "        ...,\n",
            "        [0., 0., 0., 0.],\n",
            "        [0., 0., 0., 0.],\n",
            "        [0., 0., 0., 0.]])\n",
            "損失 1.6925\n",
            "torch.Size([1, 4])\n",
            "勾配 tensor([[0., 0., 0., 0.],\n",
            "        [0., 0., 0., 0.],\n",
            "        [0., 0., 0., 0.],\n",
            "        ...,\n",
            "        [0., 0., 0., 0.],\n",
            "        [0., 0., 0., 0.],\n",
            "        [0., 0., 0., 0.]])\n"
          ]
        }
      ],
      "source": [
        "# 事例x1\n",
        "W = torch.randn(300, 4)\n",
        "# 損失関数\n",
        "pred_y = softmax(torch.matmul(x_train[:1], W))\n",
        "loss = cross_entropy(pred_y, y_train[:1])\n",
        "print(f'損失{loss: .4f}')\n",
        "# 勾配\n",
        "grad = gradient(x_train[:1], y_train[:1], W)\n",
        "print('勾配', grad)\n",
        "\n",
        "# 事例集合\n",
        "W = torch.randn(300, 4)\n",
        "pred_y = softmax(torch.matmul(x_train[:4], W))\n",
        "loss = cross_entropy(pred_y, y_train[:4])\n",
        "print(f'損失{loss: .4f}')\n",
        "# 勾配\n",
        "grad = gradient(x_train[:4], y_train[:4], W)\n",
        "print('勾配', grad)"
      ]
    },
    {
      "cell_type": "code",
      "execution_count": 12,
      "metadata": {},
      "outputs": [
        {
          "name": "stdout",
          "output_type": "stream",
          "text": [
            "損失 1.6113\n",
            "勾配 tensor([[ 0.1682, -0.1015, -0.0301, -0.0366],\n",
            "        [-0.0390,  0.0236,  0.0070,  0.0085],\n",
            "        [ 0.0090, -0.0054, -0.0016, -0.0020],\n",
            "        ...,\n",
            "        [ 0.0102, -0.0061, -0.0018, -0.0022],\n",
            "        [-0.0822,  0.0496,  0.0147,  0.0179],\n",
            "        [ 0.0577, -0.0348, -0.0103, -0.0126]])\n",
            "損失 1.8183\n",
            "勾配 tensor([[ 0.3157, -0.0535, -0.0715, -0.1907],\n",
            "        [-0.0881,  0.0245,  0.0139,  0.0496],\n",
            "        [-0.0612, -0.0295,  0.0452,  0.0454],\n",
            "        ...,\n",
            "        [-0.0345,  0.0162,  0.0169,  0.0014],\n",
            "        [-0.1619, -0.0501,  0.0809,  0.1311],\n",
            "        [ 0.0898, -0.0656,  0.0129, -0.0372]])\n"
          ]
        }
      ],
      "source": [
        "# 事例x1\n",
        "W = torch.randn(300, 4)\n",
        "# 損失関数\n",
        "pred_y = softmax(torch.matmul(x_train[:1], W))\n",
        "loss = cross_entropy(pred_y, y_train[:1])\n",
        "print(f'損失{loss: .4f}')\n",
        "# 勾配\n",
        "grad = gradient(x_train[:1], y_train[:1], W)\n",
        "print('勾配', grad)\n",
        "\n",
        "# 事例集合\n",
        "W = torch.randn(300, 4)\n",
        "pred_y = softmax(torch.matmul(x_train[:4], W))\n",
        "loss = cross_entropy(pred_y, y_train[:4])\n",
        "print(f'損失{loss: .4f}')\n",
        "# 勾配\n",
        "grad = gradient(x_train[:4], y_train[:4], W)\n",
        "print('勾配', grad)"
      ]
    },
    {
      "cell_type": "markdown",
      "metadata": {
        "id": "xLnSRVmO1Ohw"
      },
      "source": [
        "## 73. 確率的勾配降下法による学習\n",
        "確率的勾配降下法（SGD: Stochastic Gradient Descent）を用いて，行列Wを学習せよ．なお，学習は適当な基準で終了させればよい（例えば「100エポックで終了」など）．"
      ]
    },
    {
      "cell_type": "markdown",
      "metadata": {
        "id": "LlBvt2wW1Ohw"
      },
      "source": [
        "**Dataset**: 特徴量と正解ラベルのセット. データと対応する1組のラベルを返すもの\n",
        "**DataLoader**: Datasetからバッチサイズずつデータを取り出す"
      ]
    },
    {
      "cell_type": "code",
      "execution_count": 14,
      "metadata": {},
      "outputs": [
        {
          "name": "stdout",
          "output_type": "stream",
          "text": [
            "Epoch 10: loss= 0.0039\n",
            "Epoch 20: loss= 2.4907\n",
            "Epoch 30: loss= 0.0168\n",
            "Epoch 40: loss= 0.0011\n",
            "Epoch 50: loss= 0.2345\n",
            "Epoch 60: loss= 0.0144\n",
            "Epoch 70: loss= 0.0004\n",
            "Epoch 80: loss= 0.0674\n",
            "Epoch 90: loss= 1.9911\n",
            "Epoch 100: loss= 0.2254\n"
          ]
        }
      ],
      "source": [
        "from torch.utils.data import TensorDataset, DataLoader\n",
        "\n",
        "# データセット\n",
        "ds = TensorDataset(x_train, y_train)\n",
        "# DataLoaderを作成\n",
        "loader = DataLoader(ds, batch_size=1, shuffle=True)\n",
        "\n",
        "# 行列W\n",
        "W = torch.randn(300, 4)\n",
        "\n",
        "for epoch in range(100):\n",
        "    for inputs, targets in loader:\n",
        "        # 損失\n",
        "        pred_y = softmax(torch.matmul(inputs, W))\n",
        "        loss = cross_entropy(pred_y, targets)\n",
        "        # 勾配\n",
        "        grad = gradient(inputs, targets, W)\n",
        "        # 更新\n",
        "        W = (W - grad * 0.01)\n",
        "\n",
        "    if (epoch+1) % 10 == 0:\n",
        "        print(f\"Epoch {epoch+1}: loss={loss: .4f}\")"
      ]
    },
    {
      "cell_type": "markdown",
      "metadata": {
        "id": "EMmoTZAo1Ohx"
      },
      "source": [
        "## 74. 正解率の計測\n",
        "問題73で求めた行列を用いて学習データおよび評価データの事例を分類したとき，その正解率をそれぞれ求めよ．"
      ]
    },
    {
      "cell_type": "markdown",
      "metadata": {
        "id": "dXLD_00A1Ohx"
      },
      "source": [
        "**with torch.no_grad()**: そのブロック中は勾配の計算を不可にすることでメモリの消費量を減らす"
      ]
    },
    {
      "cell_type": "code",
      "execution_count": 57,
      "metadata": {
        "colab": {
          "base_uri": "https://localhost:8080/"
        },
        "id": "vbYsKzP31Ohx",
        "outputId": "b8771d32-656f-4f46-a4d0-6fa6b8149f71"
      },
      "outputs": [
        {
          "name": "stdout",
          "output_type": "stream",
          "text": [
            "train accuracy: 0.310\n",
            "test accuracy: 0.315\n"
          ]
        }
      ],
      "source": [
        "# 入力されたデータから予測分類ラベルを返す\n",
        "def pred(inputs, W):\n",
        "    softmax = torch.nn.Softmax(dim=1)\n",
        "    # 分類の確率\n",
        "    class_probs = softmax(torch.matmul(inputs, W))\n",
        "    # 確率最大のインデックスを取得\n",
        "    class_idx = torch.argmax(class_probs, dim=1)\n",
        "\n",
        "    return class_idx\n",
        "\n",
        "# 予測ラベルと正解ラベルから正解率を返す\n",
        "def accuracy(pred, targets):\n",
        "    correct = 0\n",
        "    for p, t in zip(pred, targets):\n",
        "        if p == t:\n",
        "            correct += 1\n",
        "\n",
        "    return correct / len(pred)\n",
        "\n",
        "# 訓練データの正解率\n",
        "with torch.no_grad():\n",
        "    train_pred = pred(x_train, W)\n",
        "    train_accuracy = accuracy(train_pred, y_train)\n",
        "print(f'train accuracy:{train_accuracy: .3f}')\n",
        "\n",
        "\n",
        "# 評価データの正解率\n",
        "with torch.no_grad():\n",
        "    test_pred = pred(x_test, W)\n",
        "    test_accuracy = accuracy(test_pred, y_test)\n",
        "print(f'test accuracy:{test_accuracy: .3f}')"
      ]
    },
    {
      "cell_type": "markdown",
      "metadata": {
        "id": "YMsyCLCP1Ohx"
      },
      "source": [
        "## 75. 損失と正解率のプロット\n",
        "問題73のコードを改変し，各エポックのパラメータ更新が完了するたびに，訓練データでの損失，正解率，検証データでの損失，正解率をグラフにプロットし，学習の進捗状況を確認できるようにせよ．"
      ]
    },
    {
      "cell_type": "code",
      "execution_count": 14,
      "metadata": {},
      "outputs": [],
      "source": [
        "from IPython.display import clear_output\n",
        "from matplotlib import pyplot as plt\n",
        "%matplotlib inline\n",
        "\n",
        "# データ更新があるたびにグラフを更新する関数\n",
        "def live_plot(train_losses, train_accuracies, valid_losses, valid_accuracies):\n",
        "    # グラフ準備\n",
        "    clear_output(wait=True)\n",
        "    fig, ax = plt.subplots(1,2,figsize=(14,5))\n",
        "    # 損失をplot\n",
        "    ax[0].plot(train_losses,c='blue', label='train')\n",
        "    ax[0].plot(valid_losses,c='green', label='vaid')\n",
        "    ax[0].set_title('loss')\n",
        "    ax[0].legend()\n",
        "    # 正解率をplot\n",
        "    ax[1].plot(train_accuracies,c='blue', label='train')\n",
        "    ax[1].plot(valid_accuracies,c='green', label='vaid')\n",
        "    ax[1].set_title('accuracy')\n",
        "    ax[1].legend()\n",
        "    plt.show()"
      ]
    },
    {
      "cell_type": "code",
      "execution_count": 16,
      "metadata": {
        "colab": {
          "base_uri": "https://localhost:8080/",
          "height": 336
        },
        "id": "ILwDqQtU1Ohx",
        "outputId": "0750d8d6-83c9-48c9-892c-4cb9b35456b4"
      },
      "outputs": [
        {
          "data": {
            "image/png": "[encoded data removed]",
            "text/plain": [
              "<Figure size 1008x360 with 2 Axes>"
            ]
          },
          "metadata": {
            "needs_background": "light"
          },
          "output_type": "display_data"
        }
      ],
      "source": [
        "# データセット\n",
        "ds = TensorDataset(x_train, y_train)\n",
        "# DataLoaderを作成\n",
        "loader = DataLoader(ds, batch_size=1, shuffle=True)\n",
        "\n",
        "# 行列W\n",
        "W = torch.randn(300, 4)\n",
        "\n",
        "train_losses = [] # 学習データの損失\n",
        "train_accuracies = [] # 学習データの正解率\n",
        "valid_losses = [] # 検証データの損失\n",
        "valid_accuracies = [] # 検証データの正解率\n",
        "\n",
        "\n",
        "for epoch in range(100):\n",
        "    for inputs, targets in loader:\n",
        "        # 損失\n",
        "        pred_y = softmax(torch.matmul(inputs, W))\n",
        "        loss = cross_entropy(pred_y, targets)\n",
        "        # 勾配\n",
        "        grad = gradient(inputs, targets, W)\n",
        "        # 更新\n",
        "        W = (W - grad * 0.01)\n",
        "\n",
        "    # 学習の進捗\n",
        "    with torch.no_grad():\n",
        "        # 訓練\n",
        "        train_pred = pred(x_train, W)\n",
        "        train_accuracy = accuracy(train_pred, y_train)\n",
        "        train_loss = cross_entropy(softmax(torch.matmul(x_train, W)), y_train)\n",
        "        # 検証\n",
        "        valid_pred = pred(x_valid, W)\n",
        "        valid_accuracy = accuracy(valid_pred, y_valid)\n",
        "        valid_loss = cross_entropy(softmax(torch.matmul(x_valid, W)), y_valid)\n",
        "    # 保存\n",
        "    train_losses.append(train_loss)\n",
        "    train_accuracies.append(train_accuracy)\n",
        "    valid_losses.append(valid_loss)\n",
        "    valid_accuracies.append(valid_accuracy)\n",
        "    \n",
        "    # グラフの描画\n",
        "    live_plot(train_losses, train_accuracies, valid_losses, valid_accuracies)"
      ]
    },
    {
      "cell_type": "markdown",
      "metadata": {
        "id": "bS50sCuC1Ohy"
      },
      "source": [
        "## 76. チェックポイント\n",
        "問題75のコードを改変し，各エポックのパラメータ更新が完了するたびに，チェックポイント（学習途中のパラメータ（重み行列など）の値や最適化アルゴリズムの内部状態）をファイルに書き出せ"
      ]
    },
    {
      "cell_type": "markdown",
      "metadata": {
        "id": "VQzWX-5T1Ohy"
      },
      "source": [
        "### 最適化手法\n",
        "主に損失関数の最小値(とその時のパラメータ)を求めるアルゴリズム\n",
        "\n",
        "|最適化手法|説明|\n",
        "|:--|:--|\n",
        "|SGD（Stochastic Gradient Decent : 確率的勾配降下法）|ランダムに拾った1つのデータを使って、求めた勾配方向に求めた大きさだけパラメータを更新する手法。△：複雑な状況では最適化が進みにくい。並列処理ができない|\n",
        "|SDG – ミニバッチ(Mini-batch)|SDGでミニバッチを使い、1回の更新で一定数のデータを使って学習する手法。△：データによっては学習が異常に遅くなることがある|\n",
        "|SDG – モーメンタム(Momentum)|過去の動き(勾配の移動平均)を考慮することでSDGの振動を抑えるという手法。△：過去の結果が間違ったベクトルであっても反映されてしまう|\n",
        "|Adagrad（Adaptive Gradient Algorithm）|学習率を学習の中で更新し続ける手法。パラメータの学習率を制御し大きな勾配の影響を小さくすることで、効率的に最適化を進めることができる△：学習が進むと学習率が小さくなり更新されなくなる|\n",
        "|RMSprop（Root Mean Square propagation）|Adagradに比べ、古い勾配情報よりも新しい勾配情報が反映されやすい手法。学習が進んでも学習率の調整が適切に行われる|\n",
        "|Adam（Adaptive Moment Estimation）|移動平均で振動を抑制するモーメンタムと、学習率で振動を抑制するRMSpropを組み合わせたもの。複雑な形状でも適切な方向を探すことができる|\n",
        "|Adadelta|更新量 = (過去の更新量の移動平均)/(過去の勾配の移動平均)*(現在の勾配)△：収束が少し遅い|\n",
        "|AdamW|Adamよりも最適な重み減衰(Weight decay)を加えた手法。損失関数計算およびパラメータ更新時にリッジ回帰を追加したもの|\n",
        "\n",
        "などがある.今回はSGDを採用する\n",
        "\n",
        "最適化アルゴリズムの内部状態とは以下のようなハイパーメータの情報\n",
        "\n",
        "Optimizer's state_dict:\n",
        "\n",
        "state: 現在のオプティマイザーの状態\n",
        "\n",
        "param_groups:  [{'lr': 0.001, 'momentum': 0.9, 'dampening': 0, 'weight_decay': 0, 'nesterov': False, 'params': [139665281919328, 139665281919488, 139665281919568, 139665281919648, 139665281919728, 139665281919808, 139665281922384, 139665281919408, 139665281919888, 139665281919968]}]"
      ]
    },
    {
      "cell_type": "markdown",
      "metadata": {
        "id": "4GHJ3gQh1Ohy"
      },
      "source": [
        "逆伝搬で勾配を計算した際に、以前に計算した勾配がある場合はそれに加算する形になっている。\n",
        "\n",
        "今回の勾配 = 前回計算した勾配 + 今回計算した勾配\n",
        "\n",
        "\n",
        "この仕様は RNN などのモデルでは有用だが、そうでない場合は前回計算した勾配を0で初期化する必要があるので、その場合は backward() を呼び出す前に zero_grad() を行う必要がある。\n",
        "\n"
      ]
    },
    {
      "cell_type": "code",
      "execution_count": 15,
      "metadata": {},
      "outputs": [],
      "source": [
        "def adam(W,grad,m,v):\n",
        "    a=0.001;b1=0.9;b2=0.999;e=0.00000001\n",
        "    m = b1*m+(1-b1)*grad\n",
        "    v = b2*v+(1-b2)*grad*grad\n",
        "    m_ = m/(1-b1)\n",
        "    v_ = v/(1-b2)\n",
        "    W = W - a*m_/(torch.sqrt(v_)+e)\n",
        "    return W, m, v\n",
        "\n",
        "def save_checkpoints(W,m,v,epoch):\n",
        "    torch.save(W,f'./76checkpoints/epoch{epoch}_W.pt')\n",
        "    torch.save(torch.stack([m,v]),f'./76checkpoints/epoch{epoch}_state.pt')"
      ]
    },
    {
      "cell_type": "code",
      "execution_count": 22,
      "metadata": {
        "id": "-j_ylOXT1Ohy",
        "outputId": "68bfd2dc-b19f-4478-bb07-65f9d690e06b"
      },
      "outputs": [
        {
          "data": {
            "image/png": "[encoded data removed]",
            "text/plain": [
              "<Figure size 1008x360 with 2 Axes>"
            ]
          },
          "metadata": {
            "needs_background": "light"
          },
          "output_type": "display_data"
        }
      ],
      "source": [
        "import torch.optim as optim\n",
        "import os\n",
        "import shutil\n",
        "\n",
        "# データセット\n",
        "ds = TensorDataset(x_train, y_train)\n",
        "# DataLoaderを作成\n",
        "loader = DataLoader(ds, batch_size=1, shuffle=True)\n",
        "\n",
        "# 行列W\n",
        "W = torch.randn(300, 4)\n",
        "\n",
        "train_losses = [] # 学習データの損失\n",
        "train_accuracies = [] # 学習データの正解率\n",
        "valid_losses = [] # 検証データの損失\n",
        "valid_accuracies = [] # 検証データの正解率\n",
        "\n",
        "# 最適化\n",
        "# adamのパラメータ\n",
        "m=0; v=0\n",
        "\n",
        "# checkpoint用フォルダ\n",
        "path = './SGDparams'\n",
        "shutil.rmtree(path)\n",
        "os.makedirs(path, exist_ok=True)\n",
        "\n",
        "for epoch in range(100):\n",
        "    x = [i for i in range(epoch+1)] # グラフx軸\n",
        "    for inputs, targets in loader:\n",
        "        # 損失\n",
        "        pred_y = softmax(torch.matmul(inputs, W))\n",
        "        loss = cross_entropy(pred_y, targets)\n",
        "        # 勾配\n",
        "        grad = gradient(inputs, targets, W)\n",
        "        # 更新\n",
        "        W, m, v = adam(W,grad,m,v) #重み更新\n",
        "\n",
        "    # 学習の進捗\n",
        "    with torch.no_grad():\n",
        "        # 訓練\n",
        "        train_pred = pred(x_train, W)\n",
        "        train_accuracy = accuracy(train_pred, y_train)\n",
        "        train_loss = cross_entropy(softmax(torch.matmul(x_train, W)), y_train)\n",
        "        # 検証\n",
        "        valid_pred = pred(x_valid, W)\n",
        "        valid_accuracy = accuracy(valid_pred, y_valid)\n",
        "        valid_loss = cross_entropy(softmax(torch.matmul(x_valid, W)), y_valid)\n",
        "\n",
        "    # 保存\n",
        "    train_losses.append(train_loss)\n",
        "    train_accuracies.append(train_accuracy)\n",
        "    valid_losses.append(valid_loss)\n",
        "    valid_accuracies.append(valid_accuracy)\n",
        "    \n",
        "    # グラフの描画\n",
        "    live_plot(train_losses, train_accuracies, valid_losses, valid_accuracies)\n",
        "\n",
        "    # チェックポイントの保存\n",
        "    save_checkpoints(W,m,v,epoch)"
      ]
    },
    {
      "cell_type": "code",
      "execution_count": 26,
      "metadata": {
        "id": "5xxrdBt71Ohz",
        "outputId": "e631bdde-c32e-46b5-cb4c-db6a5e84ea9b"
      },
      "outputs": [
        {
          "name": "stdout",
          "output_type": "stream",
          "text": [
            "W\n",
            "tensor([[-1.9602,  0.7553, -1.0294,  0.5820],\n",
            "        [ 0.2146,  1.5331, -0.3742, -0.2012],\n",
            "        [ 1.6158,  0.1988, -0.1391,  0.8765],\n",
            "        ...,\n",
            "        [ 1.5258,  0.1157,  0.7502,  0.4597],\n",
            "        [-1.1834, -1.2862,  0.4064,  0.9378],\n",
            "        [-0.1378,  0.5845, -1.0014, -0.7293]])\n",
            "state\n",
            "tensor([[[ 1.5433e-03, -6.5417e-04, -3.3858e-04, -5.5054e-04],\n",
            "         [-2.0040e-03,  5.7371e-03,  5.0336e-03, -8.7667e-03],\n",
            "         [-3.9111e-03,  2.7873e-03,  1.8321e-03, -7.0828e-04],\n",
            "         ...,\n",
            "         [ 3.4978e-03, -2.2544e-04, -3.2230e-03, -4.9324e-05],\n",
            "         [-2.3720e-03,  7.2263e-03,  4.8327e-03, -9.6869e-03],\n",
            "         [ 8.4160e-03, -4.9126e-04,  3.2352e-03, -1.1160e-02]],\n",
            "\n",
            "        [[ 3.8840e-04,  3.3815e-04,  3.5122e-04,  2.3540e-04],\n",
            "         [ 3.9036e-04,  3.5487e-04,  3.3593e-04,  2.6641e-04],\n",
            "         [ 2.7958e-04,  2.9195e-04,  2.6651e-04,  2.0010e-04],\n",
            "         ...,\n",
            "         [ 3.3107e-04,  3.5296e-04,  3.2156e-04,  2.2631e-04],\n",
            "         [ 3.8213e-04,  2.8714e-04,  2.8625e-04,  2.8236e-04],\n",
            "         [ 4.2431e-04,  2.9514e-04,  3.4976e-04,  1.8959e-04]]])\n",
            "W\n",
            "tensor([[-1.4370, -1.2456,  0.1402,  1.1187],\n",
            "        [-0.0990,  1.4868, -0.4320, -0.4677],\n",
            "        [ 1.8977, -1.9899,  0.3546,  2.1992],\n",
            "        ...,\n",
            "        [ 0.3733,  1.4418,  0.3866,  1.6188],\n",
            "        [-0.9193,  0.2987, -1.2032,  0.2269],\n",
            "        [-1.6888,  1.0064, -2.1945,  2.5811]])\n",
            "state\n",
            "tensor([[[ 6.5616e-04,  9.6487e-05, -7.2145e-04, -3.1196e-05],\n",
            "         [-1.4959e-05,  1.4479e-04, -2.2091e-04,  9.1077e-05],\n",
            "         [ 1.1255e-04,  7.9856e-04, -1.0659e-03,  1.5482e-04],\n",
            "         ...,\n",
            "         [-2.0995e-03,  9.9312e-04,  9.8219e-04,  1.2418e-04],\n",
            "         [ 7.1593e-04, -1.4204e-03,  7.2126e-04, -1.6743e-05],\n",
            "         [-6.2605e-04, -3.1798e-04,  1.0464e-03, -1.0239e-04]],\n",
            "\n",
            "        [[ 1.8895e-04,  1.2263e-04,  1.6601e-04,  5.4144e-05],\n",
            "         [ 1.5384e-04,  1.1063e-04,  1.2738e-04,  4.2051e-05],\n",
            "         [ 1.1765e-04,  6.2786e-05,  8.7957e-05,  4.2148e-05],\n",
            "         ...,\n",
            "         [ 1.4309e-04,  1.1010e-04,  1.1001e-04,  4.3039e-05],\n",
            "         [ 1.5064e-04,  8.2128e-05,  1.1674e-04,  4.6228e-05],\n",
            "         [ 1.7282e-04,  1.2410e-04,  1.1243e-04,  4.2723e-05]]])\n"
          ]
        }
      ],
      "source": [
        "for epoch in ['0', '99']:\n",
        "    checkpoint = torch.load(f'./76checkpoints/epoch{epoch}_W.pt')\n",
        "    print('W')\n",
        "    print(checkpoint)\n",
        "    print('state')\n",
        "    states = torch.load(f'./76checkpoints/epoch{epoch}_state.pt')\n",
        "    print(states)"
      ]
    },
    {
      "cell_type": "markdown",
      "metadata": {
        "id": "zc-Xj1y21Ohz"
      },
      "source": [
        "## 77. ミニバッチ化\n",
        "問題76のコードを改変し，B事例ごとに損失・勾配を計算し，行列Wの値を更新せよ（ミニバッチ化）．Bの値を1,2,4,8,…と変化させながら，1エポックの学習に要する時間を比較せよ"
      ]
    },
    {
      "cell_type": "code",
      "execution_count": 67,
      "metadata": {},
      "outputs": [],
      "source": [
        "def gradient(X,y,W):\n",
        "    # grad = torch.tensor([[0 for j in range(300)] for i in range(4)],dtype=float) #勾配の初期化\n",
        "    grad = torch.zeros(300,4)\n",
        "    y_list = y.tolist()\n",
        "    n = len(y_list)\n",
        "    P = softmax(torch.matmul(X,W)) #予測行列\n",
        "    T = torch.tensor([[1 if j == y_list[i] else 0 for j in range(4)] for i in range(n)]) #正解行列\n",
        "    grad = torch.matmul(torch.t(X), (P-T))\n",
        "    return grad.float()"
      ]
    },
    {
      "cell_type": "code",
      "execution_count": 68,
      "metadata": {},
      "outputs": [
        {
          "name": "stdout",
          "output_type": "stream",
          "text": [
            "batch size:  1\n",
            "time / ephocs: 1.9527735710144043\n",
            "\n",
            "batch size:  2\n",
            "time / ephocs: 205.06802034378052\n",
            "\n",
            "batch size:  4\n",
            "time / ephocs: 102.16322064399719\n",
            "\n",
            "batch size:  8\n",
            "time / ephocs: 51.30818486213684\n",
            "\n",
            "batch size:  16\n",
            "time / ephocs: 25.963775157928467\n",
            "\n",
            "batch size:  32\n",
            "time / ephocs: 12.856843709945679\n",
            "\n",
            "batch size:  64\n",
            "time / ephocs: 6.531780004501343\n",
            "\n",
            "batch size:  128\n",
            "time / ephocs: 3.3742105960845947\n",
            "\n"
          ]
        }
      ],
      "source": [
        "import torch.optim as optim\n",
        "import time\n",
        "\n",
        "# データセット\n",
        "ds = TensorDataset(x_train, y_train)\n",
        "\n",
        "\n",
        "# バッチサイズ 1~256\n",
        "batch_sizes = [2**i for i in range(8)]\n",
        "\n",
        "# 結果を保存\n",
        "result = []\n",
        "# 最適化\n",
        "# adamのパラメータ\n",
        "m=0; v=0\n",
        "\n",
        "for batch_size in batch_sizes:\n",
        "    # DataLoaderを作成\n",
        "    loader = DataLoader(ds, batch_size=batch_size, shuffle=True)\n",
        "    # 行列W\n",
        "    W = torch.randn(300, 4)\n",
        "    \n",
        "    print('batch size: ', batch_size)\n",
        "    start = time.time()\n",
        "\n",
        "    for inputs, targets in loader:\n",
        "        # 勾配\n",
        "        grad = gradient(inputs, targets, W)\n",
        "        # 更新\n",
        "        W, m, v = adam(W,grad,m,v) #重み更新\n",
        "\n",
        "    # # 学習の進捗\n",
        "    with torch.no_grad():\n",
        "        # 訓練\n",
        "        train_pred = pred(x_train, W)\n",
        "        train_accuracy = accuracy(train_pred, y_train)\n",
        "        train_loss = cross_entropy(softmax(torch.matmul(x_train, W)), y_train)\n",
        "        # 検証\n",
        "        valid_pred = pred(x_valid, W)\n",
        "        valid_accuracy = accuracy(valid_pred, y_valid)\n",
        "        valid_loss = cross_entropy(softmax(torch.matmul(x_valid, W)), y_valid)\n",
        "\n",
        "    # 1epochあたりの時間を計算\n",
        "    t = (time.time()-start)\n",
        "    print(f'time / ephocs: {t}\\n')\n"
      ]
    },
    {
      "cell_type": "markdown",
      "metadata": {},
      "source": [
        "前回のコードをそのまま試してもbatch size2以降は同様に時間がかかった。\n",
        "\n",
        "（舌さんのコードを試しても時間がかかったので、cpu問題だと思われます）"
      ]
    },
    {
      "cell_type": "markdown",
      "metadata": {
        "id": "NkCa5jEr1Oh0"
      },
      "source": [
        "## 78. GPU上での学習\n",
        "問題77のコードを改変し，GPU上で学習を実行せよ．"
      ]
    },
    {
      "cell_type": "markdown",
      "metadata": {
        "id": "KVEaNcMak2SU"
      },
      "source": [
        "to()はコピーを作るため、微分情報を持たせたい変数は以下のようにする。\n",
        "```\n",
        "x.to(device).detach().requires_grad_(True)\n",
        "```"
      ]
    },
    {
      "cell_type": "code",
      "execution_count": 77,
      "metadata": {},
      "outputs": [],
      "source": [
        "def gradient(X,y,W):\n",
        "    # grad = torch.tensor([[0 for j in range(300)] for i in range(4)],dtype=float) #勾配の初期化\n",
        "    grad = torch.zeros(300,4).to(device)\n",
        "    y_list = y.tolist()\n",
        "    n = len(y_list)\n",
        "    P = softmax(torch.matmul(X,W)).to(device) #予測行列\n",
        "    T = torch.tensor([[1 if j == y_list[i] else 0 for j in range(4)] for i in range(n)]).to(device) #正解行列\n",
        "    grad = torch.matmul(torch.t(X), (P-T))\n",
        "    return grad.float()"
      ]
    },
    {
      "cell_type": "code",
      "execution_count": 79,
      "metadata": {},
      "outputs": [
        {
          "name": "stdout",
          "output_type": "stream",
          "text": [
            "batch size:  1\n",
            "time / ephocs: 4.135786056518555\n",
            "\n",
            "batch size:  2\n",
            "time / ephocs: 2.3954288959503174\n",
            "\n",
            "batch size:  4\n",
            "time / ephocs: 1.2425076961517334\n",
            "\n",
            "batch size:  8\n",
            "time / ephocs: 0.7766644954681396\n",
            "\n",
            "batch size:  16\n",
            "time / ephocs: 0.5378191471099854\n",
            "\n",
            "batch size:  32\n",
            "time / ephocs: 0.42554664611816406\n",
            "\n",
            "batch size:  64\n",
            "time / ephocs: 0.3584315776824951\n",
            "\n",
            "batch size:  128\n",
            "time / ephocs: 0.4956488609313965\n",
            "\n"
          ]
        }
      ],
      "source": [
        "# GPU\n",
        "device = torch.device('cuda:0') if torch.cuda.is_available() else torch.device('cpu')\n",
        "# データセット\n",
        "ds = TensorDataset(x_train.to(device), y_train.to(device))\n",
        "\n",
        "import torch.optim as optim\n",
        "import time\n",
        "\n",
        "\n",
        "\n",
        "# バッチサイズ 1~256\n",
        "batch_sizes = [2**i for i in range(8)]\n",
        "\n",
        "# 結果を保存\n",
        "result = []\n",
        "# 最適化\n",
        "# adamのパラメータ\n",
        "m=0; v=0\n",
        "\n",
        "for batch_size in batch_sizes:\n",
        "    # DataLoaderを作成\n",
        "    loader = DataLoader(ds, batch_size=batch_size, shuffle=True)\n",
        "    # 行列W\n",
        "    W = torch.randn(300, 4).to(device)\n",
        "    \n",
        "    print('batch size: ', batch_size)\n",
        "    start = time.time()\n",
        "\n",
        "    for inputs, targets in loader:\n",
        "        # 勾配\n",
        "        grad = gradient(inputs.to(device), targets.to(device), W.to(device)).to(device)\n",
        "        # 更新\n",
        "        W, m, v = adam(W.to(device),grad.to(device),m,v) #重み更新\n",
        "\n",
        "    # # 学習の進捗\n",
        "    with torch.no_grad():\n",
        "        # 訓練\n",
        "        train_pred = pred(x_train.to(device), W.to(device))\n",
        "        train_accuracy = accuracy(train_pred.to(device), y_train.to(device))\n",
        "        train_loss = cross_entropy(softmax(torch.matmul(x_train.to(device), W.to(device))), y_train.to(device))\n",
        "        # 検証\n",
        "        valid_pred = pred(x_valid.to(device), W)\n",
        "        valid_accuracy = accuracy(valid_pred.to(device), y_valid.to(device))\n",
        "        valid_loss = cross_entropy(softmax(torch.matmul(x_valid.to(device), W)), y_valid.to(device))\n",
        "\n",
        "    # 1epochあたりの時間を計算\n",
        "    t = (time.time()-start)\n",
        "    print(f'time / ephocs: {t}\\n')"
      ]
    },
    {
      "cell_type": "markdown",
      "metadata": {
        "id": "5Yzer_N41Oh0"
      },
      "source": [
        "## 79. 多層ニューラルネットワーク\n",
        "問題78のコードを改変し，バイアス項の導入や多層化など，ニューラルネットワークの形状を変更しながら，高性能なカテゴリ分類器を構築せよ"
      ]
    },
    {
      "cell_type": "code",
      "execution_count": 35,
      "metadata": {},
      "outputs": [
        {
          "data": {
            "image/png": "[encoded data removed]",
            "text/plain": [
              "<Figure size 1008x360 with 2 Axes>"
            ]
          },
          "metadata": {
            "needs_background": "light"
          },
          "output_type": "display_data"
        }
      ],
      "source": [
        "import torch.optim as optim\n",
        "import torch.nn.functional as F\n",
        "import time\n",
        "\n",
        "class MLN(nn.Module):\n",
        "    def __init__(self, input_size, output_size):\n",
        "        super(MLN, self).__init__()\n",
        "        self.fc1 = nn.Linear(input_size, 128)\n",
        "        self.fc2 = nn.Linear(128, 64)\n",
        "        self.fc3 = nn.Linear(64, output_size)\n",
        "        self.drop = nn.Dropout(0.5)\n",
        "\n",
        "    def forward(self, x):\n",
        "        x = F.relu(self.fc1(x))\n",
        "        x = self.drop(x)\n",
        "        x = F.relu(self.fc2(x))\n",
        "        x = self.drop(x)\n",
        "        x = F.relu(self.fc3(x))\n",
        "        return x\n",
        "\n",
        "# GPU\n",
        "torch.device('cuda:0') if torch.cuda.is_available() else torch.device('cpu')\n",
        "\n",
        "# データセット\n",
        "ds = TensorDataset(x_train.to(device), y_train.to(device))\n",
        "# DataLoaderを作成\n",
        "loader = DataLoader(ds, batch_size=1, shuffle=True)\n",
        "\n",
        "# hyper parameters\n",
        "input_size = 300\n",
        "output_size = 4\n",
        "epochs = 100\n",
        "# 損失関数\n",
        "loss_fn = torch.nn.CrossEntropyLoss()\n",
        "\n",
        "# データ\n",
        "train_losses = [] # 学習データの損失\n",
        "train_accuracies = [] # 学習データの正解率\n",
        "valid_losses = [] # 検証データの損失\n",
        "valid_accuracies = [] # 検証データの正解率\n",
        "\n",
        "# モデル\n",
        "model = MLN(input_size, output_size).to(device)\n",
        "optimizer = optim.SGD(model.parameters(), lr=0.01)\n",
        "\n",
        "for epoch in range(1, epochs + 1):\n",
        "    for inputs, targets in loader:\n",
        "        # forward\n",
        "        model.train()\n",
        "        outputs = model(inputs)\n",
        "        # 損失\n",
        "        loss = loss_fn(outputs, targets).to(device)\n",
        "        # 勾配\n",
        "        optimizer.zero_grad()\n",
        "        loss.backward()\n",
        "        # 更新\n",
        "        optimizer.step()\n",
        "\n",
        "    # loss, accuracy\n",
        "    model.eval()\n",
        "    with torch.no_grad():\n",
        "        train_pred = model(x_train.to(device))\n",
        "        train_accuracy = accuracy(torch.argmax(train_pred.to(device), dim=1), y_train)\n",
        "        train_loss = loss_fn(train_pred.to(device), y_train.to(device)).item()\n",
        "\n",
        "        valid_pred = model(x_valid.to(device))\n",
        "        valid_accuracy = accuracy(torch.argmax(valid_pred.to(device), dim=1), y_valid.to(device))\n",
        "        valid_loss = loss_fn(valid_pred.to(device), y_valid.to(device)).item()\n",
        "\n",
        "\n",
        "    train_losses.append(train_loss)\n",
        "    train_accuracies.append(train_accuracy)\n",
        "    valid_losses.append(valid_loss)\n",
        "    valid_accuracies.append(valid_accuracy)\n",
        "\n",
        "    # グラフの描画\n",
        "    live_plot(train_losses, train_accuracies, valid_losses, valid_accuracies)"
      ]
    }
  ],
  "metadata": {
    "accelerator": "GPU",
    "colab": {
      "name": "NLP100knock_08.ipynb",
      "provenance": []
    },
    "kernelspec": {
      "display_name": "Python 3 (ipykernel)",
      "language": "python",
      "name": "python3"
    },
    "language_info": {
      "codemirror_mode": {
        "name": "ipython",
        "version": 3
      },
      "file_extension": ".py",
      "mimetype": "text/x-python",
      "name": "python",
      "nbconvert_exporter": "python",
      "pygments_lexer": "ipython3",
      "version": "3.7.12"
    },
    "orig_nbformat": 4
  },
  "nbformat": 4,
  "nbformat_minor": 0
}

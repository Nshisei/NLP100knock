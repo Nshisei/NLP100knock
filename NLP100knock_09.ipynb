{
 "cells": [
  {
   "cell_type": "markdown",
   "metadata": {},
   "source": [
    "# 第9章: RNN, CNN"
   ]
  },
  {
   "cell_type": "code",
   "execution_count": 1,
   "metadata": {},
   "outputs": [
    {
     "name": "stdout",
     "output_type": "stream",
     "text": [
      "Tue Jun  7 14:27:25 2022       \n",
      "+-----------------------------------------------------------------------------+\n",
      "| NVIDIA-SMI 470.57.02    Driver Version: 470.57.02    CUDA Version: 11.4     |\n",
      "|-------------------------------+----------------------+----------------------+\n",
      "| GPU  Name        Persistence-M| Bus-Id        Disp.A | Volatile Uncorr. ECC |\n",
      "| Fan  Temp  Perf  Pwr:Usage/Cap|         Memory-Usage | GPU-Util  Compute M. |\n",
      "|                               |                      |               MIG M. |\n",
      "|===============================+======================+======================|\n",
      "|   0  NVIDIA RTX A6000    On   | 00000000:01:00.0 Off |                  Off |\n",
      "| 30%   28C    P8    17W / 300W |   2181MiB / 48685MiB |      0%      Default |\n",
      "|                               |                      |                  N/A |\n",
      "+-------------------------------+----------------------+----------------------+\n",
      "|   1  NVIDIA RTX A6000    On   | 00000000:25:00.0 Off |                  Off |\n",
      "| 30%   29C    P8    15W / 300W |      8MiB / 48685MiB |      0%      Default |\n",
      "|                               |                      |                  N/A |\n",
      "+-------------------------------+----------------------+----------------------+\n",
      "|   2  NVIDIA RTX A6000    On   | 00000000:C1:00.0 Off |                  Off |\n",
      "| 42%   69C    P2   280W / 300W |  46759MiB / 48685MiB |     98%      Default |\n",
      "|                               |                      |                  N/A |\n",
      "+-------------------------------+----------------------+----------------------+\n",
      "|   3  NVIDIA RTX A6000    On   | 00000000:E1:00.0 Off |                  Off |\n",
      "| 30%   26C    P8    15W / 300W |      8MiB / 48685MiB |      0%      Default |\n",
      "|                               |                      |                  N/A |\n",
      "+-------------------------------+----------------------+----------------------+\n",
      "                                                                               \n",
      "+-----------------------------------------------------------------------------+\n",
      "| Processes:                                                                  |\n",
      "|  GPU   GI   CI        PID   Type   Process name                  GPU Memory |\n",
      "|        ID   ID                                                   Usage      |\n",
      "|=============================================================================|\n",
      "+-----------------------------------------------------------------------------+\n"
     ]
    }
   ],
   "source": [
    "# GPUメモリの使用状況の確認\n",
    "!nvidia-smi"
   ]
  },
  {
   "cell_type": "code",
   "execution_count": 2,
   "metadata": {},
   "outputs": [],
   "source": [
    "import os\n",
    "# 使用するGPUを指定\n",
    "# os.environ['CUDA_VISIBLE_DEVICES'] = '1'\n",
    "os.environ['CUDA_VISIBLE_DEVICES'] = '0'"
   ]
  },
  {
   "cell_type": "code",
   "execution_count": 3,
   "metadata": {},
   "outputs": [
    {
     "name": "stdout",
     "output_type": "stream",
     "text": [
      "device_count: 1\n",
      "current device num: 0\n"
     ]
    },
    {
     "name": "stderr",
     "output_type": "stream",
     "text": [
      "/usr/local/lib/python3.7/site-packages/tqdm/auto.py:22: TqdmWarning: IProgress not found. Please update jupyter and ipywidgets. See https://ipywidgets.readthedocs.io/en/stable/user_install.html\n",
      "  from .autonotebook import tqdm as notebook_tqdm\n"
     ]
    }
   ],
   "source": [
    "import torch\n",
    "from torch import nn\n",
    "# 確認\n",
    "print('device_count:', torch.cuda.device_count())\n",
    "print('current device num:', torch.cuda.current_device())\n",
    "# GPU\n",
    "device = torch.device('cuda:0') if torch.cuda.is_available() else torch.device('cpu')\n",
    "# device = torch.device('cpu')"
   ]
  },
  {
   "cell_type": "code",
   "execution_count": 4,
   "metadata": {},
   "outputs": [],
   "source": [
    "import os\n",
    "import numpy as np\n",
    "import pandas as pd\n",
    "import pytorch_lightning as pl\n",
    "import torch\n",
    "import torch.optim as optim\n",
    "from pytorch_lightning.callbacks import EarlyStopping, ModelCheckpoint\n",
    "from sklearn.model_selection import train_test_split\n",
    "from torch import nn\n",
    "from torch.utils.data import DataLoader, Dataset\n",
    "from transformers import BertModel"
   ]
  },
  {
   "cell_type": "markdown",
   "metadata": {},
   "source": [
    "## 80. ID番号への変換\n",
    "問題51で構築した学習データ中の単語にユニークなID番号を付与したい．学習データ中で最も頻出する単語に1，2番目に頻出する単語に2，……といった方法で，学習データ中で2回以上出現する単語にID番号を付与せよ．そして，与えられた単語列に対して，ID番号の列を返す関数を実装せよ．ただし，出現頻度が2回未満の単語のID番号はすべて0とせよ．"
   ]
  },
  {
   "cell_type": "code",
   "execution_count": 5,
   "metadata": {},
   "outputs": [
    {
     "name": "stdout",
     "output_type": "stream",
     "text": [
      "【学習データ】\n",
      "b    4502\n",
      "e    4223\n",
      "t    1219\n",
      "m     728\n",
      "Name: category, dtype: int64\n",
      "【検証データ】\n",
      "b    562\n",
      "e    528\n",
      "t    153\n",
      "m     91\n",
      "Name: category, dtype: int64\n",
      "【評価データ】\n",
      "b    563\n",
      "e    528\n",
      "t    152\n",
      "m     91\n",
      "Name: category, dtype: int64\n"
     ]
    }
   ],
   "source": [
    "import pandas as pd\n",
    "from sklearn.model_selection import train_test_split\n",
    "\n",
    "# 読み込み\n",
    "df = pd.read_csv('./newsCorpora.csv', header=None, sep='\\t', names=['id', 'title', 'url', 'publisher', 'category', 'story', 'hostname', 'timestamp'])\n",
    "\n",
    "# 抽出\n",
    "df = df.loc[df['publisher'].isin(['Reuters', 'Huffington Post', 'Businessweek', 'Contactmusic.com', 'Daily Mail']), ['title', 'category']]\n",
    "\n",
    "# 分割\n",
    "train, valid_test = train_test_split(df, test_size=0.2, shuffle=True, random_state=0, stratify=df['category'])\n",
    "valid, test = train_test_split(valid_test, test_size=0.5, shuffle=True, random_state=0, stratify=valid_test['category'])\n",
    "\n",
    "# 確認\n",
    "print('【学習データ】')\n",
    "print(train['category'].value_counts())\n",
    "print('【検証データ】')\n",
    "print(valid['category'].value_counts())\n",
    "print('【評価データ】')\n",
    "print(test['category'].value_counts())"
   ]
  },
  {
   "cell_type": "code",
   "execution_count": 6,
   "metadata": {},
   "outputs": [
    {
     "name": "stderr",
     "output_type": "stream",
     "text": [
      "[nltk_data] Downloading package punkt to /root/nltk_data...\n",
      "[nltk_data]   Package punkt is already up-to-date!\n",
      "[nltk_data] Downloading package wordnet to /root/nltk_data...\n",
      "[nltk_data]   Package wordnet is already up-to-date!\n",
      "[nltk_data] Downloading package averaged_perceptron_tagger to\n",
      "[nltk_data]     /root/nltk_data...\n",
      "[nltk_data]   Package averaged_perceptron_tagger is already up-to-\n",
      "[nltk_data]       date!\n"
     ]
    }
   ],
   "source": [
    "from nltk import *\n",
    "download('punkt')\n",
    "download('wordnet')\n",
    "download('averaged_perceptron_tagger')\n",
    "\n",
    "stemmer = stem.PorterStemmer()\n",
    "lemmatizer = stem.WordNetLemmatizer()"
   ]
  },
  {
   "cell_type": "code",
   "execution_count": 7,
   "metadata": {},
   "outputs": [],
   "source": [
    "import numpy as np\n",
    "import re\n",
    "\n",
    "# 文字列の前処理\n",
    "def char_processing(text):\n",
    "    text = re.sub(r'[^\\w\\s]', ' ', text) # スペース以外の記号文字全てをスペースに置換\n",
    "    text = re.sub(r'\\s{2,}', ' ', text) # ２個以上のスペースは一つに置換\n",
    "    return text\n",
    "\n",
    "# 文章DFから単語DFに変換する\n",
    "def make_word_df(ser):\n",
    "    # 1文目\n",
    "    first_text = ser.iloc[0] \n",
    "    first_text = char_processing(first_text) # 前処理\n",
    "    words = [w for w in first_text.split(' ') if w != ''] # 文章を単語ごとに分割する\n",
    "    words_df = pd.DataFrame(words, columns=['word'])\n",
    "    # 2文目以降\n",
    "    for text in ser.iloc[1:]:\n",
    "        text = char_processing(text) # 前処理\n",
    "        words = [w for w in text.split(' ') if w != ''] # 文章を単語ごとに分割する\n",
    "        tmp = pd.DataFrame(words, columns=['word'])\n",
    "        words_df = pd.concat([words_df, tmp])\n",
    "    return words_df\n",
    "\n",
    "# 単語DFから出現数をカウント。頻度上位から番号を振っていく(出現数1のものはid=0)\n",
    "def word_counts(words_df):\n",
    "    words_df = words_df.value_counts().reset_index() # 出現回数のカウント＆降順ソート＆インデックスの振り直し\n",
    "    words_df['id'] = np.where(words_df[0] > 1, words_df.index+1, 0) # 出現数1以下のものはid=0\n",
    "    words_df = dict(zip(words_df['word'], words_df['id'])) # 辞書型に変換\n",
    "    return words_df\n",
    "\n",
    "def text_to_id(text, word_dict):\n",
    "    text = char_processing(text)\n",
    "    words = [w for w in text.split(' ') if w != ''] # 文章を単語ごとに分割し、文字列に変換\n",
    "    word_ids = [word_dict[w] if w in word_dict.keys() else 0 for w in words] # id列に変換.辞書に登録されていないものも0にする\n",
    "    return word_ids"
   ]
  },
  {
   "cell_type": "code",
   "execution_count": 8,
   "metadata": {},
   "outputs": [],
   "source": [
    "# 文章DFから単語DFに変換する\n",
    "train_word = make_word_df(train['title'])"
   ]
  },
  {
   "cell_type": "code",
   "execution_count": 9,
   "metadata": {},
   "outputs": [
    {
     "data": {
      "text/plain": [
       "17019"
      ]
     },
     "execution_count": 9,
     "metadata": {},
     "output_type": "execute_result"
    }
   ],
   "source": [
    "# 単語DFから出現数をカウント。頻度上位から番号を振っていく(出現数1のものはid=0)\n",
    "word_dict = word_counts(train_word)\n",
    "len(word_dict)"
   ]
  },
  {
   "cell_type": "code",
   "execution_count": 10,
   "metadata": {},
   "outputs": [],
   "source": [
    "# 素性データを数値データに変換する\n",
    "x_train = train['title'].map(lambda x: text_to_id(x, word_dict))\n",
    "x_valid = valid['title'].map(lambda x: text_to_id(x, word_dict))\n",
    "x_test = test['title'].map(lambda x: text_to_id(x, word_dict))\n",
    "\n",
    "category_dict = {'b': 0, 'e': 1, 't':2, 'm':3}\n",
    "y_train = torch.tensor(train['category'].map(lambda y: category_dict[y]).values)\n",
    "y_valid = torch.tensor(valid['category'].map(lambda y: category_dict[y]).values)\n",
    "y_test = torch.tensor(test['category'].map(lambda y: category_dict[y]).values)"
   ]
  },
  {
   "cell_type": "code",
   "execution_count": 11,
   "metadata": {},
   "outputs": [
    {
     "name": "stdout",
     "output_type": "stream",
     "text": [
      "text: Bouygues confirms improved offer for Vivendi's SFR\n",
      "ids: [3880, 1091, 4816, 405, 8, 6434, 2, 4410]\n"
     ]
    }
   ],
   "source": [
    "# Vivendi's → Vicendi s\n",
    "print('text:',train['title'].iloc[0])\n",
    "print('ids:',x_train.iloc[0])"
   ]
  },
  {
   "cell_type": "markdown",
   "metadata": {},
   "source": [
    "## 81. RNNによる予測\n",
    "***\n",
    "ID番号で表現された単語列$\\boldsymbol{x} = (x_1, x_2, \\dots, x_T)$がある．ただし，$T$は単語列の長さ，$x_t \\in \\mathbb{R}^{V}$は単語のID番号のone-hot表記である（$V$は単語の総数である）．再帰型ニューラルネットワーク（RNN: Recurrent Neural Network）を用い，単語列$\\boldsymbol{x}$からカテゴリ$y$を予測するモデルとして，次式を実装せよ．\n",
    "\n",
    "$\n",
    "\\overrightarrow h_0 = 0, \\\\\n",
    "\\overrightarrow h_t = {\\rm \\overrightarrow{RNN}}(\\mathrm{emb}(x_t), \\overrightarrow h_{t-1}), \\\\\n",
    "y = {\\rm softmax}(W^{(yh)} \\overrightarrow h_T + b^{(y)})\n",
    "$\n",
    "\n",
    "ただし，$\\mathrm{emb}(x) \\in \\mathbb{R}^{d_w}$は単語埋め込み（単語のone-hot表記から単語ベクトルに変換する関数），$\\overrightarrow h_t \\in \\mathbb{R}^{d_h}$は時刻$t$の隠れ状態ベクトル，${\\rm \\overrightarrow{RNN}}(x,h)$は入力$x$と前時刻の隠れ状態$h$から次状態を計算するRNNユニット，$W^{(yh)} \\in \\mathbb{R}^{L \\times d_h}$は隠れ状態ベクトルからカテゴリを予測するための行列，$b^{(y)} \\in \\mathbb{R}^{L}$はバイアス項である（$d_w, d_h, L$はそれぞれ，単語埋め込みの次元数，隠れ状態ベクトルの次元数，ラベル数である）．RNNユニット${\\rm \\overrightarrow{RNN}}(x,h)$には様々な構成が考えられるが，典型例として次式が挙げられる．\n",
    "\n",
    "$\n",
    "{\\rm \\overrightarrow{RNN}}(x,h) = g(W^{(hx)} x + W^{(hh)}h + b^{(h)})\n",
    "$\n",
    "\n",
    "ただし，$W^{(hx)} \\in \\mathbb{R}^{d_h \\times d_w}，W^{(hh)} \\in \\mathbb{R}^{d_h \\times d_h}, b^{(h)} \\in \\mathbb{R}^{d_h}$はRNNユニットのパラメータ，$g$は活性化関数（例えば$\\tanh$やReLUなど）である．\n",
    "\n",
    "なお，この問題ではパラメータの学習を行わず，ランダムに初期化されたパラメータで$y$を計算するだけでよい．次元数などのハイパーパラメータは，$d_w = 300, d_h=50$など，適当な値に設定せよ（以降の問題でも同様である）．"
   ]
  },
  {
   "cell_type": "markdown",
   "metadata": {},
   "source": [
    "nn.Embedding(vocab_size, emb_dim, padding_idx=padding_idx) \n",
    "単語IDを指定した次元のベクトルに埋め込む\n",
    "padding_idx=単語列の長さを揃えるための値"
   ]
  },
  {
   "cell_type": "markdown",
   "metadata": {},
   "source": [
    "input: tensor of shape $(N, L, H_{in})$\n",
    "\n",
    "h_0: tensor of shape  $(D * \\text{num\\_layers}, N, H_{out})$\n",
    "containing the initial hidden state for the input sequence batch. Defaults to zeros if not provided.\n",
    "\n",
    "N=batch size\n",
    "\n",
    "L=sequence length\n",
    "\n",
    "D=2 if bidirectional=True otherwise 1\n",
    "\n",
    "$H_{in}$​=input_size\n",
    "\n",
    "$H_{out}$=​hidden_size\n",
    "​\n",
    "  "
   ]
  },
  {
   "cell_type": "code",
   "execution_count": 12,
   "metadata": {},
   "outputs": [
    {
     "name": "stdout",
     "output_type": "stream",
     "text": [
      "tensor([[0.2731, 0.2715, 0.2196, 0.2359]], grad_fn=<SoftmaxBackward>)\n",
      "tensor([[0.2437, 0.2656, 0.2535, 0.2372]], grad_fn=<SoftmaxBackward>)\n",
      "tensor([[0.2534, 0.2836, 0.2423, 0.2207]], grad_fn=<SoftmaxBackward>)\n",
      "tensor([[0.2522, 0.2349, 0.2535, 0.2594]], grad_fn=<SoftmaxBackward>)\n",
      "tensor([[0.2484, 0.2247, 0.2854, 0.2415]], grad_fn=<SoftmaxBackward>)\n",
      "tensor([[0.2456, 0.2554, 0.2295, 0.2695]], grad_fn=<SoftmaxBackward>)\n",
      "tensor([[0.2394, 0.2615, 0.2258, 0.2733]], grad_fn=<SoftmaxBackward>)\n",
      "tensor([[0.2199, 0.2297, 0.2331, 0.3172]], grad_fn=<SoftmaxBackward>)\n",
      "tensor([[0.2483, 0.2789, 0.2108, 0.2621]], grad_fn=<SoftmaxBackward>)\n",
      "tensor([[0.2245, 0.2835, 0.2524, 0.2396]], grad_fn=<SoftmaxBackward>)\n"
     ]
    }
   ],
   "source": [
    "from torch.utils.data import TensorDataset, DataLoader, Dataset\n",
    "class RNN(nn.Module):\n",
    "    def __init__(self, vocab_size, emb_dim=300, hidden_size=50, batch_size=1, output_size=4,padding_idx=0):\n",
    "        super().__init__()\n",
    "        self.hidden_size = hidden_size\n",
    "        self.batch_size = batch_size\n",
    "        self.emb = nn.Embedding(vocab_size, emb_dim, padding_idx=padding_idx) # 1層：Embedding層 id=0は計算しない\n",
    "        self.rnn = nn.RNN(input_size=emb_dim, hidden_size=hidden_size, num_layers=1, nonlinearity=\"tanh\", bias=True, batch_first=True) # 2層：RNN\n",
    "        self.fc = nn.Linear(hidden_size, output_size, bias=True) # ３層：全結合層\n",
    "        self.softmax = nn.Softmax(dim=1)\n",
    "\n",
    "    def forward(self, x, h0=None):\n",
    "        h0 = torch.zeros(1, self.batch_size, self.hidden_size)\n",
    "        x = self.emb(x)           # 0 to 1層\n",
    "        x, h_t = self.rnn(x, h0)  # 1 to 2層\n",
    "        x = x[:, -1, :]           # 一番最後の単語ベクトルの出力\n",
    "        x = self.fc(x)            # 2 to 3層\n",
    "        x = self.softmax(x)       # 3 to out\n",
    "        return x\n",
    "\n",
    "vocab_size = len(word_dict.keys())+1 # 辞書のID数 + パディングID\n",
    "padding_idx = len(word_dict.keys()) # 最終番号をパディング値とする\n",
    "\n",
    "# modelの定義\n",
    "model = RNN(vocab_size=vocab_size,padding_idx=padding_idx)\n",
    "\n",
    "# 先頭10件の予測値取得\n",
    "for i in range(10):\n",
    "    inputs = torch.tensor(x_train.iloc[i])\n",
    "    print(torch.softmax(model(inputs.unsqueeze(0)), dim=-1))"
   ]
  },
  {
   "cell_type": "markdown",
   "metadata": {},
   "source": [
    "## 82. 確率的勾配降下法による学習\n",
    "***\n",
    "確率的勾配降下法（SGD: Stochastic Gradient Descent）を用いて，問題81で構築したモデルを学習せよ．訓練データ上の損失と正解率，評価データ上の損失と正解率を表示しながらモデルを学習し，適当な基準（例えば10エポックなど）で終了させよ．"
   ]
  },
  {
   "cell_type": "code",
   "execution_count": 13,
   "metadata": {},
   "outputs": [],
   "source": [
    "from IPython.display import clear_output\n",
    "from matplotlib import pyplot as plt\n",
    "%matplotlib inline\n",
    "# データ更新があるたびにグラフを更新する関数\n",
    "def live_plot(train_losses, train_accuracies, valid_losses, valid_accuracies):\n",
    "    # グラフ準備\n",
    "    clear_output(wait=True)\n",
    "    fig, ax = plt.subplots(1,2,figsize=(14,5))\n",
    "    # 損失をplot\n",
    "    ax[0].plot(train_losses,c='blue', label='train')\n",
    "    ax[0].plot(valid_losses,c='green', label='vaid')\n",
    "    ax[0].set_title('loss')\n",
    "    ax[0].legend()\n",
    "    # 正解率をplot\n",
    "    ax[1].plot(train_accuracies,c='blue', label='train')\n",
    "    ax[1].plot(valid_accuracies,c='green', label='vaid')\n",
    "    ax[1].set_title('accuracy')\n",
    "    ax[1].legend()\n",
    "    plt.show()"
   ]
  },
  {
   "cell_type": "markdown",
   "metadata": {},
   "source": [
    "[Dataset公式リファレンス](https://pytorch.org/docs/stable/_modules/torch/utils/data/dataset.html#TensorDataset)\n",
    "__getitem__をoverwriteすることで、Dataset[index]で返す値を指定できる"
   ]
  },
  {
   "cell_type": "code",
   "execution_count": 14,
   "metadata": {},
   "outputs": [],
   "source": [
    "from torch.utils.data import Dataset, DataLoader\n",
    "\n",
    "# TensorDatasetだと、単語ID列の長さが一致しないとダメなので自作する\n",
    "class CreateDataset(Dataset):\n",
    "    def __init__(self, x, y):\n",
    "        self.x = x\n",
    "        self.y = y\n",
    "\n",
    "    def __len__(self):  # len(Dataset)で返す値を指定\n",
    "        return len(self.y)\n",
    "\n",
    "    def __getitem__(self, index):  # Dataset[index]で返す値を指定\n",
    "        return {\n",
    "          'inputs': torch.tensor(self.x.iloc[index], dtype=torch.int64),\n",
    "          'labels': torch.tensor(self.y[index], dtype=torch.int64)\n",
    "        }\n",
    "# Datasetの作成\n",
    "train_dataset = CreateDataset(x_train, y_train)\n",
    "valid_dataset = CreateDataset(x_valid, y_valid)\n",
    "test_dataset = CreateDataset(x_test, y_test)"
   ]
  },
  {
   "cell_type": "code",
   "execution_count": 15,
   "metadata": {},
   "outputs": [],
   "source": [
    "# モデルとデータセットから損失と正解率を算出する関数\n",
    "def loss_and_accuracy(model, dataset, device=None, criterion=None):\n",
    "    dataloader = DataLoader(dataset, batch_size=1, shuffle=False)\n",
    "    loss = 0\n",
    "    total = 0\n",
    "    correct = 0\n",
    "    model.eval()\n",
    "    with torch.no_grad():\n",
    "        for data in dataloader:\n",
    "            # デバイスの指定\n",
    "            inputs = data['inputs'].to(device)\n",
    "            labels = data['labels'].to(device)\n",
    "\n",
    "            # 順伝播\n",
    "            outputs = model(inputs)\n",
    "\n",
    "            # 損失計算\n",
    "            if criterion != None:\n",
    "                loss += criterion(outputs, labels).item()\n",
    "\n",
    "            # 正解率計算\n",
    "            pred = torch.argmax(outputs, dim=-1)\n",
    "            total += len(inputs)\n",
    "            correct += (pred == labels).sum().item()\n",
    "\n",
    "    return loss / len(dataset), correct / total"
   ]
  },
  {
   "cell_type": "markdown",
   "metadata": {},
   "source": [
    "|RNN 引数|説明|\n",
    "|:--:|:--|\n",
    "|num_layers|Number of recurrent layers. E.g., setting num_layers=2 would mean stacking two RNNs together to form a stacked RNN, with the second RNN taking in outputs of the first RNN and computing the final results. Default: 1|\n",
    "|bidirectional| If True, becomes a bidirectional RNN. Default: False|\n"
   ]
  },
  {
   "cell_type": "markdown",
   "metadata": {},
   "source": [
    "|Embedding 引数|説明|\n",
    "|:--:|:--|\n",
    "|num_embeddings| (int) – size of the dictionary of embeddings|\n",
    "|embedding_dim |(int) – the size of each embedding vector|\n",
    "|padding_idx |(int, optional) – If specified, the entries at padding_idx do not contribute to the gradient; therefore, the embedding vector at padding_idx is not updated during training, i.e. it remains as a fixed “pad”. For a newly constructed Embedding, the embedding vector at padding_idx will default to all zeros, but can be updated to another value to be used as the padding vector.|\n",
    "|max_norm| (float, optional) – If given, each embedding vector with norm larger than max_norm is renormalized to have norm max_norm.|\n",
    "|norm_type |(float, optional) – The p of the p-norm to compute for the max_norm option. Default 2.|\n",
    "|scale_grad_by_freq| (boolean, optional) – If given, this will scale gradients by the inverse of frequency of the words in the mini-batch. Default False.|\n",
    "|sparse| (bool, optional) – If True, gradient w.r.t. weight matrix will be a sparse tensor. See Notes for more details regarding sparse gradients.|"
   ]
  },
  {
   "cell_type": "code",
   "execution_count": 91,
   "metadata": {},
   "outputs": [
    {
     "data": {
      "image/png": "[encoded data removed]",
      "text/plain": [
       "<Figure size 1008x360 with 2 Axes>"
      ]
     },
     "metadata": {
      "needs_background": "light"
     },
     "output_type": "display_data"
    }
   ],
   "source": [
    "from torch.utils.data import TensorDataset, DataLoader, Dataset\n",
    "class RNN(nn.Module):\n",
    "    def __init__(self, vocab_size, emb_dim=300, hidden_size=50, batch_size=1, output_size=4,padding_idx=0):\n",
    "        super().__init__()\n",
    "        self.hidden_size = hidden_size\n",
    "        self.batch_size = batch_size\n",
    "        self.emb = nn.Embedding(vocab_size, emb_dim, padding_idx=padding_idx) # 1層：Embedding層 id=0は計算しない\n",
    "        self.rnn = nn.RNN(input_size=emb_dim, hidden_size=hidden_size, num_layers=1, nonlinearity=\"tanh\", bias=True, batch_first=True) # 2層：RNN\n",
    "        self.fc = nn.Linear(hidden_size, output_size, bias=True) # ３層：全結合層\n",
    "        self.softmax = nn.Softmax(dim=1)\n",
    "\n",
    "    def forward(self, x, h0=None):\n",
    "        h0 = torch.zeros(1, self.batch_size, self.hidden_size).to(device)\n",
    "        x = self.emb(x)           # 0 to 1層\n",
    "        x, h_t = self.rnn(x, h0)  # 1 to 2層\n",
    "        x = x[:, -1, :]           # 一番最後の単語ベクトルの出力\n",
    "        x = self.fc(x)            # 2 to 3層\n",
    "        x = self.softmax(x)       # 3 to out\n",
    "        return x\n",
    "\n",
    "vocab_size = len(word_dict.keys())+1 # 辞書のID数 + パディングID\n",
    "padding_idx = len(word_dict.keys()) # 最終番号をパディング値とする\n",
    "\n",
    "# modelの定義\n",
    "model = RNN(vocab_size=vocab_size,padding_idx=padding_idx).to(device)\n",
    "# 損失関数\n",
    "criterion = nn.CrossEntropyLoss()\n",
    "# オプティマイザ\n",
    "optimizer = torch.optim.SGD(model.parameters(), lr=0.01)\n",
    "\n",
    "loader = DataLoader(train_dataset, batch_size=1, shuffle=True)\n",
    "\n",
    "train_losses = [] # 学習データの損失\n",
    "train_accuracies = [] # 学習データの正解率\n",
    "valid_losses = [] # 検証データの損失\n",
    "valid_accuracies = [] # 検証データの正解率\n",
    "\n",
    "\n",
    "for epoch in range(20):\n",
    "    for data in loader:\n",
    "        # デバイスの指定\n",
    "        inputs = data['inputs'].to(device)\n",
    "        labels = data['labels'].to(device)\n",
    "        # forward\n",
    "        model.train()\n",
    "        outputs = model(inputs.to(device))\n",
    "        # 損失\n",
    "        loss = criterion(outputs, labels).to(device)\n",
    "        # 勾配\n",
    "        optimizer.zero_grad()\n",
    "        loss.backward()\n",
    "        # 更新\n",
    "        optimizer.step()\n",
    "\n",
    "    # 学習の進捗\n",
    "    train_loss, train_accuracy = loss_and_accuracy(model, train_dataset, device, criterion=criterion)\n",
    "    valid_loss, valid_accuracy = loss_and_accuracy(model, valid_dataset, device, criterion=criterion)\n",
    "\n",
    "    # 保存\n",
    "    train_losses.append(train_loss)\n",
    "    train_accuracies.append(train_accuracy)\n",
    "    valid_losses.append(valid_loss)\n",
    "    valid_accuracies.append(valid_accuracy)\n",
    "\n",
    "    # グラフの描画\n",
    "    live_plot(train_losses, train_accuracies, valid_losses, valid_accuracies)"
   ]
  },
  {
   "cell_type": "markdown",
   "metadata": {},
   "source": [
    "## 83. ミニバッチ化・GPU上での学習\n",
    "***\n",
    "問題82のコードを改変し，$B$事例ごとに損失・勾配を計算して学習を行えるようにせよ（$B$の値は適当に選べ）．また，GPU上で学習を実行せよ．"
   ]
  },
  {
   "cell_type": "markdown",
   "metadata": {},
   "source": [
    "バッチサイズ：1回の更新を行うときに使うデータの数。大きいほど全体が考慮され、小さいほど部分的なものに対しても学習される\n",
    "また、バッチサイズが大きいと更新が少ないため学習が高速化する"
   ]
  },
  {
   "cell_type": "code",
   "execution_count": 21,
   "metadata": {},
   "outputs": [],
   "source": [
    "from torch.utils.data import Dataset, DataLoader\n",
    "\n",
    "# TensorDatasetだと、単語ID列の長さが一致しないとダメなので自作する\n",
    "class CreateDataset_with_padding(Dataset):\n",
    "    def __init__(self, x, y, padding_idx):\n",
    "        self.x = x\n",
    "        self.y = y\n",
    "        self.padding_idx = padding_idx\n",
    "        self.max_len = max([len(li) for li in x])\n",
    "\n",
    "    def __len__(self):  # len(Dataset)で返す値を指定\n",
    "        return len(self.y)\n",
    "\n",
    "    def __getitem__(self, index):  # Dataset[index]で返す値を指定\n",
    "        inputs = self.x.iloc[index]\n",
    "        for i in range(self.max_len - len(inputs)):\n",
    "            inputs.append(self.padding_idx)\n",
    "        return {\n",
    "          'inputs': torch.tensor(inputs, dtype=torch.int64),\n",
    "          'labels': torch.tensor(self.y[index], dtype=torch.int64)\n",
    "        }\n",
    "# Datasetの作成\n",
    "train_dataset = CreateDataset_with_padding(x_train, y_train, padding_idx)\n",
    "valid_dataset = CreateDataset_with_padding(x_valid, y_valid, padding_idx)"
   ]
  },
  {
   "cell_type": "code",
   "execution_count": 23,
   "metadata": {},
   "outputs": [
    {
     "data": {
      "image/png": "[encoded data removed]",
      "text/plain": [
       "<Figure size 1008x360 with 2 Axes>"
      ]
     },
     "metadata": {
      "needs_background": "light"
     },
     "output_type": "display_data"
    }
   ],
   "source": [
    "from torch.utils.data import TensorDataset, DataLoader, Dataset\n",
    "class RNN(nn.Module):\n",
    "    def __init__(self, vocab_size, emb_dim=300, hidden_size=50, batch_size=1, output_size=4,padding_idx=0):\n",
    "        super().__init__()\n",
    "        self.hidden_size = hidden_size\n",
    "        self.batch_size = batch_size\n",
    "        self.emb = nn.Embedding(vocab_size, emb_dim, padding_idx=padding_idx) # 1層：Embedding層 id=0は計算しない\n",
    "        self.rnn = nn.RNN(input_size=emb_dim, hidden_size=hidden_size, num_layers=1, nonlinearity=\"tanh\", bias=True, batch_first=True) # 2層：RNN\n",
    "        self.fc = nn.Linear(hidden_size, output_size, bias=True) # ３層：全結合層\n",
    "        self.softmax = nn.Softmax(dim=1)\n",
    "\n",
    "    def forward(self, x):\n",
    "        h0 = torch.zeros(1, x.size()[0], self.hidden_size).to(device)\n",
    "        x = self.emb(x)           # 0 to 1層\n",
    "        x, h_t = self.rnn(x, h0)  # 1 to 2層\n",
    "        x = x[:, -1, :]           # 一番最後の単語ベクトルの出力\n",
    "        x = self.fc(x)            # 2 to 3層\n",
    "        x = self.softmax(x)       # 3 to out\n",
    "        return x\n",
    "\n",
    "vocab_size = len(word_dict.keys())+1 # 辞書のID数 + パディングID\n",
    "padding_idx = len(word_dict.keys()) # 最終番号をパディング値とする\n",
    "\n",
    "# modelの定義\n",
    "model = RNN(vocab_size=vocab_size, batch_size=32, padding_idx=padding_idx).to(device)\n",
    "# 損失関数\n",
    "criterion = nn.CrossEntropyLoss()\n",
    "# オプティマイザ\n",
    "optimizer = torch.optim.SGD(model.parameters(), lr=0.01)\n",
    "\n",
    "loader = DataLoader(train_dataset, batch_size=32, shuffle=True)\n",
    "\n",
    "train_losses = [] # 学習データの損失\n",
    "train_accuracies = [] # 学習データの正解率\n",
    "valid_losses = [] # 検証データの損失\n",
    "valid_accuracies = [] # 検証データの正解率\n",
    "\n",
    "\n",
    "for epoch in range(20):\n",
    "    for data in loader:\n",
    "        # デバイスの指定\n",
    "        inputs = data['inputs'].to(device)\n",
    "        labels = data['labels'].to(device)\n",
    "        # forward\n",
    "        model.train()\n",
    "        outputs = model(inputs.to(device))\n",
    "        # 損失\n",
    "        loss = criterion(outputs, labels).to(device)\n",
    "        # 勾配\n",
    "        optimizer.zero_grad()\n",
    "        loss.backward()\n",
    "        # 更新\n",
    "        optimizer.step()\n",
    "\n",
    "    # 学習の進捗\n",
    "    train_loss, train_accuracy = loss_and_accuracy(model, train_dataset, device, criterion=criterion)\n",
    "    valid_loss, valid_accuracy = loss_and_accuracy(model, valid_dataset, device, criterion=criterion)\n",
    "\n",
    "    # 保存\n",
    "    train_losses.append(train_loss)\n",
    "    train_accuracies.append(train_accuracy)\n",
    "    valid_losses.append(valid_loss)\n",
    "    valid_accuracies.append(valid_accuracy)\n",
    "\n",
    "    # グラフの描画\n",
    "    live_plot(train_losses, train_accuracies, valid_losses, valid_accuracies)"
   ]
  },
  {
   "cell_type": "markdown",
   "metadata": {},
   "source": [
    "## 84. 単語ベクトルの導入\n",
    "***\n",
    "事前学習済みの単語ベクトル（例えば，Google Newsデータセット（約1,000億単語）での学習済み単語ベクトル）で単語埋め込み$emb(x)$を初期化し，学習せよ．"
   ]
  },
  {
   "cell_type": "code",
   "execution_count": 16,
   "metadata": {},
   "outputs": [],
   "source": [
    "from gensim.models import KeyedVectors\n",
    "wordmodel = KeyedVectors.load_word2vec_format('./GoogleNews-vectors-negative300.bin.gz', binary=True)"
   ]
  },
  {
   "cell_type": "code",
   "execution_count": 17,
   "metadata": {},
   "outputs": [],
   "source": [
    "# 各単語の見出し語を返す\n",
    "def lemma(word):\n",
    "    pos = [pos for word, pos in pos_tag(word_tokenize(word))][0]\n",
    "    if pos.startswith('J'): # 形容詞\n",
    "        return lemmatizer.lemmatize(word, pos=\"a\")\n",
    "    elif pos.startswith('V'): # 動詞\n",
    "        return lemmatizer.lemmatize(word, pos=\"v\")\n",
    "    elif pos.startswith('N'): # 名詞\n",
    "        return lemmatizer.lemmatize(word, pos=\"n\")\n",
    "    elif pos.startswith('R'): # 副詞\n",
    "        return lemmatizer.lemmatize(word, pos=\"r\")\n",
    "    else:\n",
    "        return word"
   ]
  },
  {
   "cell_type": "code",
   "execution_count": 18,
   "metadata": {},
   "outputs": [
    {
     "name": "stdout",
     "output_type": "stream",
     "text": [
      "学習済みベクトル利用単語数: 16355 / 17020\n"
     ]
    }
   ],
   "source": [
    "emb_weights = torch.zeros(vocab_size, 300) \n",
    "words_in_model= 0\n",
    "for word, idx in word_dict.items():\n",
    "    if word in wordmodel.index_to_key:\n",
    "        emb_weights[idx] = torch.tensor(wordmodel[word])\n",
    "        words_in_model += 1\n",
    "    elif lemma(word) in wordmodel.index_to_key:\n",
    "        emb_weights[idx] = torch.tensor(wordmodel[lemma(word)])\n",
    "        words_in_model += 1\n",
    "        \n",
    "print(f'学習済みベクトル利用単語数: {words_in_model} / {vocab_size}')"
   ]
  },
  {
   "cell_type": "code",
   "execution_count": null,
   "metadata": {},
   "outputs": [],
   "source": [
    "# Datasetの作成\n",
    "train_dataset = CreateDataset(x_train, y_train)"
   ]
  },
  {
   "cell_type": "code",
   "execution_count": 20,
   "metadata": {},
   "outputs": [
    {
     "data": {
      "image/png": "[encoded data removed]",
      "text/plain": [
       "<Figure size 1008x360 with 2 Axes>"
      ]
     },
     "metadata": {
      "needs_background": "light"
     },
     "output_type": "display_data"
    }
   ],
   "source": [
    "from torch.utils.data import TensorDataset, DataLoader, Dataset\n",
    "\n",
    "class RNN(nn.Module):\n",
    "    def __init__(self, vocab_size, emb_dim=300, hidden_size=50, batch_size=1, output_size=4,padding_idx=0):\n",
    "        super().__init__()\n",
    "        self.hidden_size = hidden_size\n",
    "        self.batch_size = batch_size\n",
    "        self.emb = nn.Embedding.from_pretrained(emb_weights, padding_idx=padding_idx) # 1層：Embedding層 id=0は計算しない\n",
    "        self.rnn = nn.RNN(input_size=emb_dim, hidden_size=hidden_size, num_layers=1, nonlinearity=\"tanh\", bias=True, batch_first=True) # 2層：RNN\n",
    "        self.fc = nn.Linear(hidden_size, output_size, bias=True) # ３層：全結合層\n",
    "        self.softmax = nn.Softmax(dim=1)\n",
    "\n",
    "    def forward(self, x, h0=None):\n",
    "        h0 = torch.zeros(1, self.batch_size, self.hidden_size).to(device)\n",
    "        x = self.emb(x)           # 0 to 1層\n",
    "        x, h_t = self.rnn(x, h0)  # 1 to 2層\n",
    "        x = x[:, -1, :]           # 一番最後の単語ベクトルの出力\n",
    "        x = self.fc(x)            # 2 to 3層\n",
    "        x = self.softmax(x)       # 3 to out\n",
    "        return x\n",
    "\n",
    "vocab_size = len(word_dict.keys())+1 # 辞書のID数 + パディングID\n",
    "padding_idx = len(word_dict.keys()) # 最終番号をパディング値とする\n",
    "\n",
    "# modelの定義\n",
    "model = RNN(vocab_size=vocab_size,padding_idx=padding_idx).to(device)\n",
    "# 損失関数\n",
    "criterion = nn.CrossEntropyLoss()\n",
    "# オプティマイザ\n",
    "optimizer = torch.optim.SGD(model.parameters(), lr=0.001)\n",
    "\n",
    "loader = DataLoader(train_dataset, batch_size=1, shuffle=True)\n",
    "\n",
    "train_losses = [] # 学習データの損失\n",
    "train_accuracies = [] # 学習データの正解率\n",
    "valid_losses = [] # 検証データの損失\n",
    "valid_accuracies = [] # 検証データの正解率\n",
    "\n",
    "\n",
    "for epoch in range(20):\n",
    "    for data in loader:\n",
    "        # デバイスの指定\n",
    "        inputs = data['inputs'].to(device)\n",
    "        labels = data['labels'].to(device)\n",
    "        # forward\n",
    "        model.train()\n",
    "        outputs = model(inputs.to(device))\n",
    "        # 損失\n",
    "        loss = criterion(outputs, labels).to(device)\n",
    "        # 勾配\n",
    "        optimizer.zero_grad()\n",
    "        loss.backward()\n",
    "        # 更新\n",
    "        optimizer.step()\n",
    "\n",
    "    # 学習の進捗\n",
    "    train_loss, train_accuracy = loss_and_accuracy(model, train_dataset, device, criterion=criterion)\n",
    "    valid_loss, valid_accuracy = loss_and_accuracy(model, valid_dataset, device, criterion=criterion)\n",
    "\n",
    "    # 保存\n",
    "    train_losses.append(train_loss)\n",
    "    train_accuracies.append(train_accuracy)\n",
    "    valid_losses.append(valid_loss)\n",
    "    valid_accuracies.append(valid_accuracy)\n",
    "\n",
    "    # グラフの描画\n",
    "    live_plot(train_losses, train_accuracies, valid_losses, valid_accuracies)"
   ]
  },
  {
   "cell_type": "markdown",
   "metadata": {},
   "source": [
    "## 85. 双方向RNN・多層化\n",
    "***\n",
    "順方向と逆方向のRNNの両方を用いて入力テキストをエンコードし，モデルを学習せよ．\n",
    "\n",
    "$\n",
    "\\overleftarrow h_{T+1} = 0, \\\\\n",
    "\\overleftarrow h_t = {\\rm \\overleftarrow{RNN}}(\\mathrm{emb}(x_t), \\overleftarrow h_{t+1}), \\\\\n",
    "y = {\\rm softmax}(W^{(yh)} [\\overrightarrow h_T; \\overleftarrow h_1] + b^{(y)})\n",
    "$\n",
    "\n",
    "ただし，$\\overrightarrow h_t \\in \\mathbb{R}^{d_h}, \\overleftarrow h_t \\in \\mathbb{R}^{d_h}$はそれぞれ，順方向および逆方向のRNNで求めた時刻$t$の隠れ状態ベクトル，${\\rm \\overleftarrow{RNN}}(x,h)$は入力$x$と次時刻の隠れ状態$h$から前状態を計算するRNNユニット，$W^{(yh)} \\in \\mathbb{R}^{L \\times 2d_h}$は隠れ状態ベクトルからカテゴリを予測するための行列，$b^{(y)} \\in \\mathbb{R}^{L}$はバイアス項である．また，$[a; b]$はベクトル$a$と$b$の連結を表す。\n",
    "\n",
    "さらに，双方向RNNを多層化して実験せよ．"
   ]
  },
  {
   "cell_type": "code",
   "execution_count": 21,
   "metadata": {},
   "outputs": [
    {
     "data": {
      "image/png": "[encoded data removed]",
      "text/plain": [
       "<Figure size 1008x360 with 2 Axes>"
      ]
     },
     "metadata": {
      "needs_background": "light"
     },
     "output_type": "display_data"
    }
   ],
   "source": [
    "class RNN(nn.Module):\n",
    "    def __init__(self, vocab_size, emb_dim=300, hidden_size=50, batch_size=1, num_layers=1,bidirectional=1, output_size=4,padding_idx=0):\n",
    "        super().__init__()\n",
    "        self.hidden_size = hidden_size\n",
    "        self.batch_size = batch_size\n",
    "        self.num_layers = num_layers\n",
    "        self.bidirectional = bidirectional\n",
    "        self.emb = nn.Embedding(vocab_size, emb_dim, padding_idx=padding_idx) # 1層：Embedding層 id=0は計算しない\n",
    "        self.rnn = nn.RNN(input_size=emb_dim, hidden_size=hidden_size, num_layers=num_layers, bidirectional=True, nonlinearity=\"tanh\", bias=True, batch_first=True) # 2層：RNN\n",
    "        self.fc = nn.Linear(hidden_size*bidirectional, output_size, bias=True) # ３層：全結合層\n",
    "        self.softmax = nn.Softmax(dim=1)\n",
    "\n",
    "    def forward(self, x):\n",
    "        h0 = torch.zeros(self.num_layers*self.bidirectional, self.batch_size, self.hidden_size).to(device)\n",
    "        x = self.emb(x)           # 0 to 1層\n",
    "        x, h_t = self.rnn(x, h0)  # 1 to 2層\n",
    "        x = x[:, -1, :]           # 一番最後の単語ベクトルの出力\n",
    "        x = self.fc(x)            # 2 to 3層\n",
    "        x = self.softmax(x)       # 3 to out\n",
    "        return x\n",
    "\n",
    "# modelの定義\n",
    "model = RNN(vocab_size=vocab_size,num_layers=2,bidirectional=2, padding_idx=padding_idx).to(device)\n",
    "# 損失関数\n",
    "criterion = nn.CrossEntropyLoss()\n",
    "# オプティマイザ\n",
    "optimizer = torch.optim.SGD(model.parameters(), lr=0.001)\n",
    "\n",
    "loader = DataLoader(train_dataset, batch_size=1, shuffle=True)\n",
    "\n",
    "train_losses = [] # 学習データの損失\n",
    "train_accuracies = [] # 学習データの正解率\n",
    "valid_losses = [] # 検証データの損失\n",
    "valid_accuracies = [] # 検証データの正解率\n",
    "\n",
    "\n",
    "for epoch in range(20):\n",
    "    for data in loader:\n",
    "        # デバイスの指定\n",
    "        inputs = data['inputs'].to(device)\n",
    "        labels = data['labels'].to(device)\n",
    "        # forward\n",
    "        model.train()\n",
    "        outputs = model(inputs.to(device))\n",
    "        # 損失\n",
    "        loss = criterion(outputs, labels).to(device)\n",
    "        # 勾配\n",
    "        optimizer.zero_grad()\n",
    "        loss.backward()\n",
    "        # 更新\n",
    "        optimizer.step()\n",
    "\n",
    "    # 学習の進捗\n",
    "    train_loss, train_accuracy = loss_and_accuracy(model, train_dataset, device, criterion=criterion)\n",
    "    valid_loss, valid_accuracy = loss_and_accuracy(model, valid_dataset, device, criterion=criterion)\n",
    "\n",
    "    # 保存\n",
    "    train_losses.append(train_loss)\n",
    "    train_accuracies.append(train_accuracy)\n",
    "    valid_losses.append(valid_loss)\n",
    "    valid_accuracies.append(valid_accuracy)\n",
    "\n",
    "    # グラフの描画\n",
    "    live_plot(train_losses, train_accuracies, valid_losses, valid_accuracies)"
   ]
  },
  {
   "cell_type": "markdown",
   "metadata": {},
   "source": [
    "## 86. 畳み込みニューラルネットワーク (CNN)\n",
    "***\n",
    "ID番号で表現された単語列$\\boldsymbol x = (x_1, x_2, \\dots, x_T)$がある．ただし，$T$は単語列の長さ，$x_t \\in \\mathbb{R}^{V}$は単語のID番号のone-hot表記である（$V$は単語の総数である）．畳み込みニューラルネットワーク（CNN: Convolutional Neural Network）を用い，単語列$\\boldsymbol x$からカテゴリ$y$を予測するモデルを実装せよ．\n",
    "\n",
    "ただし，畳み込みニューラルネットワークの構成は以下の通りとする．\n",
    "\n",
    "+ 単語埋め込みの次元数: $d_w$\n",
    "+ 畳み込みのフィルターのサイズ: 3 トークン\n",
    "+ 畳み込みのストライド: 1 トークン\n",
    "+ 畳み込みのパディング: あり\n",
    "+ 畳み込み演算後の各時刻のベクトルの次元数: $d_h$\n",
    "+ 畳み込み演算後に最大値プーリング（max pooling）を適用し，入力文を$d_h$次元の隠れベクトルで表現\n",
    " すなわち，時刻$t$の特徴ベクトル$p_t \\in \\mathbb{R}^{d_h}$は次式で表される．\n",
    "\n",
    "$\n",
    "p_t = g(W^{(px)} [\\mathrm{emb}(x_{t-1}); \\mathrm{emb}(x_t); \\mathrm{emb}(x_{t+1})] + b^{(p)})\n",
    "$]\n",
    "\n",
    "ただし，$W^{(px)} \\in \\mathbb{R}^{d_h \\times 3d_w}, b^{(p)} \\in \\mathbb{R}^{d_h}$はCNNのパラメータ，$g$は活性化関数（例えば$\\tanh$やReLUなど），$[a; b; c]$はベクトル$a, b, c$の連結である．なお，行列$W^{(px)}$の列数が$3d_w$になるのは，3個のトークンの単語埋め込みを連結したものに対して，線形変換を行うためである．\n",
    "最大値プーリングでは，特徴ベクトルの次元毎に全時刻における最大値を取り，入力文書の特徴ベクトル$c \\in \\mathbb{R}^{d_h}$を求める．$c[i]$でベクトル$c$の$i$番目の次元の値を表すことにすると，最大値プーリングは次式で表される．\n",
    "\n",
    "$\n",
    "c[i] = \\max_{1 \\leq t \\leq T} p_t[i]\n",
    "$\n",
    "\n",
    " 最後に，入力文書の特徴ベクトル$c$に行列$W^{(yc)} \\in \\mathbb{R}^{L \\times d_h}$とバイアス項$b^{(y)} \\in \\mathbb{R}^{L}$による線形変換とソフトマックス関数を適用し，カテゴリ$y$を予測する．\n",
    "\n",
    "$\n",
    "y = {\\rm softmax}(W^{(yc)} c + b^{(y)})\n",
    "$\n",
    "\n",
    "なお，この問題ではモデルの学習を行わず，ランダムに初期化された重み行列で$y$を計算するだけでよい．"
   ]
  },
  {
   "cell_type": "markdown",
   "metadata": {},
   "source": [
    "|CNN 引数|説明|\n",
    "|:--|:--|\n",
    "|in_channels|Number of channels in the input image|\n",
    "|out_channels|Number of channels produced by the convolution|\n",
    "|kernel_size|(int or tuple) – Size of the convolving kernel|\n",
    "|stride| (int or tuple, optional) – Stride of the convolution. Default: 1|\n",
    "|padding| (int, tuple or str, optional) – Padding added to all four sides of the input. Default: 0|\n",
    "|padding_mode| (string, optional) – 'zeros', 'reflect', 'replicate' or 'circular'. Default: 'zeros'|\n",
    "|dilation| (int or tuple, optional) – Spacing between kernel elements. Default: 1|\n",
    "|groups| (int, optional) – Number of blocked connections from input channels to output channels. Default: 1|\n",
    "|bias |(bool, optional) – If True, adds a learnable bias to the output. Default: True|"
   ]
  },
  {
   "cell_type": "code",
   "execution_count": 26,
   "metadata": {},
   "outputs": [
    {
     "name": "stdout",
     "output_type": "stream",
     "text": [
      "tensor([[0.2565, 0.1173, 0.2413, 0.3849]], grad_fn=<SoftmaxBackward>)\n",
      "tensor([[0.3338, 0.0905, 0.1698, 0.4059]], grad_fn=<SoftmaxBackward>)\n",
      "tensor([[0.1477, 0.1142, 0.2155, 0.5227]], grad_fn=<SoftmaxBackward>)\n",
      "tensor([[0.2945, 0.1703, 0.1602, 0.3751]], grad_fn=<SoftmaxBackward>)\n",
      "tensor([[0.1946, 0.0989, 0.1634, 0.5431]], grad_fn=<SoftmaxBackward>)\n",
      "tensor([[0.3021, 0.1324, 0.2575, 0.3080]], grad_fn=<SoftmaxBackward>)\n",
      "tensor([[0.2449, 0.1076, 0.2156, 0.4319]], grad_fn=<SoftmaxBackward>)\n",
      "tensor([[0.2104, 0.1476, 0.2136, 0.4284]], grad_fn=<SoftmaxBackward>)\n",
      "tensor([[0.2437, 0.1493, 0.1941, 0.4130]], grad_fn=<SoftmaxBackward>)\n",
      "tensor([[0.2612, 0.1223, 0.2316, 0.3849]], grad_fn=<SoftmaxBackward>)\n"
     ]
    }
   ],
   "source": [
    "from torch.nn import functional as F\n",
    "\n",
    "class CNN(nn.Module):\n",
    "  def __init__(self, vocab_size, emb_size=300, output_size=4, out_channels=100, kernel_heights=3, stride=1, padding=0, padding_idx=0):\n",
    "    super().__init__()\n",
    "    self.emb = nn.Embedding(vocab_size, emb_size, padding_idx=padding_idx)\n",
    "    self.conv = nn.Conv2d(1, out_channels, (kernel_heights, emb_size), stride, (padding, 0))\n",
    "    self.fc = nn.Linear(out_channels, output_size)\n",
    "\n",
    "  def forward(self, x):\n",
    "    x = self.emb(x).unsqueeze(1)\n",
    "    x = self.conv(x)\n",
    "    x = F.relu(x.squeeze(3))\n",
    "    x = F.max_pool1d(x, x.size()[2])\n",
    "    x = self.fc(x.squeeze(2))\n",
    "    return x\n",
    "\n",
    "# モデルの定義\n",
    "model = CNN(vocab_size, padding_idx=padding_idx)\n",
    "\n",
    "# 先頭10件の予測値取得\n",
    "for i in range(10):\n",
    "    inputs = torch.tensor(x_train.iloc[i])\n",
    "    print(torch.softmax(model(inputs.unsqueeze(0)), dim=-1))"
   ]
  },
  {
   "cell_type": "markdown",
   "metadata": {},
   "source": [
    "## 87. 確率的勾配降下法によるCNNの学習\n",
    "***\n",
    "確率的勾配降下法（SGD: Stochastic Gradient Descent）を用いて，問題86で構築したモデルを学習せよ．訓練データ上の損失と正解率，評価データ上の損失と正解率を表示しながらモデルを学習し，適当な基準（例えば10エポックなど）で終了させよ．"
   ]
  },
  {
   "cell_type": "code",
   "execution_count": 33,
   "metadata": {},
   "outputs": [
    {
     "data": {
      "image/png": "[encoded data removed]",
      "text/plain": [
       "<Figure size 1008x360 with 2 Axes>"
      ]
     },
     "metadata": {
      "needs_background": "light"
     },
     "output_type": "display_data"
    }
   ],
   "source": [
    "from torch.nn import functional as F\n",
    "\n",
    "class CNN(nn.Module):\n",
    "  def __init__(self, vocab_size, emb_size=300, output_size=4, out_channels=100, kernel_heights=3, stride=1, padding=1, padding_idx=0):\n",
    "    super().__init__()\n",
    "    self.emb = nn.Embedding(vocab_size, emb_size, padding_idx=padding_idx)\n",
    "    self.conv = nn.Conv2d(1, out_channels, (kernel_heights, emb_size), stride, (padding, 0))\n",
    "    self.drop = nn.Dropout(0.3)\n",
    "    self.fc = nn.Linear(out_channels, output_size)\n",
    "\n",
    "  def forward(self, x):\n",
    "    x = self.emb(x).unsqueeze(1)\n",
    "    x = self.conv(x)\n",
    "    x = F.relu(x.squeeze(3))\n",
    "    x = F.max_pool1d(x, x.size()[2])\n",
    "    x = self.fc(self.drop(x.squeeze(2)))\n",
    "    return x\n",
    "\n",
    "# モデルの定義\n",
    "model = CNN(vocab_size, padding_idx=padding_idx).to(device)\n",
    "# 損失関数\n",
    "criterion = nn.CrossEntropyLoss()\n",
    "# オプティマイザ\n",
    "optimizer = torch.optim.SGD(model.parameters(), lr=0.01)\n",
    "\n",
    "loader = DataLoader(train_dataset, batch_size=64, shuffle=True)\n",
    "\n",
    "train_losses = [] # 学習データの損失\n",
    "train_accuracies = [] # 学習データの正解率\n",
    "valid_losses = [] # 検証データの損失\n",
    "valid_accuracies = [] # 検証データの正解率\n",
    "\n",
    "\n",
    "for epoch in range(20):\n",
    "    for data in loader:\n",
    "        # デバイスの指定\n",
    "        inputs = data['inputs'].to(device)\n",
    "        labels = data['labels'].to(device)\n",
    "        # forward\n",
    "        model.train()\n",
    "        outputs = model(inputs.to(device))\n",
    "        # 損失\n",
    "        loss = criterion(outputs, labels).to(device)\n",
    "        # 勾配\n",
    "        optimizer.zero_grad()\n",
    "        loss.backward()\n",
    "        # 更新\n",
    "        optimizer.step()\n",
    "\n",
    "    # 学習の進捗\n",
    "    train_loss, train_accuracy = loss_and_accuracy(model, train_dataset, device, criterion=criterion)\n",
    "    valid_loss, valid_accuracy = loss_and_accuracy(model, valid_dataset, device, criterion=criterion)\n",
    "\n",
    "    # 保存\n",
    "    train_losses.append(train_loss)\n",
    "    train_accuracies.append(train_accuracy)\n",
    "    valid_losses.append(valid_loss)\n",
    "    valid_accuracies.append(valid_accuracy)\n",
    "\n",
    "    # グラフの描画\n",
    "    live_plot(train_losses, train_accuracies, valid_losses, valid_accuracies)"
   ]
  },
  {
   "cell_type": "markdown",
   "metadata": {},
   "source": [
    "## 88. パラメータチューニング\n",
    "***\n",
    "問題85や問題87のコードを改変し，ニューラルネットワークの形状やハイパーパラメータを調整しながら，高性能なカテゴリ分類器を構築せよ．"
   ]
  },
  {
   "cell_type": "code",
   "execution_count": 23,
   "metadata": {},
   "outputs": [],
   "source": [
    "from torch.nn import functional as F\n",
    "from torch.nn import functional as F\n",
    "class CNN_opt(nn.Module):\n",
    "    def __init__(self, vocab_size, padding_idx, fc_num_layer, out_channels, drop_rate, \n",
    "                output_size=4, kernel_heights=3, emb_size=300):\n",
    "        super().__init__()\n",
    "        # 第１層\n",
    "        self.emb = nn.Embedding(vocab_size, emb_size, padding_idx=padding_idx)\n",
    "        # 第２層\n",
    "        self.conv = nn.Conv2d(1, out_channels[0], (kernel_heights, emb_size), 1, (1, 0))\n",
    "        # 3層目以降\n",
    "        self.fcs = nn.ModuleList()\n",
    "        self.drop = nn.Dropout(drop_rate)\n",
    "        for i in range(1, fc_num_layer+2):\n",
    "            self.fcs.append(nn.Linear(out_channels[i-1], out_channels[i]))\n",
    "\n",
    "    \n",
    "    def forward(self, x):\n",
    "        x = self.emb(x).unsqueeze(1)\n",
    "        x = self.conv(x)\n",
    "        x = F.relu(x.squeeze(3))\n",
    "        x = F.max_pool1d(x, x.size()[2]).squeeze(2)\n",
    "        for fc in self.fcs:\n",
    "            x = fc(self.drop(x))\n",
    "        return x"
   ]
  },
  {
   "cell_type": "code",
   "execution_count": 24,
   "metadata": {},
   "outputs": [],
   "source": [
    "import optuna\n",
    "\n",
    "import torch.optim as optim\n",
    "\n",
    "def objective(trial):\n",
    "    # チューニング対象パラメータのセット\n",
    "    #畳込み層の数のパラメータ\n",
    "    fc_num_layer = trial.suggest_int(\"fc_num_layer\", 0, 5)\n",
    "    out_channels = [int(trial.suggest_discrete_uniform(\"num_filter_\"+str(i), 50, 200, 50)) for i in range(fc_num_layer+1)] + [4] # hidden_param + output_size\n",
    "    drop_rate = trial.suggest_discrete_uniform('drop_rate', 0.0, 0.5, 0.1)\n",
    "    lr = trial.suggest_loguniform('lr', 1e-5, 1e-1)\n",
    "    batch_size = int(trial.suggest_discrete_uniform('batch_size', 2, 16, 32))\n",
    "    #optimizer\n",
    "    optimizer_name = trial.suggest_categorical(\"optimizer\", [\"sgd\", \"adam\"])\n",
    "\n",
    "    # 固定パラメータの設定\n",
    "    vocab_size = len(word_dict.keys())+1 # 辞書のID数 + パディングID\n",
    "    padding_idx = len(word_dict.keys()) # 最終番号をパディング値とする\n",
    "    num_epochs = 20\n",
    "\n",
    "    # モデルの定義\n",
    "    model = CNN_opt(vocab_size, padding_idx, fc_num_layer, out_channels, drop_rate).to(device)\n",
    "\n",
    "    # 損失関数の定義\n",
    "    criterion = nn.CrossEntropyLoss()\n",
    "\n",
    "    # オプティマイザの定義\n",
    "    if optimizer_name == \"sgd\":\n",
    "        optimizer = torch.optim.SGD(model.parameters(), lr=lr)\n",
    "    elif optimizer_name == \"adam\":\n",
    "        optimizer = torch.optim.Adam(model.parameters(), lr=lr)\n",
    "\n",
    "    loader = DataLoader(train_dataset, batch_size=batch_size, shuffle=True)\n",
    "    \n",
    "    \n",
    "    # モデルの学習\n",
    "    for epoch in range(num_epochs):\n",
    "        for data in loader:\n",
    "            # デバイスの指定\n",
    "            inputs = data['inputs'].to(device)\n",
    "            labels = data['labels'].to(device)\n",
    "            # forward\n",
    "            model.train()\n",
    "            outputs = model(inputs.to(device))\n",
    "            # 損失\n",
    "            loss = criterion(outputs, labels).to(device)\n",
    "            # 勾配\n",
    "            optimizer.zero_grad()\n",
    "            loss.backward()\n",
    "            # 更新\n",
    "            optimizer.step()\n",
    "\n",
    "    valid_loss, valid_accuracy = loss_and_accuracy(model, valid_dataset, device, criterion=criterion)\n",
    "\n",
    "    return valid_loss "
   ]
  },
  {
   "cell_type": "code",
   "execution_count": 25,
   "metadata": {},
   "outputs": [
    {
     "name": "stderr",
     "output_type": "stream",
     "text": [
      "\u001b[32m[I 2022-05-29 04:45:59,289]\u001b[0m A new study created in memory with name: no-name-4ac77e54-9b76-45dd-bce2-657362cfb710\u001b[0m\n",
      "/usr/local/lib/python3.7/site-packages/optuna/distributions.py:548: UserWarning: The distribution is specified by [2, 16] and q=32, but the range is not divisible by `q`. It will be replaced by [2, 2.0].\n",
      "  low=low, old_high=old_high, high=high, step=q\n",
      "/usr/local/lib/python3.7/site-packages/ipykernel_launcher.py:20: UserWarning: To copy construct from a tensor, it is recommended to use sourceTensor.clone().detach() or sourceTensor.clone().detach().requires_grad_(True), rather than torch.tensor(sourceTensor).\n",
      "\u001b[32m[I 2022-05-29 04:49:45,084]\u001b[0m Trial 0 finished with value: 1.0401620420067386 and parameters: {'fc_num_layer': 2, 'num_filter_0': 50.0, 'num_filter_1': 150.0, 'num_filter_2': 150.0, 'drop_rate': 0.0, 'lr': 1.804867318741272e-05, 'batch_size': 2.0, 'optimizer': 'sgd'}. Best is trial 0 with value: 1.0401620420067386.\u001b[0m\n",
      "/usr/local/lib/python3.7/site-packages/optuna/distributions.py:548: UserWarning: The distribution is specified by [2, 16] and q=32, but the range is not divisible by `q`. It will be replaced by [2, 2.0].\n",
      "  low=low, old_high=old_high, high=high, step=q\n",
      "/usr/local/lib/python3.7/site-packages/ipykernel_launcher.py:20: UserWarning: To copy construct from a tensor, it is recommended to use sourceTensor.clone().detach() or sourceTensor.clone().detach().requires_grad_(True), rather than torch.tensor(sourceTensor).\n",
      "\u001b[33m[W 2022-05-29 04:53:05,062]\u001b[0m Trial 1 failed, because the objective function returned nan.\u001b[0m\n",
      "/usr/local/lib/python3.7/site-packages/optuna/distributions.py:548: UserWarning: The distribution is specified by [2, 16] and q=32, but the range is not divisible by `q`. It will be replaced by [2, 2.0].\n",
      "  low=low, old_high=old_high, high=high, step=q\n",
      "/usr/local/lib/python3.7/site-packages/ipykernel_launcher.py:20: UserWarning: To copy construct from a tensor, it is recommended to use sourceTensor.clone().detach() or sourceTensor.clone().detach().requires_grad_(True), rather than torch.tensor(sourceTensor).\n",
      "\u001b[32m[I 2022-05-29 05:01:19,648]\u001b[0m Trial 2 finished with value: 0.4827500138210992 and parameters: {'fc_num_layer': 5, 'num_filter_0': 100.0, 'num_filter_1': 200.0, 'num_filter_2': 50.0, 'num_filter_3': 200.0, 'num_filter_4': 50.0, 'num_filter_5': 150.0, 'drop_rate': 0.2, 'lr': 0.0001776912811062974, 'batch_size': 2.0, 'optimizer': 'adam'}. Best is trial 2 with value: 0.4827500138210992.\u001b[0m\n",
      "/usr/local/lib/python3.7/site-packages/optuna/distributions.py:548: UserWarning: The distribution is specified by [2, 16] and q=32, but the range is not divisible by `q`. It will be replaced by [2, 2.0].\n",
      "  low=low, old_high=old_high, high=high, step=q\n",
      "/usr/local/lib/python3.7/site-packages/ipykernel_launcher.py:20: UserWarning: To copy construct from a tensor, it is recommended to use sourceTensor.clone().detach() or sourceTensor.clone().detach().requires_grad_(True), rather than torch.tensor(sourceTensor).\n",
      "\u001b[32m[I 2022-05-29 05:05:58,792]\u001b[0m Trial 3 finished with value: 0.6699114834157955 and parameters: {'fc_num_layer': 1, 'num_filter_0': 50.0, 'num_filter_1': 100.0, 'drop_rate': 0.0, 'lr': 2.5749190539196837e-05, 'batch_size': 2.0, 'optimizer': 'adam'}. Best is trial 2 with value: 0.4827500138210992.\u001b[0m\n",
      "/usr/local/lib/python3.7/site-packages/optuna/distributions.py:548: UserWarning: The distribution is specified by [2, 16] and q=32, but the range is not divisible by `q`. It will be replaced by [2, 2.0].\n",
      "  low=low, old_high=old_high, high=high, step=q\n",
      "/usr/local/lib/python3.7/site-packages/ipykernel_launcher.py:20: UserWarning: To copy construct from a tensor, it is recommended to use sourceTensor.clone().detach() or sourceTensor.clone().detach().requires_grad_(True), rather than torch.tensor(sourceTensor).\n",
      "\u001b[32m[I 2022-05-29 05:14:26,973]\u001b[0m Trial 4 finished with value: 4622247.362678768 and parameters: {'fc_num_layer': 5, 'num_filter_0': 150.0, 'num_filter_1': 100.0, 'num_filter_2': 100.0, 'num_filter_3': 50.0, 'num_filter_4': 200.0, 'num_filter_5': 150.0, 'drop_rate': 0.30000000000000004, 'lr': 0.004771073076702335, 'batch_size': 2.0, 'optimizer': 'adam'}. Best is trial 2 with value: 0.4827500138210992.\u001b[0m\n",
      "/usr/local/lib/python3.7/site-packages/optuna/distributions.py:548: UserWarning: The distribution is specified by [2, 16] and q=32, but the range is not divisible by `q`. It will be replaced by [2, 2.0].\n",
      "  low=low, old_high=old_high, high=high, step=q\n",
      "/usr/local/lib/python3.7/site-packages/ipykernel_launcher.py:20: UserWarning: To copy construct from a tensor, it is recommended to use sourceTensor.clone().detach() or sourceTensor.clone().detach().requires_grad_(True), rather than torch.tensor(sourceTensor).\n",
      "\u001b[32m[I 2022-05-29 05:20:54,070]\u001b[0m Trial 5 finished with value: 17541447.76959654 and parameters: {'fc_num_layer': 3, 'num_filter_0': 200.0, 'num_filter_1': 100.0, 'num_filter_2': 100.0, 'num_filter_3': 50.0, 'drop_rate': 0.0, 'lr': 0.019176970002804078, 'batch_size': 2.0, 'optimizer': 'adam'}. Best is trial 2 with value: 0.4827500138210992.\u001b[0m\n",
      "/usr/local/lib/python3.7/site-packages/optuna/distributions.py:548: UserWarning: The distribution is specified by [2, 16] and q=32, but the range is not divisible by `q`. It will be replaced by [2, 2.0].\n",
      "  low=low, old_high=old_high, high=high, step=q\n",
      "/usr/local/lib/python3.7/site-packages/ipykernel_launcher.py:20: UserWarning: To copy construct from a tensor, it is recommended to use sourceTensor.clone().detach() or sourceTensor.clone().detach().requires_grad_(True), rather than torch.tensor(sourceTensor).\n",
      "\u001b[33m[W 2022-05-29 05:25:58,394]\u001b[0m Trial 6 failed, because the objective function returned nan.\u001b[0m\n",
      "/usr/local/lib/python3.7/site-packages/optuna/distributions.py:548: UserWarning: The distribution is specified by [2, 16] and q=32, but the range is not divisible by `q`. It will be replaced by [2, 2.0].\n",
      "  low=low, old_high=old_high, high=high, step=q\n",
      "/usr/local/lib/python3.7/site-packages/ipykernel_launcher.py:20: UserWarning: To copy construct from a tensor, it is recommended to use sourceTensor.clone().detach() or sourceTensor.clone().detach().requires_grad_(True), rather than torch.tensor(sourceTensor).\n",
      "\u001b[32m[I 2022-05-29 05:29:57,876]\u001b[0m Trial 7 finished with value: 0.9499676070216743 and parameters: {'fc_num_layer': 2, 'num_filter_0': 150.0, 'num_filter_1': 200.0, 'num_filter_2': 50.0, 'drop_rate': 0.0, 'lr': 0.000552600610354133, 'batch_size': 2.0, 'optimizer': 'sgd'}. Best is trial 2 with value: 0.4827500138210992.\u001b[0m\n",
      "/usr/local/lib/python3.7/site-packages/optuna/distributions.py:548: UserWarning: The distribution is specified by [2, 16] and q=32, but the range is not divisible by `q`. It will be replaced by [2, 2.0].\n",
      "  low=low, old_high=old_high, high=high, step=q\n",
      "/usr/local/lib/python3.7/site-packages/ipykernel_launcher.py:20: UserWarning: To copy construct from a tensor, it is recommended to use sourceTensor.clone().detach() or sourceTensor.clone().detach().requires_grad_(True), rather than torch.tensor(sourceTensor).\n",
      "\u001b[32m[I 2022-05-29 05:35:57,854]\u001b[0m Trial 8 finished with value: 0.5056639723075275 and parameters: {'fc_num_layer': 2, 'num_filter_0': 150.0, 'num_filter_1': 150.0, 'num_filter_2': 100.0, 'drop_rate': 0.30000000000000004, 'lr': 1.201042330895795e-05, 'batch_size': 2.0, 'optimizer': 'adam'}. Best is trial 2 with value: 0.4827500138210992.\u001b[0m\n",
      "/usr/local/lib/python3.7/site-packages/optuna/distributions.py:548: UserWarning: The distribution is specified by [2, 16] and q=32, but the range is not divisible by `q`. It will be replaced by [2, 2.0].\n",
      "  low=low, old_high=old_high, high=high, step=q\n",
      "/usr/local/lib/python3.7/site-packages/ipykernel_launcher.py:20: UserWarning: To copy construct from a tensor, it is recommended to use sourceTensor.clone().detach() or sourceTensor.clone().detach().requires_grad_(True), rather than torch.tensor(sourceTensor).\n",
      "\u001b[32m[I 2022-05-29 05:39:18,367]\u001b[0m Trial 9 finished with value: 0.5883908040177552 and parameters: {'fc_num_layer': 0, 'num_filter_0': 150.0, 'drop_rate': 0.1, 'lr': 0.004107802055995542, 'batch_size': 2.0, 'optimizer': 'sgd'}. Best is trial 2 with value: 0.4827500138210992.\u001b[0m\n",
      "/usr/local/lib/python3.7/site-packages/optuna/distributions.py:548: UserWarning: The distribution is specified by [2, 16] and q=32, but the range is not divisible by `q`. It will be replaced by [2, 2.0].\n",
      "  low=low, old_high=old_high, high=high, step=q\n",
      "/usr/local/lib/python3.7/site-packages/ipykernel_launcher.py:20: UserWarning: To copy construct from a tensor, it is recommended to use sourceTensor.clone().detach() or sourceTensor.clone().detach().requires_grad_(True), rather than torch.tensor(sourceTensor).\n",
      "\u001b[33m[W 2022-05-29 05:42:39,229]\u001b[0m Trial 10 failed, because the objective function returned nan.\u001b[0m\n",
      "/usr/local/lib/python3.7/site-packages/optuna/distributions.py:548: UserWarning: The distribution is specified by [2, 16] and q=32, but the range is not divisible by `q`. It will be replaced by [2, 2.0].\n",
      "  low=low, old_high=old_high, high=high, step=q\n",
      "/usr/local/lib/python3.7/site-packages/ipykernel_launcher.py:20: UserWarning: To copy construct from a tensor, it is recommended to use sourceTensor.clone().detach() or sourceTensor.clone().detach().requires_grad_(True), rather than torch.tensor(sourceTensor).\n",
      "\u001b[32m[I 2022-05-29 05:46:58,391]\u001b[0m Trial 11 finished with value: 0.5014450040361329 and parameters: {'fc_num_layer': 2, 'num_filter_0': 150.0, 'num_filter_1': 150.0, 'num_filter_2': 150.0, 'drop_rate': 0.30000000000000004, 'lr': 0.0003124867383645399, 'batch_size': 2.0, 'optimizer': 'sgd'}. Best is trial 2 with value: 0.4827500138210992.\u001b[0m\n",
      "/usr/local/lib/python3.7/site-packages/optuna/distributions.py:548: UserWarning: The distribution is specified by [2, 16] and q=32, but the range is not divisible by `q`. It will be replaced by [2, 2.0].\n",
      "  low=low, old_high=old_high, high=high, step=q\n",
      "/usr/local/lib/python3.7/site-packages/ipykernel_launcher.py:20: UserWarning: To copy construct from a tensor, it is recommended to use sourceTensor.clone().detach() or sourceTensor.clone().detach().requires_grad_(True), rather than torch.tensor(sourceTensor).\n",
      "\u001b[32m[I 2022-05-29 05:55:16,168]\u001b[0m Trial 12 finished with value: 327199519620014.6 and parameters: {'fc_num_layer': 5, 'num_filter_0': 50.0, 'num_filter_1': 150.0, 'num_filter_2': 150.0, 'num_filter_3': 100.0, 'num_filter_4': 150.0, 'num_filter_5': 200.0, 'drop_rate': 0.5, 'lr': 0.06059786999370176, 'batch_size': 2.0, 'optimizer': 'adam'}. Best is trial 2 with value: 0.4827500138210992.\u001b[0m\n",
      "/usr/local/lib/python3.7/site-packages/optuna/distributions.py:548: UserWarning: The distribution is specified by [2, 16] and q=32, but the range is not divisible by `q`. It will be replaced by [2, 2.0].\n",
      "  low=low, old_high=old_high, high=high, step=q\n",
      "/usr/local/lib/python3.7/site-packages/ipykernel_launcher.py:20: UserWarning: To copy construct from a tensor, it is recommended to use sourceTensor.clone().detach() or sourceTensor.clone().detach().requires_grad_(True), rather than torch.tensor(sourceTensor).\n",
      "\u001b[32m[I 2022-05-29 06:02:39,738]\u001b[0m Trial 13 finished with value: 0.6221032332437193 and parameters: {'fc_num_layer': 4, 'num_filter_0': 100.0, 'num_filter_1': 200.0, 'num_filter_2': 50.0, 'num_filter_3': 200.0, 'num_filter_4': 50.0, 'drop_rate': 0.5, 'lr': 0.00012515627158656454, 'batch_size': 2.0, 'optimizer': 'adam'}. Best is trial 2 with value: 0.4827500138210992.\u001b[0m\n",
      "/usr/local/lib/python3.7/site-packages/optuna/distributions.py:548: UserWarning: The distribution is specified by [2, 16] and q=32, but the range is not divisible by `q`. It will be replaced by [2, 2.0].\n",
      "  low=low, old_high=old_high, high=high, step=q\n",
      "/usr/local/lib/python3.7/site-packages/ipykernel_launcher.py:20: UserWarning: To copy construct from a tensor, it is recommended to use sourceTensor.clone().detach() or sourceTensor.clone().detach().requires_grad_(True), rather than torch.tensor(sourceTensor).\n",
      "\u001b[32m[I 2022-05-29 06:07:12,088]\u001b[0m Trial 14 finished with value: 0.5421672956551958 and parameters: {'fc_num_layer': 3, 'num_filter_0': 100.0, 'num_filter_1': 200.0, 'num_filter_2': 200.0, 'num_filter_3': 200.0, 'drop_rate': 0.2, 'lr': 0.0003108056372554804, 'batch_size': 2.0, 'optimizer': 'sgd'}. Best is trial 2 with value: 0.4827500138210992.\u001b[0m\n",
      "/usr/local/lib/python3.7/site-packages/optuna/distributions.py:548: UserWarning: The distribution is specified by [2, 16] and q=32, but the range is not divisible by `q`. It will be replaced by [2, 2.0].\n",
      "  low=low, old_high=old_high, high=high, step=q\n",
      "/usr/local/lib/python3.7/site-packages/ipykernel_launcher.py:20: UserWarning: To copy construct from a tensor, it is recommended to use sourceTensor.clone().detach() or sourceTensor.clone().detach().requires_grad_(True), rather than torch.tensor(sourceTensor).\n",
      "\u001b[32m[I 2022-05-29 06:12:30,432]\u001b[0m Trial 15 finished with value: 0.7251229701803964 and parameters: {'fc_num_layer': 4, 'num_filter_0': 200.0, 'num_filter_1': 50.0, 'num_filter_2': 200.0, 'num_filter_3': 150.0, 'num_filter_4': 50.0, 'drop_rate': 0.2, 'lr': 0.00011342365768749203, 'batch_size': 2.0, 'optimizer': 'sgd'}. Best is trial 2 with value: 0.4827500138210992.\u001b[0m\n",
      "/usr/local/lib/python3.7/site-packages/optuna/distributions.py:548: UserWarning: The distribution is specified by [2, 16] and q=32, but the range is not divisible by `q`. It will be replaced by [2, 2.0].\n",
      "  low=low, old_high=old_high, high=high, step=q\n",
      "/usr/local/lib/python3.7/site-packages/ipykernel_launcher.py:20: UserWarning: To copy construct from a tensor, it is recommended to use sourceTensor.clone().detach() or sourceTensor.clone().detach().requires_grad_(True), rather than torch.tensor(sourceTensor).\n",
      "\u001b[32m[I 2022-05-29 06:16:01,298]\u001b[0m Trial 16 finished with value: 0.5004462259968531 and parameters: {'fc_num_layer': 1, 'num_filter_0': 100.0, 'num_filter_1': 200.0, 'drop_rate': 0.4, 'lr': 0.00203914485962515, 'batch_size': 2.0, 'optimizer': 'sgd'}. Best is trial 2 with value: 0.4827500138210992.\u001b[0m\n",
      "/usr/local/lib/python3.7/site-packages/optuna/distributions.py:548: UserWarning: The distribution is specified by [2, 16] and q=32, but the range is not divisible by `q`. It will be replaced by [2, 2.0].\n",
      "  low=low, old_high=old_high, high=high, step=q\n",
      "/usr/local/lib/python3.7/site-packages/ipykernel_launcher.py:20: UserWarning: To copy construct from a tensor, it is recommended to use sourceTensor.clone().detach() or sourceTensor.clone().detach().requires_grad_(True), rather than torch.tensor(sourceTensor).\n",
      "\u001b[32m[I 2022-05-29 06:18:58,374]\u001b[0m Trial 17 finished with value: 0.46038509510860315 and parameters: {'fc_num_layer': 0, 'num_filter_0': 100.0, 'drop_rate': 0.4, 'lr': 0.0013390727119242613, 'batch_size': 2.0, 'optimizer': 'sgd'}. Best is trial 17 with value: 0.46038509510860315.\u001b[0m\n",
      "/usr/local/lib/python3.7/site-packages/optuna/distributions.py:548: UserWarning: The distribution is specified by [2, 16] and q=32, but the range is not divisible by `q`. It will be replaced by [2, 2.0].\n",
      "  low=low, old_high=old_high, high=high, step=q\n",
      "/usr/local/lib/python3.7/site-packages/ipykernel_launcher.py:20: UserWarning: To copy construct from a tensor, it is recommended to use sourceTensor.clone().detach() or sourceTensor.clone().detach().requires_grad_(True), rather than torch.tensor(sourceTensor).\n",
      "\u001b[32m[I 2022-05-29 06:22:58,350]\u001b[0m Trial 18 finished with value: 3.3694716421384534 and parameters: {'fc_num_layer': 0, 'num_filter_0': 100.0, 'drop_rate': 0.4, 'lr': 0.001281887994566216, 'batch_size': 2.0, 'optimizer': 'adam'}. Best is trial 17 with value: 0.46038509510860315.\u001b[0m\n",
      "/usr/local/lib/python3.7/site-packages/optuna/distributions.py:548: UserWarning: The distribution is specified by [2, 16] and q=32, but the range is not divisible by `q`. It will be replaced by [2, 2.0].\n",
      "  low=low, old_high=old_high, high=high, step=q\n",
      "/usr/local/lib/python3.7/site-packages/ipykernel_launcher.py:20: UserWarning: To copy construct from a tensor, it is recommended to use sourceTensor.clone().detach() or sourceTensor.clone().detach().requires_grad_(True), rather than torch.tensor(sourceTensor).\n",
      "\u001b[32m[I 2022-05-29 06:30:24,708]\u001b[0m Trial 19 finished with value: 0.5718615498004618 and parameters: {'fc_num_layer': 4, 'num_filter_0': 100.0, 'num_filter_1': 50.0, 'num_filter_2': 50.0, 'num_filter_3': 150.0, 'num_filter_4': 100.0, 'drop_rate': 0.4, 'lr': 6.268931697912964e-05, 'batch_size': 2.0, 'optimizer': 'adam'}. Best is trial 17 with value: 0.46038509510860315.\u001b[0m\n",
      "/usr/local/lib/python3.7/site-packages/optuna/distributions.py:548: UserWarning: The distribution is specified by [2, 16] and q=32, but the range is not divisible by `q`. It will be replaced by [2, 2.0].\n",
      "  low=low, old_high=old_high, high=high, step=q\n",
      "/usr/local/lib/python3.7/site-packages/ipykernel_launcher.py:20: UserWarning: To copy construct from a tensor, it is recommended to use sourceTensor.clone().detach() or sourceTensor.clone().detach().requires_grad_(True), rather than torch.tensor(sourceTensor).\n",
      "\u001b[32m[I 2022-05-29 06:33:55,815]\u001b[0m Trial 20 finished with value: 1.1376197526782632 and parameters: {'fc_num_layer': 1, 'num_filter_0': 50.0, 'num_filter_1': 200.0, 'drop_rate': 0.2, 'lr': 0.011841740251934144, 'batch_size': 2.0, 'optimizer': 'sgd'}. Best is trial 17 with value: 0.46038509510860315.\u001b[0m\n",
      "/usr/local/lib/python3.7/site-packages/optuna/distributions.py:548: UserWarning: The distribution is specified by [2, 16] and q=32, but the range is not divisible by `q`. It will be replaced by [2, 2.0].\n",
      "  low=low, old_high=old_high, high=high, step=q\n",
      "/usr/local/lib/python3.7/site-packages/ipykernel_launcher.py:20: UserWarning: To copy construct from a tensor, it is recommended to use sourceTensor.clone().detach() or sourceTensor.clone().detach().requires_grad_(True), rather than torch.tensor(sourceTensor).\n",
      "\u001b[32m[I 2022-05-29 06:42:11,756]\u001b[0m Trial 21 finished with value: 2.7129764549460575 and parameters: {'fc_num_layer': 5, 'num_filter_0': 100.0, 'num_filter_1': 150.0, 'num_filter_2': 50.0, 'num_filter_3': 200.0, 'num_filter_4': 100.0, 'num_filter_5': 50.0, 'drop_rate': 0.1, 'lr': 0.0008239842469197133, 'batch_size': 2.0, 'optimizer': 'adam'}. Best is trial 17 with value: 0.46038509510860315.\u001b[0m\n",
      "/usr/local/lib/python3.7/site-packages/optuna/distributions.py:548: UserWarning: The distribution is specified by [2, 16] and q=32, but the range is not divisible by `q`. It will be replaced by [2, 2.0].\n",
      "  low=low, old_high=old_high, high=high, step=q\n",
      "/usr/local/lib/python3.7/site-packages/ipykernel_launcher.py:20: UserWarning: To copy construct from a tensor, it is recommended to use sourceTensor.clone().detach() or sourceTensor.clone().detach().requires_grad_(True), rather than torch.tensor(sourceTensor).\n",
      "\u001b[32m[I 2022-05-29 06:45:09,461]\u001b[0m Trial 22 finished with value: 0.8454207389439544 and parameters: {'fc_num_layer': 0, 'num_filter_0': 50.0, 'drop_rate': 0.1, 'lr': 4.5772994342953375e-05, 'batch_size': 2.0, 'optimizer': 'sgd'}. Best is trial 17 with value: 0.46038509510860315.\u001b[0m\n",
      "/usr/local/lib/python3.7/site-packages/optuna/distributions.py:548: UserWarning: The distribution is specified by [2, 16] and q=32, but the range is not divisible by `q`. It will be replaced by [2, 2.0].\n",
      "  low=low, old_high=old_high, high=high, step=q\n",
      "/usr/local/lib/python3.7/site-packages/ipykernel_launcher.py:20: UserWarning: To copy construct from a tensor, it is recommended to use sourceTensor.clone().detach() or sourceTensor.clone().detach().requires_grad_(True), rather than torch.tensor(sourceTensor).\n",
      "\u001b[32m[I 2022-05-29 06:49:39,878]\u001b[0m Trial 23 finished with value: 0.6612258784661245 and parameters: {'fc_num_layer': 3, 'num_filter_0': 100.0, 'num_filter_1': 100.0, 'num_filter_2': 100.0, 'num_filter_3': 100.0, 'drop_rate': 0.4, 'lr': 0.0002010719357425133, 'batch_size': 2.0, 'optimizer': 'sgd'}. Best is trial 17 with value: 0.46038509510860315.\u001b[0m\n"
     ]
    }
   ],
   "source": [
    "# 最適化\n",
    "study = optuna.create_study()\n",
    "study.optimize(objective, timeout=7200)"
   ]
  },
  {
   "cell_type": "code",
   "execution_count": 26,
   "metadata": {},
   "outputs": [
    {
     "name": "stdout",
     "output_type": "stream",
     "text": [
      "best value 0.46038509510860315\n",
      "params {'fc_num_layer': 0, 'num_filter_0': 100.0, 'drop_rate': 0.4, 'lr': 0.0013390727119242613, 'batch_size': 2.0, 'optimizer': 'sgd'}\n"
     ]
    }
   ],
   "source": [
    "# 結果\n",
    "print('best value',study.best_value)\n",
    "print('params',study.best_params)"
   ]
  },
  {
   "cell_type": "code",
   "execution_count": 32,
   "metadata": {},
   "outputs": [
    {
     "data": {
      "image/png": "[encoded data removed]",
      "text/plain": [
       "<Figure size 1008x360 with 2 Axes>"
      ]
     },
     "metadata": {
      "needs_background": "light"
     },
     "output_type": "display_data"
    }
   ],
   "source": [
    "# best hyperparams\n",
    "fc_num_layer = int(study.best_params['fc_num_layer'])\n",
    "out_channels = [int(study.best_params['num_filter_0'])] + [4]\n",
    "drop_rate = study.best_params['drop_rate']\n",
    "lr = study.best_params['lr']\n",
    "batch_size = int(study.best_params['batch_size'])\n",
    "# モデルの定義\n",
    "model = CNN_opt(vocab_size, padding_idx, fc_num_layer, out_channels, drop_rate).to(device)\n",
    "#optimizer\n",
    "optimizer = torch.optim.SGD(model.parameters(), lr=lr)\n",
    "\n",
    "# 損失関数の定義\n",
    "criterion = nn.CrossEntropyLoss()\n",
    "\n",
    "train_losses = [] # 学習データの損失\n",
    "train_accuracies = [] # 学習データの正解率\n",
    "valid_losses = [] # 検証データの損失\n",
    "valid_accuracies = [] # 検証データの正解率\n",
    "\n",
    "loader = DataLoader(train_dataset, batch_size=batch_size, shuffle=True)\n",
    "\n",
    "# モデルの学習\n",
    "for epoch in range(20):\n",
    "    for data in loader:\n",
    "        # デバイスの指定\n",
    "        inputs = data['inputs'].to(device)\n",
    "        labels = data['labels'].to(device)\n",
    "        # forward\n",
    "        model.train()\n",
    "        outputs = model(inputs.to(device))\n",
    "        # 損失\n",
    "        loss = criterion(outputs, labels).to(device)\n",
    "        # 勾配\n",
    "        optimizer.zero_grad()\n",
    "        loss.backward()\n",
    "        # 更新\n",
    "        optimizer.step()\n",
    "\n",
    "    # 学習の進捗\n",
    "    train_loss, train_accuracy = loss_and_accuracy(model, train_dataset, device, criterion=criterion)\n",
    "    valid_loss, valid_accuracy = loss_and_accuracy(model, valid_dataset, device, criterion=criterion)\n",
    "\n",
    "    # 保存\n",
    "    train_losses.append(train_loss)\n",
    "    train_accuracies.append(train_accuracy)\n",
    "    valid_losses.append(valid_loss)\n",
    "    valid_accuracies.append(valid_accuracy)\n",
    "\n",
    "    # グラフの描画\n",
    "    live_plot(train_losses, train_accuracies, valid_losses, valid_accuracies)\n",
    "\n",
    "# 損失の算出\n",
    "valid_loss, valid_accuracy = loss_and_accuracy(model, valid_dataset, device, criterion=criterion)"
   ]
  },
  {
   "cell_type": "markdown",
   "metadata": {},
   "source": [
    "## 89. 事前学習済み言語モデルからの転移学習\n",
    "***\n",
    "事前学習済み言語モデル（例えばBERTなど）を出発点として，ニュース記事見出しをカテゴリに分類するモデルを構築せよ．"
   ]
  },
  {
   "cell_type": "code",
   "execution_count": 6,
   "metadata": {},
   "outputs": [],
   "source": [
    "from transformers import BertTokenizer, BertModel, BertForSequenceClassification\n",
    "import pytorch_lightning as pl\n",
    "model_name = 'bert-base-cased-finetuned-mrpc'\n",
    "tokenizer = BertTokenizer.from_pretrained(model_name)"
   ]
  },
  {
   "cell_type": "markdown",
   "metadata": {},
   "source": [
    "[Pytorch Lightningを使用したBERT文書分類モデルの実装](https://qiita.com/tchih11/items/7e97db29b95cf08fdda0)"
   ]
  },
  {
   "cell_type": "code",
   "execution_count": 7,
   "metadata": {},
   "outputs": [],
   "source": [
    "from torch.utils.data import DataLoader, Dataset\n",
    "class BertDataset(Dataset):\n",
    "    \"\"\"\n",
    "    DataFrameを下記のitemを保持するDatasetに変換。\n",
    "    text(原文)、input_ids(tokenizeされた文章)、attention_mask、labels(ラベル)\n",
    "    \"\"\"\n",
    "\n",
    "    def __init__(self, data, tokenizer, max_len):\n",
    "        self.data = data\n",
    "        self.tokenizer = tokenizer\n",
    "        self.max_len = max_len\n",
    "\n",
    "    def __len__(self):\n",
    "        return len(self.data)\n",
    "\n",
    "    def __getitem__(self, index):\n",
    "        data_row = self.data.iloc[index]\n",
    "        text = data_row['title']\n",
    "        category_dict = {'b': 0, 'e': 1, 't':2, 'm':3}\n",
    "        labels = torch.tensor(category_dict[data_row['category']])\n",
    "\n",
    "        encoding = self.tokenizer.encode_plus(\n",
    "            text,\n",
    "            add_special_tokens=True,\n",
    "            max_length=self.max_len,\n",
    "            padding=\"max_length\",\n",
    "            truncation=True,\n",
    "            return_attention_mask=True,\n",
    "            return_tensors='pt',\n",
    "        )\n",
    "\n",
    "        return dict(\n",
    "            text=text,\n",
    "            input_ids=encoding[\"input_ids\"].flatten(),\n",
    "            attention_mask=encoding[\"attention_mask\"].flatten(),\n",
    "            labels=labels\n",
    "        )\n",
    "\n",
    "class CreateDataModule(pl.LightningDataModule):\n",
    "    \"\"\"\n",
    "    DataFrameからモデリング時に使用するDataModuleを作成\n",
    "    \"\"\"\n",
    "    def __init__(self, train_df, valid_df, test_df, batch_size=16, pretrained_model='bert-base-cased-finetuned-mrpc'):\n",
    "        super().__init__()\n",
    "        self.train_df = train_df\n",
    "        self.valid_df = valid_df\n",
    "        self.test_df = test_df\n",
    "        self.batch_size = batch_size\n",
    "        self.max_len = train_df['title'].str.len().max()\n",
    "        self.tokenizer = BertTokenizer.from_pretrained(pretrained_model)\n",
    "\n",
    "    def setup(self, stage=None):\n",
    "        self.train_dataset = BertDataset(self.train_df, self.tokenizer, self.max_len)\n",
    "        self.vaild_dataset = BertDataset(self.valid_df, self.tokenizer, self.max_len)\n",
    "        self.test_dataset = BertDataset(self.test_df, self.tokenizer, self.max_len)\n",
    "\n",
    "    def train_dataloader(self):\n",
    "        return DataLoader(self.train_dataset, batch_size=self.batch_size, shuffle=True)\n",
    "\n",
    "    def val_dataloader(self):\n",
    "        return DataLoader(self.vaild_dataset, batch_size=self.batch_size)\n",
    "\n",
    "    def test_dataloader(self):\n",
    "        return DataLoader(self.test_dataset, batch_size=self.batch_size)\n"
   ]
  },
  {
   "cell_type": "code",
   "execution_count": 8,
   "metadata": {},
   "outputs": [],
   "source": [
    "# 作ったDataFrameを渡してsetup\n",
    "data_module = CreateDataModule(train,valid,test)\n",
    "data_module.setup()"
   ]
  },
  {
   "cell_type": "code",
   "execution_count": 10,
   "metadata": {},
   "outputs": [],
   "source": [
    "class TextClassifier(pl.LightningModule):\n",
    "    def __init__(self, n_classes: int, n_epochs=None, \n",
    "                 pretrained_model='bert-base-cased-finetuned-mrpc'):\n",
    "        super().__init__()\n",
    "\n",
    "        # モデルの構造\n",
    "        self.bert = BertModel.from_pretrained(\n",
    "            pretrained_model, return_dict=True)\n",
    "        self.classifier = nn.Linear(self.bert.config.hidden_size, n_classes)\n",
    "        self.n_epochs = n_epochs\n",
    "        self.criterion = nn.CrossEntropyLoss()\n",
    "\n",
    "        # BertLayerモジュールの最後を勾配計算ありに変更\n",
    "        for param in self.bert.parameters():\n",
    "            param.requires_grad = False\n",
    "        for param in self.bert.encoder.layer[-1].parameters():\n",
    "            param.requires_grad = True\n",
    "\n",
    "    # 順伝搬 nn.Moduleのforwardと同じ. 主に予測で使用する。\n",
    "    def forward(self, input_ids, attention_mask, labels=None):\n",
    "        output = self.bert(input_ids, attention_mask=attention_mask)\n",
    "        preds = self.classifier(output.pooler_output)\n",
    "        loss = 0\n",
    "        if labels is not None:\n",
    "            loss = self.criterion(preds, labels)\n",
    "        return loss, preds\n",
    "\n",
    "    # trainのミニバッチに対して行う処理\n",
    "    def training_step(self, batch, batch_idx):\n",
    "        loss, preds = self.forward(input_ids=batch[\"input_ids\"],\n",
    "                                    attention_mask=batch[\"attention_mask\"],\n",
    "                                    labels=batch[\"labels\"])\n",
    "        return {'loss': loss,\n",
    "                'batch_preds': preds,\n",
    "                'batch_labels': batch[\"labels\"]}\n",
    "\n",
    "    # validation、testでもtrain_stepと同じ処理を行う\n",
    "    def validation_step(self, batch, batch_idx):\n",
    "        loss, preds = self.forward(input_ids=batch[\"input_ids\"],\n",
    "                                    attention_mask=batch[\"attention_mask\"],\n",
    "                                    labels=batch[\"labels\"])\n",
    "        return {'loss': loss,\n",
    "                'batch_preds': preds,\n",
    "                'batch_labels': batch[\"labels\"]}\n",
    "\n",
    "    def test_step(self, batch, batch_idx):\n",
    "        loss, preds = self.forward(input_ids=batch[\"input_ids\"],\n",
    "                                    attention_mask=batch[\"attention_mask\"],\n",
    "                                    labels=batch[\"labels\"])\n",
    "        return {'loss': loss,\n",
    "                'batch_preds': preds,\n",
    "                'batch_labels': batch[\"labels\"]}\n",
    "\n",
    "    # epoch終了時にvalidationのlossとaccuracyを記録\n",
    "    def validation_epoch_end(self, outputs, mode=\"val\"):\n",
    "        # loss計算\n",
    "        epoch_preds = torch.cat([x['batch_preds'] for x in outputs])\n",
    "        epoch_labels = torch.cat([x['batch_labels'] for x in outputs])\n",
    "        epoch_loss = self.criterion(epoch_preds, epoch_labels)\n",
    "        self.log(f\"{mode}_loss\", epoch_loss, logger=True)\n",
    "\n",
    "        # accuracy計算\n",
    "        num_correct = (epoch_preds.argmax(dim=1) == epoch_labels).sum().item()\n",
    "        epoch_accuracy = num_correct / len(epoch_labels)\n",
    "        self.log(f\"{mode}_accuracy\", epoch_accuracy, logger=True)\n",
    "\n",
    "    # testデータのlossとaccuracyを算出（validationの使いまわし）\n",
    "    # test epoch終了ごとに呼び出される\n",
    "    def test_epoch_end(self, outputs):\n",
    "        return self.validation_epoch_end(outputs, \"test\")\n",
    "\n",
    "    # optimizerの設定\n",
    "    def configure_optimizers(self):\n",
    "        # pretrainされているbert最終層のlrは小さめ、pretrainされていない分類層のlrは大きめに設定\n",
    "        optimizer = optim.Adam([\n",
    "            {'params': self.bert.encoder.layer[-1].parameters(), 'lr': 5e-5},\n",
    "            {'params': self.classifier.parameters(), 'lr': 1e-4}\n",
    "        ])\n",
    "\n",
    "        return [optimizer]"
   ]
  },
  {
   "cell_type": "code",
   "execution_count": 19,
   "metadata": {},
   "outputs": [
    {
     "name": "stderr",
     "output_type": "stream",
     "text": [
      "Some weights of the model checkpoint at bert-base-cased-finetuned-mrpc were not used when initializing BertModel: ['classifier.weight', 'classifier.bias']\n",
      "- This IS expected if you are initializing BertModel from the checkpoint of a model trained on another task or with another architecture (e.g. initializing a BertForSequenceClassification model from a BertForPreTraining model).\n",
      "- This IS NOT expected if you are initializing BertModel from the checkpoint of a model that you expect to be exactly identical (initializing a BertForSequenceClassification model from a BertForSequenceClassification model).\n",
      "/usr/local/lib/python3.7/site-packages/pytorch_lightning/trainer/connectors/callback_connector.py:97: LightningDeprecationWarning: Setting `Trainer(progress_bar_refresh_rate=30)` is deprecated in v1.5 and will be removed in v1.7. Please pass `pytorch_lightning.callbacks.progress.TQDMProgressBar` with `refresh_rate` directly to the Trainer's `callbacks` argument instead. Or, to disable the progress bar pass `enable_progress_bar = False` to the Trainer.\n",
      "  f\"Setting `Trainer(progress_bar_refresh_rate={progress_bar_refresh_rate})` is deprecated in v1.5 and\"\n",
      "GPU available: True, used: True\n",
      "TPU available: False, using: 0 TPU cores\n",
      "IPU available: False, using: 0 IPUs\n",
      "HPU available: False, using: 0 HPUs\n"
     ]
    }
   ],
   "source": [
    "# epoch数\n",
    "N_EPOCHS = 10\n",
    "\n",
    "# モデルインスタンスを作成\n",
    "model = TextClassifier(n_classes=4,n_epochs=N_EPOCHS)\n",
    "\n",
    "# EarlyStoppingの設定\n",
    "# 3epochで'val_loss'が0.05以上減少しなければ学習をストップ\n",
    "early_stop_callback = EarlyStopping(\n",
    "    monitor='val_loss', \n",
    "    min_delta=0.05, \n",
    "    patience=3, \n",
    "    mode='min')\n",
    "\n",
    "# モデルの保存先\n",
    "# epoch数に応じて、「epoch=0.ckpt」のような形で指定したディレクトリに保存される\n",
    "checkpoint_callback = ModelCheckpoint(\n",
    "    dirpath=\"./checkpoints\",\n",
    "    filename='{epoch}',\n",
    "    verbose=True,\n",
    "    monitor='val_loss',\n",
    "    mode='min'\n",
    ")\n",
    "\n",
    "# Trainerに設定\n",
    "trainer = pl.Trainer(max_epochs=N_EPOCHS,\n",
    "                     gpus=1,\n",
    "                     accelerator=\"gpu\",\n",
    "                     progress_bar_refresh_rate=30,\n",
    "                    #  callbacks=[early_stop_callback])\n",
    "                     callbacks=[checkpoint_callback, early_stop_callback])"
   ]
  },
  {
   "cell_type": "code",
   "execution_count": 20,
   "metadata": {},
   "outputs": [
    {
     "name": "stderr",
     "output_type": "stream",
     "text": [
      "LOCAL_RANK: 0 - CUDA_VISIBLE_DEVICES: [0]\n",
      "\n",
      "  | Name       | Type             | Params\n",
      "------------------------------------------------\n",
      "0 | bert       | BertModel        | 108 M \n",
      "1 | classifier | Linear           | 3.1 K \n",
      "2 | criterion  | CrossEntropyLoss | 0     \n",
      "------------------------------------------------\n",
      "7.1 M     Trainable params\n",
      "101 M     Non-trainable params\n",
      "108 M     Total params\n",
      "433.253   Total estimated model params size (MB)\n"
     ]
    },
    {
     "name": "stdout",
     "output_type": "stream",
     "text": [
      "                                                                           "
     ]
    },
    {
     "name": "stderr",
     "output_type": "stream",
     "text": [
      "/usr/local/lib/python3.7/site-packages/pytorch_lightning/trainer/connectors/data_connector.py:245: PossibleUserWarning: The dataloader, val_dataloader 0, does not have many workers which may be a bottleneck. Consider increasing the value of the `num_workers` argument` (try 96 which is the number of cpus on this machine) in the `DataLoader` init to improve performance.\n",
      "  category=PossibleUserWarning,\n",
      "/usr/local/lib/python3.7/site-packages/pytorch_lightning/trainer/connectors/data_connector.py:245: PossibleUserWarning: The dataloader, train_dataloader, does not have many workers which may be a bottleneck. Consider increasing the value of the `num_workers` argument` (try 96 which is the number of cpus on this machine) in the `DataLoader` init to improve performance.\n",
      "  category=PossibleUserWarning,\n"
     ]
    },
    {
     "name": "stdout",
     "output_type": "stream",
     "text": [
      "Epoch 0: 100%|██████████| 751/751 [00:19<00:00, 37.76it/s, loss=0.475, v_num=1]"
     ]
    },
    {
     "name": "stderr",
     "output_type": "stream",
     "text": [
      "Epoch 0, global step 667: 'val_loss' reached 0.40353 (best 0.40353), saving model to '/workspace/NLP100knock/checkpoints/epoch=0.ckpt' as top 1\n"
     ]
    },
    {
     "name": "stdout",
     "output_type": "stream",
     "text": [
      "Epoch 1: 100%|██████████| 751/751 [00:19<00:00, 38.57it/s, loss=0.336, v_num=1]"
     ]
    },
    {
     "name": "stderr",
     "output_type": "stream",
     "text": [
      "Epoch 1, global step 1334: 'val_loss' reached 0.29050 (best 0.29050), saving model to '/workspace/NLP100knock/checkpoints/epoch=1.ckpt' as top 1\n"
     ]
    },
    {
     "name": "stdout",
     "output_type": "stream",
     "text": [
      "Epoch 2: 100%|██████████| 751/751 [00:19<00:00, 38.73it/s, loss=0.277, v_num=1]"
     ]
    },
    {
     "name": "stderr",
     "output_type": "stream",
     "text": [
      "Epoch 2, global step 2001: 'val_loss' reached 0.28822 (best 0.28822), saving model to '/workspace/NLP100knock/checkpoints/epoch=2.ckpt' as top 1\n"
     ]
    },
    {
     "name": "stdout",
     "output_type": "stream",
     "text": [
      "Epoch 3: 100%|██████████| 751/751 [00:19<00:00, 38.68it/s, loss=0.251, v_num=1]"
     ]
    },
    {
     "name": "stderr",
     "output_type": "stream",
     "text": [
      "Epoch 3, global step 2668: 'val_loss' was not in top 1\n"
     ]
    },
    {
     "name": "stdout",
     "output_type": "stream",
     "text": [
      "Epoch 4: 100%|██████████| 751/751 [00:19<00:00, 38.77it/s, loss=0.232, v_num=1]"
     ]
    },
    {
     "name": "stderr",
     "output_type": "stream",
     "text": [
      "Epoch 4, global step 3335: 'val_loss' reached 0.28447 (best 0.28447), saving model to '/workspace/NLP100knock/checkpoints/epoch=4.ckpt' as top 1\n"
     ]
    },
    {
     "name": "stdout",
     "output_type": "stream",
     "text": [
      "Epoch 4: 100%|██████████| 751/751 [00:19<00:00, 37.63it/s, loss=0.232, v_num=1]\n"
     ]
    }
   ],
   "source": [
    "# 学習\n",
    "trainer.fit(model, data_module)"
   ]
  },
  {
   "cell_type": "code",
   "execution_count": 34,
   "metadata": {},
   "outputs": [
    {
     "name": "stderr",
     "output_type": "stream",
     "text": [
      "LOCAL_RANK: 0 - CUDA_VISIBLE_DEVICES: [0]\n",
      "/usr/local/lib/python3.7/site-packages/pytorch_lightning/trainer/connectors/data_connector.py:245: PossibleUserWarning: The dataloader, test_dataloader 0, does not have many workers which may be a bottleneck. Consider increasing the value of the `num_workers` argument` (try 96 which is the number of cpus on this machine) in the `DataLoader` init to improve performance.\n",
      "  category=PossibleUserWarning,\n"
     ]
    },
    {
     "name": "stdout",
     "output_type": "stream",
     "text": [
      "Testing DataLoader 0: 100%|██████████| 84/84 [00:01<00:00, 57.54it/s]\n",
      "────────────────────────────────────────────────────────────────────────────────────────────────────────────────────────\n",
      "       Test metric             DataLoader 0\n",
      "────────────────────────────────────────────────────────────────────────────────────────────────────────────────────────\n",
      "      test_accuracy         0.9025487303733826\n",
      "        test_loss           0.2871730327606201\n",
      "────────────────────────────────────────────────────────────────────────────────────────────────────────────────────────\n"
     ]
    },
    {
     "data": {
      "text/plain": [
       "[{'test_loss': 0.2871730327606201, 'test_accuracy': 0.9025487303733826}]"
      ]
     },
     "execution_count": 34,
     "metadata": {},
     "output_type": "execute_result"
    }
   ],
   "source": [
    "# BERTの最終損失と正解率\n",
    "trainer.test(model, data_module)"
   ]
  }
 ],
 "metadata": {
  "kernelspec": {
   "display_name": "Python 3 (ipykernel)",
   "language": "python",
   "name": "python3"
  },
  "language_info": {
   "codemirror_mode": {
    "name": "ipython",
    "version": 3
   },
   "file_extension": ".py",
   "mimetype": "text/x-python",
   "name": "python",
   "nbconvert_exporter": "python",
   "pygments_lexer": "ipython3",
   "version": "3.7.12"
  },
  "orig_nbformat": 4
 },
 "nbformat": 4,
 "nbformat_minor": 2
}
